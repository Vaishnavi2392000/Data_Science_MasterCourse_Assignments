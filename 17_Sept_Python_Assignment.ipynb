{
 "cells": [
  {
   "cell_type": "markdown",
   "id": "e3f9825d",
   "metadata": {},
   "source": [
    "## For Loop"
   ]
  },
  {
   "cell_type": "markdown",
   "id": "5b3fe4ef",
   "metadata": {},
   "source": [
    "#### 1.Write a Python program to print numbers from 1 to 10 using a for loop."
   ]
  },
  {
   "cell_type": "code",
   "execution_count": 1,
   "id": "20072ee3",
   "metadata": {},
   "outputs": [
    {
     "data": {
      "text/plain": [
       "[1, 2, 3, 4, 5, 6, 7, 8, 9, 10]"
      ]
     },
     "execution_count": 1,
     "metadata": {},
     "output_type": "execute_result"
    }
   ],
   "source": [
    "[i for i in range(1,11)]"
   ]
  },
  {
   "cell_type": "markdown",
   "id": "29c8a1c1",
   "metadata": {},
   "source": [
    "#### 2.Explain the difference between a for loop and a while loop in Python.\n"
   ]
  },
  {
   "cell_type": "raw",
   "id": "6806c453",
   "metadata": {},
   "source": [
    "for loops checks the condition ater printing the value while loop check the condition first.\n",
    "In for loop the increment pointer is taken by default in while loop we have to set increment ponter manually."
   ]
  },
  {
   "cell_type": "markdown",
   "id": "56037109",
   "metadata": {},
   "source": [
    "#### 3.Write a Python program to calculate the sum of all numbers from 1 to 100 using a for loop."
   ]
  },
  {
   "cell_type": "code",
   "execution_count": 2,
   "id": "b31651c8",
   "metadata": {},
   "outputs": [
    {
     "data": {
      "text/plain": [
       "4950"
      ]
     },
     "execution_count": 2,
     "metadata": {},
     "output_type": "execute_result"
    }
   ],
   "source": [
    "sum([i for i in range(1,100)])"
   ]
  },
  {
   "cell_type": "markdown",
   "id": "97f937e5",
   "metadata": {},
   "source": [
    "#### 4. How do you iterate through a list using a for loop in Python?\n"
   ]
  },
  {
   "cell_type": "markdown",
   "id": "036e61b0",
   "metadata": {},
   "source": [
    "##### list is an iterable object. for loop internall convert iterable object into iterator and it traverse uptot the length of the list "
   ]
  },
  {
   "cell_type": "markdown",
   "id": "e2d8dd7d",
   "metadata": {},
   "source": [
    "#### 5.Write a Python program to find the product of all elements in a list using a for loop.\n"
   ]
  },
  {
   "cell_type": "code",
   "execution_count": 3,
   "id": "b71c4ce1",
   "metadata": {},
   "outputs": [],
   "source": [
    "from functools import reduce"
   ]
  },
  {
   "cell_type": "code",
   "execution_count": 4,
   "id": "8062db11",
   "metadata": {},
   "outputs": [
    {
     "data": {
      "text/plain": [
       "24"
      ]
     },
     "execution_count": 4,
     "metadata": {},
     "output_type": "execute_result"
    }
   ],
   "source": [
    "l=[1,2,3,4]\n",
    "reduce(lambda a,b:a*b,l)"
   ]
  },
  {
   "cell_type": "markdown",
   "id": "44c6d96c",
   "metadata": {},
   "source": [
    "#### 6. Create a Python program that prints all even numbers from 1 to 20 using a for loop.\n"
   ]
  },
  {
   "cell_type": "code",
   "execution_count": 40,
   "id": "575bc0a7",
   "metadata": {},
   "outputs": [
    {
     "data": {
      "text/plain": [
       "[2, 4, 6, 8, 10, 12, 14, 16, 18, 20]"
      ]
     },
     "execution_count": 40,
     "metadata": {},
     "output_type": "execute_result"
    }
   ],
   "source": [
    "l=[i for i in range(1,21) if i%2==0]\n",
    "l"
   ]
  },
  {
   "cell_type": "markdown",
   "id": "52258ba5",
   "metadata": {},
   "source": [
    "#### 7. Write a Python program that calculates the factorial of a number\n"
   ]
  },
  {
   "cell_type": "code",
   "execution_count": 7,
   "id": "eaca13eb",
   "metadata": {},
   "outputs": [],
   "source": [
    "def fact(n):\n",
    "    if(n<=1):\n",
    "        return n\n",
    "    else:\n",
    "        return n*fact(n-1)"
   ]
  },
  {
   "cell_type": "code",
   "execution_count": 8,
   "id": "66057042",
   "metadata": {},
   "outputs": [
    {
     "data": {
      "text/plain": [
       "120"
      ]
     },
     "execution_count": 8,
     "metadata": {},
     "output_type": "execute_result"
    }
   ],
   "source": [
    "fact(5)"
   ]
  },
  {
   "cell_type": "markdown",
   "id": "b0a0f8a3",
   "metadata": {},
   "source": [
    "#### 8. How can you iterate through the characters of a string using a for loop in Python?"
   ]
  },
  {
   "cell_type": "markdown",
   "id": "0079f845",
   "metadata": {},
   "source": [
    "##### string is iterable in nature . so when we loop through the string internally for loop converts the iterable object into iterator object and extract the each element from for loop"
   ]
  },
  {
   "cell_type": "code",
   "execution_count": 9,
   "id": "17a7d6e2",
   "metadata": {},
   "outputs": [
    {
     "name": "stdout",
     "output_type": "stream",
     "text": [
      "p w s k i l l s "
     ]
    }
   ],
   "source": [
    "s=\"pwskills\"\n",
    "for i in s:\n",
    "    print(i,end=' ')"
   ]
  },
  {
   "cell_type": "code",
   "execution_count": 10,
   "id": "7c672010",
   "metadata": {},
   "outputs": [],
   "source": [
    "obj=iter(s)"
   ]
  },
  {
   "cell_type": "code",
   "execution_count": 11,
   "id": "895b2dc5",
   "metadata": {},
   "outputs": [
    {
     "data": {
      "text/plain": [
       "'p'"
      ]
     },
     "execution_count": 11,
     "metadata": {},
     "output_type": "execute_result"
    }
   ],
   "source": [
    "next(obj)"
   ]
  },
  {
   "cell_type": "markdown",
   "id": "2405d1fa",
   "metadata": {},
   "source": [
    "#### 9.Write a Python program to find the largest number in a list using a for loop."
   ]
  },
  {
   "cell_type": "code",
   "execution_count": 12,
   "id": "e1844418",
   "metadata": {},
   "outputs": [
    {
     "data": {
      "text/plain": [
       "67"
      ]
     },
     "execution_count": 12,
     "metadata": {},
     "output_type": "execute_result"
    }
   ],
   "source": [
    "l=[12,45,67,2,1]\n",
    "reduce(lambda x,y:x if(x>y)else y,l)"
   ]
  },
  {
   "cell_type": "markdown",
   "id": "b0648408",
   "metadata": {},
   "source": [
    "#### 10. Create a Python program that prints the Fibonacci sequence up to a specified limit using a for loop.\n"
   ]
  },
  {
   "cell_type": "code",
   "execution_count": 13,
   "id": "7e6a80c9",
   "metadata": {},
   "outputs": [],
   "source": [
    "def fibonacci(n):\n",
    "    a,b=0,1\n",
    "    for i in range(1,n):\n",
    "    \n",
    "        yield(a)\n",
    "        a,b=b,a+b"
   ]
  },
  {
   "cell_type": "code",
   "execution_count": 14,
   "id": "ec014763",
   "metadata": {},
   "outputs": [
    {
     "name": "stdout",
     "output_type": "stream",
     "text": [
      "0\n",
      "1\n",
      "1\n",
      "2\n",
      "3\n",
      "5\n",
      "8\n",
      "13\n",
      "21\n"
     ]
    }
   ],
   "source": [
    "for i in iter(fibonacci(10)):\n",
    "    print(i)"
   ]
  },
  {
   "cell_type": "markdown",
   "id": "4ab7206c",
   "metadata": {},
   "source": [
    "#### 11. Write a Python program to count the number of vowels in a given string using a for loop."
   ]
  },
  {
   "cell_type": "code",
   "execution_count": 15,
   "id": "4a4b0eaa",
   "metadata": {},
   "outputs": [
    {
     "data": {
      "text/plain": [
       "{'a', 'e', 'i', 'o', 'u'}"
      ]
     },
     "execution_count": 15,
     "metadata": {},
     "output_type": "execute_result"
    }
   ],
   "source": [
    "s=\"pwskills data science masters course\"\n",
    "s1=\"aeiou\"\n",
    "{i for i in s if i in s1}\n"
   ]
  },
  {
   "cell_type": "markdown",
   "id": "216bc610",
   "metadata": {},
   "source": [
    "#### 12.Create a Python program that generates a multiplication table for a given number using a for loop.\n"
   ]
  },
  {
   "cell_type": "code",
   "execution_count": 16,
   "id": "e312e393",
   "metadata": {},
   "outputs": [],
   "source": [
    "def multiplication(n):\n",
    "    for i in range(1,11):\n",
    "        yield n*i"
   ]
  },
  {
   "cell_type": "code",
   "execution_count": 17,
   "id": "96af3792",
   "metadata": {},
   "outputs": [
    {
     "name": "stdout",
     "output_type": "stream",
     "text": [
      "10\n",
      "20\n",
      "30\n",
      "40\n",
      "50\n",
      "60\n",
      "70\n",
      "80\n",
      "90\n",
      "100\n"
     ]
    }
   ],
   "source": [
    "for i in iter(multiplication(10)):\n",
    "    print(i)"
   ]
  },
  {
   "cell_type": "markdown",
   "id": "09260692",
   "metadata": {},
   "source": [
    "####  13. Write a Python program to reverse a list using a for loop.\n"
   ]
  },
  {
   "cell_type": "code",
   "execution_count": 18,
   "id": "f784aa17",
   "metadata": {},
   "outputs": [
    {
     "data": {
      "text/plain": [
       "[89, 7, 56, 34, 12]"
      ]
     },
     "execution_count": 18,
     "metadata": {},
     "output_type": "execute_result"
    }
   ],
   "source": [
    "l=[12,34,56,7,89]\n",
    "\n",
    "l[-1::-1]\n"
   ]
  },
  {
   "cell_type": "markdown",
   "id": "3c34aa35",
   "metadata": {},
   "source": [
    "#### 14.Write a Python program to find the common elements between two lists using a for loop."
   ]
  },
  {
   "cell_type": "code",
   "execution_count": 19,
   "id": "20211a27",
   "metadata": {},
   "outputs": [
    {
     "data": {
      "text/plain": [
       "[1, 2, 5, 6, 7]"
      ]
     },
     "execution_count": 19,
     "metadata": {},
     "output_type": "execute_result"
    }
   ],
   "source": [
    "l1=[1,2,3,4,5,6,7]\n",
    "l2=[1,34,5,6,2,1,7]\n",
    "[i for i in l1 if i in l2]"
   ]
  },
  {
   "cell_type": "markdown",
   "id": "f38d395f",
   "metadata": {},
   "source": [
    "#### 15.Explain how to use a for loop to iterate through the keys and values of a dictionary in Python.\n"
   ]
  },
  {
   "cell_type": "code",
   "execution_count": 20,
   "id": "059482b8",
   "metadata": {},
   "outputs": [
    {
     "data": {
      "text/plain": [
       "{'name': 'pwskills', 'mentor': 'sudhanshu sir', 'time': '9-2 pm'}"
      ]
     },
     "execution_count": 20,
     "metadata": {},
     "output_type": "execute_result"
    }
   ],
   "source": [
    "d={\"name\":\"pwskills\",'mentor':\"sudhanshu sir\",\"time\":\"9-2 pm\"}\n",
    "d"
   ]
  },
  {
   "cell_type": "code",
   "execution_count": 21,
   "id": "4f2eb0bb",
   "metadata": {},
   "outputs": [
    {
     "name": "stdout",
     "output_type": "stream",
     "text": [
      "('name', 'pwskills')\n",
      "('mentor', 'sudhanshu sir')\n",
      "('time', '9-2 pm')\n"
     ]
    }
   ],
   "source": [
    "for i in d.items():\n",
    "    print(i)"
   ]
  },
  {
   "cell_type": "code",
   "execution_count": 22,
   "id": "15b5ceda",
   "metadata": {},
   "outputs": [
    {
     "name": "stdout",
     "output_type": "stream",
     "text": [
      "name\n",
      "mentor\n",
      "time\n"
     ]
    }
   ],
   "source": [
    "for i in d.keys():\n",
    "    print(i)"
   ]
  },
  {
   "cell_type": "code",
   "execution_count": 23,
   "id": "dde686ff",
   "metadata": {},
   "outputs": [
    {
     "name": "stdout",
     "output_type": "stream",
     "text": [
      "pwskills\n",
      "sudhanshu sir\n",
      "9-2 pm\n"
     ]
    }
   ],
   "source": [
    "for i in d.values():\n",
    "    print(i)"
   ]
  },
  {
   "cell_type": "markdown",
   "id": "c49c587e",
   "metadata": {},
   "source": [
    "## Explaination: \n",
    "### while iterating through dictiionary, by default it interated through only keys .  \n",
    "#### 1. items() : this function to dictinary object  iterates and give keys and values  pair.\n",
    "#### 2. keys(): This function gives the keys of the dictionary.\n",
    "#### 3. values(): this function gives the values of the dictionary."
   ]
  },
  {
   "cell_type": "markdown",
   "id": "699789a0",
   "metadata": {},
   "source": [
    "## 16.Write a Python program to find the GCD (Greatest Common Divisor) of two numbers using a for loop.\n"
   ]
  },
  {
   "cell_type": "code",
   "execution_count": 24,
   "id": "095e547c",
   "metadata": {},
   "outputs": [
    {
     "name": "stdout",
     "output_type": "stream",
     "text": [
      "Enter the first number: 23\n",
      "Enter the second number: 34\n",
      "The GCD of 23 and 34 is 1\n"
     ]
    }
   ],
   "source": [
    "\n",
    "def find_gcd(a, b):\n",
    "    while b:\n",
    "        a, b = b, a % b\n",
    "    return a\n",
    "num1 = int(input(\"Enter the first number: \"))\n",
    "num2 = int(input(\"Enter the second number: \"))\n",
    "gcd = find_gcd(num1, num2)\n",
    "\n",
    "print(f\"The GCD of {num1} and {num2} is {gcd}\")\n"
   ]
  },
  {
   "cell_type": "markdown",
   "id": "768ac4c2",
   "metadata": {},
   "source": [
    "#### 17. Create a Python program that checks if a string is a palindrome using a for loop.\n"
   ]
  },
  {
   "cell_type": "code",
   "execution_count": 25,
   "id": "eba312a0",
   "metadata": {},
   "outputs": [
    {
     "name": "stdout",
     "output_type": "stream",
     "text": [
      "string is not palindrome\n"
     ]
    }
   ],
   "source": [
    "s=\"pwskills data science\"\n",
    "s1=s[::-1]\n",
    "if(s==s1):\n",
    "    print(\"string is palindrome\")\n",
    "else:\n",
    "    print(\"string is not palindrome\")"
   ]
  },
  {
   "cell_type": "markdown",
   "id": "ab3bb885",
   "metadata": {},
   "source": [
    "#### 18. Write a Python program to remove duplicates from a list using a for loop.\n"
   ]
  },
  {
   "cell_type": "code",
   "execution_count": 27,
   "id": "ca6604a7",
   "metadata": {},
   "outputs": [
    {
     "data": {
      "text/plain": [
       "{1, 2, 3, 4, 5, 9}"
      ]
     },
     "execution_count": 27,
     "metadata": {},
     "output_type": "execute_result"
    }
   ],
   "source": [
    "l=[1,2,3,2,1,4,4,5,5,9]\n",
    "set(l)\n",
    "    "
   ]
  },
  {
   "cell_type": "markdown",
   "id": "a94c35c6",
   "metadata": {},
   "source": [
    "#### 19. Create a Python program that counts the number of words in a sentence using a for loop.\n"
   ]
  },
  {
   "cell_type": "code",
   "execution_count": 28,
   "id": "7b33af96",
   "metadata": {},
   "outputs": [
    {
     "name": "stdout",
     "output_type": "stream",
     "text": [
      "5\n"
     ]
    }
   ],
   "source": [
    "s=\"pwskills data science masters course\"\n",
    "l=s.split(' ')\n",
    "print(len(l))\n",
    "\n"
   ]
  },
  {
   "cell_type": "markdown",
   "id": "aa21a8b5",
   "metadata": {},
   "source": [
    "#### 20. Write a Python program to find the sum of all odd numbers from 1 to 50 using a for loop.\n"
   ]
  },
  {
   "cell_type": "code",
   "execution_count": 29,
   "id": "d908072c",
   "metadata": {},
   "outputs": [
    {
     "data": {
      "text/plain": [
       "625"
      ]
     },
     "execution_count": 29,
     "metadata": {},
     "output_type": "execute_result"
    }
   ],
   "source": [
    "sum([i for i in range(1,50) if (i%2!=0)])"
   ]
  },
  {
   "cell_type": "markdown",
   "id": "bd587b1c",
   "metadata": {},
   "source": [
    "#### 21. Write a Python program that checks if a given year is a leap year using a for loop."
   ]
  },
  {
   "cell_type": "code",
   "execution_count": 30,
   "id": "12dd6d78",
   "metadata": {},
   "outputs": [
    {
     "data": {
      "text/plain": [
       "['year is leap',\n",
       " 'year is not leap',\n",
       " 'year is not leap',\n",
       " 'year is not leap',\n",
       " 'year is leap',\n",
       " 'year is not leap',\n",
       " 'year is not leap',\n",
       " 'year is not leap',\n",
       " 'year is leap',\n",
       " 'year is not leap']"
      ]
     },
     "execution_count": 30,
     "metadata": {},
     "output_type": "execute_result"
    }
   ],
   "source": [
    "[\"year is leap\" if(i%4==0) else \"year is not leap\" for i in range(2000,2010) ]"
   ]
  },
  {
   "cell_type": "markdown",
   "id": "54bd47d7",
   "metadata": {},
   "source": [
    "#### 22.Create a Python program that calculates the square root of a number using a for loop."
   ]
  },
  {
   "cell_type": "code",
   "execution_count": 31,
   "id": "8535ba3c",
   "metadata": {},
   "outputs": [
    {
     "name": "stdout",
     "output_type": "stream",
     "text": [
      "5.0\n"
     ]
    }
   ],
   "source": [
    "import math\n",
    "print(math.sqrt(25))"
   ]
  },
  {
   "cell_type": "markdown",
   "id": "fc24e21c",
   "metadata": {},
   "source": [
    "#### 23. Write a Python program to find the LCM (Least Common Multiple) of two numbers using a for loop.\n"
   ]
  },
  {
   "cell_type": "code",
   "execution_count": 32,
   "id": "4f3a2086",
   "metadata": {},
   "outputs": [
    {
     "name": "stdout",
     "output_type": "stream",
     "text": [
      "Enter first number: 23\n",
      "Enter second number: 46\n",
      "The LCM of 23 and 46 is 46\n"
     ]
    }
   ],
   "source": [
    "\n",
    "def find_gcd(x, y):\n",
    "    while y != 0:\n",
    "        x, y = y, x % y\n",
    "    return x \n",
    "\n",
    "def find_lcm(x, y):\n",
    "    gcd = find_gcd(x, y)\n",
    "    lcm = (x * y) // gcd\n",
    "    return lcm\n",
    "num1 = int(input(\"Enter first number: \"))\n",
    "num2 = int(input(\"Enter second number: \"))\n",
    "\n",
    "# Calculate and print the LCM\n",
    "lcm = find_lcm(num1, num2)\n",
    "print(f\"The LCM of {num1} and {num2} is {lcm}\")\n"
   ]
  },
  {
   "cell_type": "markdown",
   "id": "ff8661fd",
   "metadata": {},
   "source": [
    "##  Problem based on If Else statements"
   ]
  },
  {
   "cell_type": "markdown",
   "id": "960ddee6",
   "metadata": {},
   "source": [
    "#### 1. Write a Python program to check if a number is positive, negative, or zero using an if-else statement.\n"
   ]
  },
  {
   "cell_type": "code",
   "execution_count": 33,
   "id": "c12b2b06",
   "metadata": {},
   "outputs": [
    {
     "name": "stdout",
     "output_type": "stream",
     "text": [
      "enter element23\n",
      "23 is positive number\n"
     ]
    }
   ],
   "source": [
    "n=int(input(\"enter element\"))\n",
    "if(n>0):\n",
    "    print(f\"{n} is positive number\")\n",
    "elif(n<0): \n",
    "    print(f\"{n} is negative number\")\n",
    "else:\n",
    "    print(f\"{n} is zero number\")"
   ]
  },
  {
   "cell_type": "markdown",
   "id": "32f3bcab",
   "metadata": {},
   "source": [
    "#### 2. Create a Python program that checks if a given number is even or odd using an if-else statement.\n"
   ]
  },
  {
   "cell_type": "code",
   "execution_count": 34,
   "id": "5ece871a",
   "metadata": {},
   "outputs": [
    {
     "name": "stdout",
     "output_type": "stream",
     "text": [
      "enter a number23\n",
      "23 is odd\n"
     ]
    }
   ],
   "source": [
    "n=int(input(\"enter a number\"))\n",
    "if(n%2==0):\n",
    "    print(f\"{n} is even\")\n",
    "else:\n",
    "    print(f\"{n} is odd\")"
   ]
  },
  {
   "cell_type": "markdown",
   "id": "87be8184",
   "metadata": {},
   "source": [
    "#### 3. How can you use nested if-else statements in Python, and provide an example?\n"
   ]
  },
  {
   "cell_type": "code",
   "execution_count": 35,
   "id": "a495b9f6",
   "metadata": {},
   "outputs": [
    {
     "name": "stdout",
     "output_type": "stream",
     "text": [
      "enter price345\n",
      "yes i can buy the shirt!\n",
      "Enter shirt sizeM\n",
      "size is not available\n"
     ]
    }
   ],
   "source": [
    "import time\n",
    "price=int(input(\"enter price\"))\n",
    "shirt_sizes=[\"L\",'XL','S','XS','XXL']\n",
    "shirt_price=500\n",
    "if(price<shirt_price):\n",
    "    print(\"yes i can buy the shirt!\")\n",
    "    time.sleep(1)\n",
    "    shirt_size=input(\"Enter shirt size\")\n",
    "    if(shirt_size in shirt_sizes):\n",
    "        print(\"your required size is available go and buy it!\")\n",
    "    else:\n",
    "        print(\"size is not available\")\n",
    "else:\n",
    "    print(\"sorry can not buy shirt\")\n",
    "\n"
   ]
  },
  {
   "cell_type": "markdown",
   "id": "8c33bac8",
   "metadata": {},
   "source": [
    "#### 4. Write a Python program to determine the largest of three numbers using if-else.\n"
   ]
  },
  {
   "cell_type": "code",
   "execution_count": 36,
   "id": "d6b4391d",
   "metadata": {},
   "outputs": [
    {
     "name": "stdout",
     "output_type": "stream",
     "text": [
      "c is greator\n"
     ]
    }
   ],
   "source": [
    "a=10\n",
    "b=12\n",
    "c=34\n",
    "if(a>b and a>c):\n",
    "    print(\"a is greator\")\n",
    "elif(b>c and b>a):\n",
    "    print(\"b is greator\")\n",
    "else:\n",
    "    print(\"c is greator\")"
   ]
  },
  {
   "cell_type": "markdown",
   "id": "2abd51ab",
   "metadata": {},
   "source": [
    "#### 5. Write a Python program that calculates the absolute value of a number using if-else.\n"
   ]
  },
  {
   "cell_type": "code",
   "execution_count": 37,
   "id": "3bee1c57",
   "metadata": {},
   "outputs": [
    {
     "name": "stdout",
     "output_type": "stream",
     "text": [
      "enter number-34\n",
      "34\n"
     ]
    }
   ],
   "source": [
    "n=int(input(\"enter number\"))\n",
    "if(n<0):\n",
    "    print(-1*n)\n",
    "else:\n",
    "    print(n)"
   ]
  },
  {
   "cell_type": "markdown",
   "id": "7b1d0fde",
   "metadata": {},
   "source": [
    "#### 6. Create a Python program that checks if a given character is a vowel or consonant using if-else.\n"
   ]
  },
  {
   "cell_type": "code",
   "execution_count": 38,
   "id": "3ac1f30e",
   "metadata": {},
   "outputs": [
    {
     "name": "stdout",
     "output_type": "stream",
     "text": [
      "enter characters\n",
      "s is consonant\n"
     ]
    }
   ],
   "source": [
    "s='aeiou'\n",
    "ch=input(\"enter character\")[0].lower()\n",
    "if(ch in s):\n",
    "    print(f'{ch} is vowel')\n",
    "else:\n",
    "    print(f'{ch} is consonant')"
   ]
  },
  {
   "cell_type": "markdown",
   "id": "a4316a6c",
   "metadata": {},
   "source": [
    "#### 7. Write a Python program to determine if a user is eligible to vote based on their age using if-else.\n"
   ]
  },
  {
   "cell_type": "code",
   "execution_count": 39,
   "id": "c7142899",
   "metadata": {},
   "outputs": [
    {
     "name": "stdout",
     "output_type": "stream",
     "text": [
      "enter an age23\n",
      "you're eligible for voting\n"
     ]
    }
   ],
   "source": [
    "age=int(input(\"enter an age\"))\n",
    "if(age<18):\n",
    "    print(\"Not eligible for voting\")\n",
    "else:\n",
    "    print(\"you're eligible for voting\")"
   ]
  },
  {
   "cell_type": "markdown",
   "id": "ce421c0a",
   "metadata": {},
   "source": [
    "#### 8. Create a Python program that calculates the discount amount based on the purchase amount using if-else.\n"
   ]
  },
  {
   "cell_type": "code",
   "execution_count": 40,
   "id": "71b45bb7",
   "metadata": {},
   "outputs": [
    {
     "name": "stdout",
     "output_type": "stream",
     "text": [
      "enter purchase amount1456\n",
      "You need to pay rs 1310.4\n"
     ]
    }
   ],
   "source": [
    "purchase_amount=int(input(\"enter purchase amount\"))\n",
    "if(purchase_amount<=1000):\n",
    "    print(\"You will not get any discount \")\n",
    "elif(purchase_amount>1000 and purchase_amount<3000):\n",
    "    disc_price=purchase_amount-(purchase_amount*0.1)\n",
    "    print(\"You need to pay rs\",disc_price)\n",
    "elif(purchase_amount>3000 and purchase_amount<7000):\n",
    "    disc_price=purchase_amount-(purchase_amount*0.2)\n",
    "    print(\"You need to pay rs\",disc_price)\n",
    "elif(purchase_amount>7000 and purchase_amount<10000):\n",
    "    disc_price=purchase_amount-(purchase_amount*0.3)\n",
    "    print(\"You need to pay rs\",disc_price)"
   ]
  },
  {
   "cell_type": "markdown",
   "id": "6d87ce61",
   "metadata": {},
   "source": [
    "#### 9. Write a Python program to check if a number is within a specified range using if-else"
   ]
  },
  {
   "cell_type": "code",
   "execution_count": 41,
   "id": "6bc0e190",
   "metadata": {},
   "outputs": [
    {
     "name": "stdout",
     "output_type": "stream",
     "text": [
      "enter number4\n",
      "number is in the range of 0 and 9\n"
     ]
    }
   ],
   "source": [
    "n=int(input(\"enter number\"))\n",
    "if(n>=0 and n<=9):\n",
    "    print(\"number is in the range of 0 and 9\")\n",
    "elif(n>9 and n<20):\n",
    "    print(\"number is in the range of 9 and 20\")\n",
    "else:\n",
    "    print(\"number is greator than 20\")"
   ]
  },
  {
   "cell_type": "markdown",
   "id": "0a9ae676",
   "metadata": {},
   "source": [
    "#### 10. Create a Python program that determines the grade of a student based on their score using if-else.\n"
   ]
  },
  {
   "cell_type": "code",
   "execution_count": 42,
   "id": "7d6b0dc8",
   "metadata": {},
   "outputs": [
    {
     "name": "stdout",
     "output_type": "stream",
     "text": [
      "enter marks89\n",
      "first class with distinction\n"
     ]
    }
   ],
   "source": [
    "marks=int(input(\"enter marks\"))\n",
    "if(marks>75):\n",
    "    print(\"first class with distinction\")\n",
    "elif(marks<75 and marks>60):\n",
    "    print(\"first class\")\n",
    "elif(marks<60 and marks>50):\n",
    "    print(\"second class\")\n",
    "else:\n",
    "    print(\"more practice is needed\")"
   ]
  },
  {
   "cell_type": "markdown",
   "id": "ffecc1e5",
   "metadata": {},
   "source": [
    "#### 11. Write a Python program to check if a string is empty or not using if-else.\n"
   ]
  },
  {
   "cell_type": "code",
   "execution_count": 43,
   "id": "fc487bf4",
   "metadata": {},
   "outputs": [
    {
     "name": "stdout",
     "output_type": "stream",
     "text": [
      "string is empty\n"
     ]
    }
   ],
   "source": [
    "s=\"\"\n",
    "if(len(s)==0):\n",
    "    print(\"string is empty\")\n",
    "else:\n",
    "    print(\"string is not empty\")"
   ]
  },
  {
   "cell_type": "markdown",
   "id": "67fd753b",
   "metadata": {},
   "source": [
    "#### 12. Create a Python program that identifies the type of a triangle (e.g., equilateral, isosceles, or scalene) based on input values using if-else.\n"
   ]
  },
  {
   "cell_type": "code",
   "execution_count": 44,
   "id": "9de2c4b8",
   "metadata": {},
   "outputs": [
    {
     "name": "stdout",
     "output_type": "stream",
     "text": [
      "enter side13\n",
      "enter side24\n",
      "enter side33\n",
      "triangle is isoscles triangle\n"
     ]
    }
   ],
   "source": [
    "side1=int(input(\"enter side1\"))\n",
    "side2=int(input(\"enter side2\"))\n",
    "side3=int(input(\"enter side3\"))\n",
    "if(side1==side2 and side1==side3):\n",
    "    print(\"traingle is equilateral trainagle \")\n",
    "elif(side1==side2 or side1==side3):\n",
    "    print(\"triangle is isoscles triangle\")\n",
    "else:\n",
    "    print(\"scalene triangle\")"
   ]
  },
  {
   "cell_type": "markdown",
   "id": "935472d8",
   "metadata": {},
   "source": [
    "#### 13. Write a Python program to determine the day of the week based on a user-provided number using if-else."
   ]
  },
  {
   "cell_type": "code",
   "execution_count": 45,
   "id": "ec160a51",
   "metadata": {},
   "outputs": [
    {
     "name": "stdout",
     "output_type": "stream",
     "text": [
      "enter the day1\n",
      "day is sunday\n"
     ]
    }
   ],
   "source": [
    "day=input(\"enter the day\")[0:3].lower().strip()\n",
    "if(day=='mon'):\n",
    "    print(\"day is monday\")\n",
    "elif(day=='tue'):\n",
    "    print(\"day is tuesday\")\n",
    "elif(day=='wed'):\n",
    "    print(\"day is wednesday\")\n",
    "elif(day=='thu'):\n",
    "    print(\"day is thursday\")\n",
    "elif(day=='fri'):\n",
    "    print(\"day is friday\")\n",
    "elif(day=='sat'):\n",
    "    print(\"day is saturday\")\n",
    "else:\n",
    "    print(\"day is sunday\")"
   ]
  },
  {
   "cell_type": "markdown",
   "id": "b115118e",
   "metadata": {},
   "source": [
    "#### 14. Create a Python program that checks if a given year is a leap year using both if-else and a function.\n"
   ]
  },
  {
   "cell_type": "code",
   "execution_count": 46,
   "id": "abb57aeb",
   "metadata": {},
   "outputs": [],
   "source": [
    "def is_year_leap(year):\n",
    "    if(year%4==0):\n",
    "        print(\"year is leap\")\n",
    "    else:\n",
    "        print(\"year is not leap\")"
   ]
  },
  {
   "cell_type": "code",
   "execution_count": 47,
   "id": "7684d2a1",
   "metadata": {},
   "outputs": [
    {
     "name": "stdout",
     "output_type": "stream",
     "text": [
      "year is leap\n"
     ]
    }
   ],
   "source": [
    "is_year_leap(2000)"
   ]
  },
  {
   "cell_type": "markdown",
   "id": "fdfa9c36",
   "metadata": {},
   "source": [
    "#### 15. How do you use the \"assert\" statement in Python to add debugging checks within if-else blocks?\n"
   ]
  },
  {
   "cell_type": "code",
   "execution_count": 50,
   "id": "ea4c823a",
   "metadata": {},
   "outputs": [
    {
     "name": "stdout",
     "output_type": "stream",
     "text": [
      "enter number345\n"
     ]
    },
    {
     "ename": "AssertionError",
     "evalue": "number is odd",
     "output_type": "error",
     "traceback": [
      "\u001b[1;31m---------------------------------------------------------------------------\u001b[0m",
      "\u001b[1;31mAssertionError\u001b[0m                            Traceback (most recent call last)",
      "Cell \u001b[1;32mIn[50], line 2\u001b[0m\n\u001b[0;32m      1\u001b[0m n\u001b[38;5;241m=\u001b[39m\u001b[38;5;28mint\u001b[39m(\u001b[38;5;28minput\u001b[39m(\u001b[38;5;124m\"\u001b[39m\u001b[38;5;124menter number\u001b[39m\u001b[38;5;124m\"\u001b[39m))\n\u001b[1;32m----> 2\u001b[0m \u001b[38;5;28;01massert\u001b[39;00m n\u001b[38;5;241m%\u001b[39m\u001b[38;5;241m2\u001b[39m\u001b[38;5;241m==\u001b[39m\u001b[38;5;241m0\u001b[39m,\u001b[38;5;124m\"\u001b[39m\u001b[38;5;124mnumber is odd\u001b[39m\u001b[38;5;124m\"\u001b[39m\n\u001b[0;32m      3\u001b[0m \u001b[38;5;28mprint\u001b[39m(n)\n",
      "\u001b[1;31mAssertionError\u001b[0m: number is odd"
     ]
    }
   ],
   "source": [
    "n=int(input(\"enter number\"))\n",
    "assert n%2==0,\"number is odd\"\n",
    "print(n)"
   ]
  },
  {
   "cell_type": "markdown",
   "id": "e1cfc632",
   "metadata": {},
   "source": [
    "#### 16. Create a Python program that determines the eligibility of a person for a senior citizen discount based on age using if-else.\n"
   ]
  },
  {
   "cell_type": "code",
   "execution_count": 52,
   "id": "5a342892",
   "metadata": {},
   "outputs": [
    {
     "name": "stdout",
     "output_type": "stream",
     "text": [
      "enter the age of person90\n",
      "you're eligible for the senior citizen facilities\n"
     ]
    }
   ],
   "source": [
    "age=int(input(\"enter the age of person\"))\n",
    "if(age>=60):\n",
    "    print(\"you're eligible for the senior citizen facilities\")\n",
    "else:\n",
    "    print(\"you're not from senior citizen group\")"
   ]
  },
  {
   "cell_type": "markdown",
   "id": "2320caf2",
   "metadata": {},
   "source": [
    "#### 17. Write a Python program to categorize a given character as uppercase, lowercase, or neither using if-else."
   ]
  },
  {
   "cell_type": "code",
   "execution_count": 53,
   "id": "cf98c316",
   "metadata": {},
   "outputs": [
    {
     "name": "stdout",
     "output_type": "stream",
     "text": [
      "enter the characterwerE\n",
      "w is lower\n"
     ]
    }
   ],
   "source": [
    "s=input(\"enter the character\")[0]\n",
    "if(s.isupper()):\n",
    "    print(f\"{s} is upper\")\n",
    "elif(s.islower()):\n",
    "    print(f'{s} is lower')\n",
    "else:\n",
    "    print(\"not both\")"
   ]
  },
  {
   "cell_type": "markdown",
   "id": "1fa09ac1",
   "metadata": {},
   "source": [
    "#### 18. Write a Python program to determine the roots of a quadratic equation using if-else.\n"
   ]
  },
  {
   "cell_type": "code",
   "execution_count": 54,
   "id": "eccfbf1b",
   "metadata": {},
   "outputs": [
    {
     "name": "stdout",
     "output_type": "stream",
     "text": [
      "enter first number4\n",
      "enter second number5\n",
      "enter third number2\n",
      "(-5+5.291502622129181j)\n",
      "(5-5.291502622129181j)\n"
     ]
    }
   ],
   "source": [
    "import cmath\n",
    "a=float(input(\"enter first number\"))\n",
    "b=float(input(\"enter second number\"))\n",
    "c=float(input(\"enter third number\"))\n",
    "d=(b**2)-4*a*c\n",
    "root1=-b+cmath.sqrt(d)/2*a\n",
    "print(root1)\n",
    "root2=+b-cmath.sqrt(d)/2*a\n",
    "print(root2)"
   ]
  },
  {
   "cell_type": "markdown",
   "id": "a5452ee4",
   "metadata": {},
   "source": [
    "#### 19. Create a Python program that checks if a given year is a century year or not using if-else.\n"
   ]
  },
  {
   "cell_type": "code",
   "execution_count": 55,
   "id": "426d2d89",
   "metadata": {},
   "outputs": [
    {
     "name": "stdout",
     "output_type": "stream",
     "text": [
      "enter input345\n",
      "year is not centuary year\n"
     ]
    }
   ],
   "source": [
    "year=int(input(\"enter input\"))\n",
    "if(year%100==0):\n",
    "    print(\"year is centuary year\")\n",
    "else:\n",
    "    print(\"year is not centuary year\")"
   ]
  },
  {
   "cell_type": "markdown",
   "id": "e9b18654",
   "metadata": {},
   "source": [
    "#### 20. Write a Python program to determine if a given number is a perfect square using if-else.\n"
   ]
  },
  {
   "cell_type": "code",
   "execution_count": 56,
   "id": "c011c28c",
   "metadata": {},
   "outputs": [],
   "source": [
    "def perfect_square(number,start=1):\n",
    "    if(number==start**2):\n",
    "        return True\n",
    "    elif(number<start):\n",
    "        return False\n",
    "    else:\n",
    "        return perfect_square(number,start+1)\n",
    "    "
   ]
  },
  {
   "cell_type": "code",
   "execution_count": 57,
   "id": "7842d665",
   "metadata": {},
   "outputs": [
    {
     "data": {
      "text/plain": [
       "True"
      ]
     },
     "execution_count": 57,
     "metadata": {},
     "output_type": "execute_result"
    }
   ],
   "source": [
    "perfect_square(25)"
   ]
  },
  {
   "cell_type": "markdown",
   "id": "dd863f60",
   "metadata": {},
   "source": [
    "#### 21. Explain the purpose of the \"continue\" and \"break\" statements within if-else loops.\n"
   ]
  },
  {
   "cell_type": "code",
   "execution_count": 58,
   "id": "9084b940",
   "metadata": {},
   "outputs": [
    {
     "name": "stdout",
     "output_type": "stream",
     "text": [
      "1\n",
      "2\n",
      "3\n",
      "4\n",
      "5\n"
     ]
    }
   ],
   "source": [
    "## break statement\n",
    "i=1\n",
    "while(i<10):\n",
    "    print(i)\n",
    "    if(i==5):\n",
    "        break\n",
    "    i+=1\n",
    "    \n",
    "    "
   ]
  },
  {
   "cell_type": "code",
   "execution_count": 59,
   "id": "7af91e93",
   "metadata": {},
   "outputs": [
    {
     "name": "stdout",
     "output_type": "stream",
     "text": [
      "2\n",
      "3\n",
      "4\n",
      "5\n",
      "6\n",
      "7\n",
      "8\n",
      "9\n",
      "10\n"
     ]
    }
   ],
   "source": [
    "## continue statement\n",
    "\n",
    "i=1\n",
    "while(i<10):\n",
    "    i+=1\n",
    "    print(i)\n",
    "   \n",
    "    if(i==5):\n",
    "        continue\n",
    "    "
   ]
  },
  {
   "cell_type": "raw",
   "id": "08c2f560",
   "metadata": {},
   "source": [
    "## break statement breka the entire flow of the loop. \n",
    "while continue statement leave only that perticular condition and rest of the loops is executed."
   ]
  },
  {
   "cell_type": "markdown",
   "id": "c76eb9cc",
   "metadata": {},
   "source": [
    "#### 22. Create a Python program that calculates the BMI (Body Mass Index) of a person based on their weight and height using if-else."
   ]
  },
  {
   "cell_type": "code",
   "execution_count": 62,
   "id": "99e2b3a5",
   "metadata": {},
   "outputs": [
    {
     "name": "stdout",
     "output_type": "stream",
     "text": [
      "enter the bmi24\n",
      "Normal Weight\n"
     ]
    }
   ],
   "source": [
    "bmi=float(input(\"enter the bmi\"))\n",
    "if(bmi<18.5):\n",
    "    print(\"Underwight\")\n",
    "elif(bmi>=18.5 and bmi<=24.9):\n",
    "    print(\"Normal Weight\")\n",
    "elif(bmi>=25 and bmi<29.9):\n",
    "    print(\"Overweight\")\n",
    "else:\n",
    "    print(\"obsese\")"
   ]
  },
  {
   "cell_type": "markdown",
   "id": "e7b79214",
   "metadata": {},
   "source": [
    "#### 23.  How can you use the \"filter()\" function with if-else statements to filter elements from a list?\n"
   ]
  },
  {
   "cell_type": "code",
   "execution_count": 63,
   "id": "806ed7f6",
   "metadata": {},
   "outputs": [
    {
     "data": {
      "text/plain": [
       "[2, 4]"
      ]
     },
     "execution_count": 63,
     "metadata": {},
     "output_type": "execute_result"
    }
   ],
   "source": [
    "l=[1,2,3,4,5]\n",
    "list(filter(lambda x:(x%2==0),l))"
   ]
  },
  {
   "cell_type": "markdown",
   "id": "9ac9a513",
   "metadata": {},
   "source": [
    "#### 24. Write a Python program to determine if a given number is prime or not using if-else."
   ]
  },
  {
   "cell_type": "code",
   "execution_count": 64,
   "id": "829d8e32",
   "metadata": {},
   "outputs": [
    {
     "name": "stdout",
     "output_type": "stream",
     "text": [
      "enter the number34\n",
      "34 not a prime number\n"
     ]
    }
   ],
   "source": [
    "f=False\n",
    "n=int(input(\"enter the number\"))\n",
    "if(n==1):\n",
    "    print(\"1 is neither prime nor compisite\")\n",
    "else:\n",
    "    \n",
    "    for i in range(2,n):\n",
    "        if(n%i)==0:\n",
    "            f=True\n",
    "            break\n",
    "        else:\n",
    "            f=False\n",
    "\n",
    "    if f:\n",
    "        print(f\"{n} not a prime number\")\n",
    "    else:\n",
    "        print(f\"{n} is a prime number\")\n"
   ]
  },
  {
   "cell_type": "markdown",
   "id": "bf707f9e",
   "metadata": {},
   "source": [
    "## Problems based on map "
   ]
  },
  {
   "cell_type": "markdown",
   "id": "b11da50a",
   "metadata": {},
   "source": [
    "#### 1.Explain the purpose of the `map()` function in Python and provide an example of how it can be used to apply a function to each element of an iterable.\n"
   ]
  },
  {
   "cell_type": "code",
   "execution_count": 65,
   "id": "e9cb34ec",
   "metadata": {},
   "outputs": [],
   "source": [
    "#map function :\n",
    "# map is used to get the results from the list by iterating through the list\n",
    "#map(lambda, iterable)"
   ]
  },
  {
   "cell_type": "code",
   "execution_count": 66,
   "id": "00e7fdf4",
   "metadata": {},
   "outputs": [
    {
     "data": {
      "text/plain": [
       "[3, 4, 5, 6, 7]"
      ]
     },
     "execution_count": 66,
     "metadata": {},
     "output_type": "execute_result"
    }
   ],
   "source": [
    "# iterate through the list and add 2 to each element in the list \n",
    "l=[1,2,3,4,5]\n",
    "list(map(lambda x:x+2,l))"
   ]
  },
  {
   "cell_type": "markdown",
   "id": "5b83fe6e",
   "metadata": {},
   "source": [
    "#### 2. Write a Python program that uses the `map()` function to square each element of a list of numbers"
   ]
  },
  {
   "cell_type": "code",
   "execution_count": 67,
   "id": "077ff94b",
   "metadata": {},
   "outputs": [
    {
     "data": {
      "text/plain": [
       "[144, 9, 16, 25, 36]"
      ]
     },
     "execution_count": 67,
     "metadata": {},
     "output_type": "execute_result"
    }
   ],
   "source": [
    "l=[12,3,4,5,6]\n",
    "list(map(lambda x:x**2,l))"
   ]
  },
  {
   "cell_type": "code",
   "execution_count": 68,
   "id": "33c07973",
   "metadata": {},
   "outputs": [],
   "source": [
    "n=iter(map(lambda x:x**2,l))"
   ]
  },
  {
   "cell_type": "code",
   "execution_count": 69,
   "id": "20c3b2cb",
   "metadata": {},
   "outputs": [
    {
     "data": {
      "text/plain": [
       "144"
      ]
     },
     "execution_count": 69,
     "metadata": {},
     "output_type": "execute_result"
    }
   ],
   "source": [
    "next(n)"
   ]
  },
  {
   "cell_type": "markdown",
   "id": "0d4177d2",
   "metadata": {},
   "source": [
    "#### 3. How does the `map()` function differ from a list comprehension in Python, and when would you choose one over the other?\n"
   ]
  },
  {
   "cell_type": "markdown",
   "id": "a2735985",
   "metadata": {},
   "source": [
    "map(function,iterable)\n",
    "vs \n",
    "list comprehension\n",
    "\n",
    "map() differs from the list comprehension in the terms of syntax and working also.\n",
    "list comprehension returns the list while map()returns the iterable object"
   ]
  },
  {
   "cell_type": "markdown",
   "id": "39ebc4c3",
   "metadata": {},
   "source": [
    "#### 4. Create a Python program that uses the `map()` function to convert a list of names to uppercase.\n"
   ]
  },
  {
   "cell_type": "code",
   "execution_count": 70,
   "id": "46a3b37b",
   "metadata": {},
   "outputs": [
    {
     "data": {
      "text/plain": [
       "['PWSKILLS', 'DATA', 'SCIENCE']"
      ]
     },
     "execution_count": 70,
     "metadata": {},
     "output_type": "execute_result"
    }
   ],
   "source": [
    "l=['pwskills','data','science']\n",
    "list(map(lambda x:x.upper(),l))"
   ]
  },
  {
   "cell_type": "markdown",
   "id": "8dfbe69f",
   "metadata": {},
   "source": [
    "#### 5. Write a Python program that uses the `map()` function to calculate the length of each word in a list of strings."
   ]
  },
  {
   "cell_type": "code",
   "execution_count": 71,
   "id": "a3e3ed80",
   "metadata": {},
   "outputs": [
    {
     "data": {
      "text/plain": [
       "[8, 4, 7]"
      ]
     },
     "execution_count": 71,
     "metadata": {},
     "output_type": "execute_result"
    }
   ],
   "source": [
    "l=['pwskills','data','science']\n",
    "list(map(lambda x:len(x),l))"
   ]
  },
  {
   "cell_type": "markdown",
   "id": "d955bc93",
   "metadata": {},
   "source": [
    "#### 6. How can you use the `map()` function to apply a custom function to elements of multiple lists simultaneously in Python?\n"
   ]
  },
  {
   "cell_type": "code",
   "execution_count": 72,
   "id": "d9f1e771",
   "metadata": {},
   "outputs": [],
   "source": [
    "l=[[1,3,5],[5,17,15],[11,41,81]]\n",
    "\n",
    "def add_ele(l):\n",
    "    sum1=0\n",
    "    for i in l:\n",
    "        for j in i:\n",
    "            print(j)"
   ]
  },
  {
   "cell_type": "code",
   "execution_count": 73,
   "id": "ad91ce6c",
   "metadata": {},
   "outputs": [
    {
     "name": "stdout",
     "output_type": "stream",
     "text": [
      "1\n",
      "3\n",
      "5\n",
      "5\n",
      "17\n",
      "15\n",
      "11\n",
      "41\n",
      "81\n"
     ]
    }
   ],
   "source": [
    "add_ele(l)"
   ]
  },
  {
   "cell_type": "markdown",
   "id": "cfeab55c",
   "metadata": {},
   "source": [
    "\n",
    "#### 7. Create a Python program that uses `map()` to convert a list of temperatures from Celsius to Fahrenheit.\n"
   ]
  },
  {
   "cell_type": "code",
   "execution_count": 74,
   "id": "ab45fdb3",
   "metadata": {},
   "outputs": [
    {
     "data": {
      "text/plain": [
       "[73.4, 77.0, 98.60000000000001, 91.4, 89.6, 104.0]"
      ]
     },
     "execution_count": 74,
     "metadata": {},
     "output_type": "execute_result"
    }
   ],
   "source": [
    "l=[23,25,37,33,32,40]\n",
    "list(map(lambda x:x*(9/5)+32,l))"
   ]
  },
  {
   "cell_type": "markdown",
   "id": "3605c522",
   "metadata": {},
   "source": [
    "#### 8. Write a Python program that uses the `map()` function to round each element of a list of floating-point numbers to the nearest integer.\n",
    "\n"
   ]
  },
  {
   "cell_type": "code",
   "execution_count": 75,
   "id": "83661e5e",
   "metadata": {},
   "outputs": [
    {
     "data": {
      "text/plain": [
       "[73.4, 77.0, 98.6, 91.4, 89.6, 104.0]"
      ]
     },
     "execution_count": 75,
     "metadata": {},
     "output_type": "execute_result"
    }
   ],
   "source": [
    "l=[73.4, 77.0, 98.60000000000001, 91.4, 89.6, 104.0]\n",
    "list(map(lambda x:round(x,2),l))"
   ]
  },
  {
   "cell_type": "markdown",
   "id": "4293a730",
   "metadata": {},
   "source": [
    "# problems based on reduce"
   ]
  },
  {
   "cell_type": "markdown",
   "id": "cfa76035",
   "metadata": {},
   "source": [
    "#### 1. What is the `reduce()` function in Python, and what module should you import to use it? Provide an example of its basic usage."
   ]
  },
  {
   "cell_type": "markdown",
   "id": "5b66e942",
   "metadata": {},
   "source": [
    "reduce() is used to get the aggregated resulf from the list . It returns only one one. \n",
    "To use the reduce() we need to import reduce from functools"
   ]
  },
  {
   "cell_type": "code",
   "execution_count": 76,
   "id": "38e3e98c",
   "metadata": {},
   "outputs": [
    {
     "data": {
      "text/plain": [
       "24"
      ]
     },
     "execution_count": 76,
     "metadata": {},
     "output_type": "execute_result"
    }
   ],
   "source": [
    "# example that multiplies elements from list\n",
    "l=[1,2,3,4]\n",
    "reduce(lambda a,b:a*b,l)"
   ]
  },
  {
   "cell_type": "markdown",
   "id": "6fbfffea",
   "metadata": {},
   "source": [
    "#### 2. Write a Python program that uses the `reduce()` function to find the product of all elements in a list.\n"
   ]
  },
  {
   "cell_type": "code",
   "execution_count": 77,
   "id": "4d98b9c2",
   "metadata": {},
   "outputs": [
    {
     "data": {
      "text/plain": [
       "120"
      ]
     },
     "execution_count": 77,
     "metadata": {},
     "output_type": "execute_result"
    }
   ],
   "source": [
    "l=[1,2,3,4,5]\n",
    "reduce(lambda x,y:x*y,l)"
   ]
  },
  {
   "cell_type": "markdown",
   "id": "9eda4b35",
   "metadata": {},
   "source": [
    "#### 3. Create a Python program that uses `reduce()` to find the maximum element in a list of numbers.\n"
   ]
  },
  {
   "cell_type": "code",
   "execution_count": 78,
   "id": "63dc612c",
   "metadata": {},
   "outputs": [
    {
     "data": {
      "text/plain": [
       "109"
      ]
     },
     "execution_count": 78,
     "metadata": {},
     "output_type": "execute_result"
    }
   ],
   "source": [
    "l=[12,34,56,78,109]\n",
    "reduce(lambda x,y:x if x>y else y,l)"
   ]
  },
  {
   "cell_type": "markdown",
   "id": "96d55193",
   "metadata": {},
   "source": [
    "#### 4.How can you use the `reduce()` function to concatenate a list of strings into a single string?\n"
   ]
  },
  {
   "cell_type": "code",
   "execution_count": 79,
   "id": "8d4f0bd3",
   "metadata": {},
   "outputs": [],
   "source": [
    "l=['pwskills','data','science']\n",
    "def concat(str1,str2):\n",
    "    return str1+str2"
   ]
  },
  {
   "cell_type": "code",
   "execution_count": 80,
   "id": "a1e2f82c",
   "metadata": {},
   "outputs": [
    {
     "data": {
      "text/plain": [
       "'pwskillsdatascience'"
      ]
     },
     "execution_count": 80,
     "metadata": {},
     "output_type": "execute_result"
    }
   ],
   "source": [
    "reduce(concat,l)"
   ]
  },
  {
   "cell_type": "markdown",
   "id": "256a6449",
   "metadata": {},
   "source": [
    "####  5.Write a Python program that calculates the factorial of a number using the `reduce()` function.\n"
   ]
  },
  {
   "cell_type": "code",
   "execution_count": 81,
   "id": "4b7cfa97",
   "metadata": {},
   "outputs": [
    {
     "data": {
      "text/plain": [
       "120"
      ]
     },
     "execution_count": 81,
     "metadata": {},
     "output_type": "execute_result"
    }
   ],
   "source": [
    "reduce(lambda x,y:x*y,[i for i in range(1,6)])"
   ]
  },
  {
   "cell_type": "markdown",
   "id": "0fabd4d5",
   "metadata": {},
   "source": [
    "#### 6. Create a Python program that uses `reduce()` to find the GCD (Greatest Common Divisor) of a list of numbers."
   ]
  },
  {
   "cell_type": "code",
   "execution_count": 82,
   "id": "c03d0a2b",
   "metadata": {},
   "outputs": [
    {
     "name": "stdout",
     "output_type": "stream",
     "text": [
      "The GCD of the numbers [12, 18, 24, 36] is 6\n"
     ]
    }
   ],
   "source": [
    "from functools import reduce\n",
    "import math\n",
    "\n",
    "# Function to find the GCD of two numbers\n",
    "def find_gcd(x, y):\n",
    "    return math.gcd(x, y)\n",
    "\n",
    "# List of numbers for which you want to find the GCD\n",
    "numbers = [12, 18, 24, 36]\n",
    "\n",
    "# Use reduce to find the GCD of the list of numbers\n",
    "gcd_result = reduce(find_gcd, numbers)\n",
    "\n",
    "# Print the result\n",
    "print(f\"The GCD of the numbers {numbers} is {gcd_result}\")\n"
   ]
  },
  {
   "cell_type": "markdown",
   "id": "53d4f78e",
   "metadata": {},
   "source": [
    "#### 7. Write a Python program that uses the `reduce()` function to find the sum of the digits of a given number.\n"
   ]
  },
  {
   "cell_type": "code",
   "execution_count": 83,
   "id": "663858db",
   "metadata": {},
   "outputs": [
    {
     "data": {
      "text/plain": [
       "6"
      ]
     },
     "execution_count": 83,
     "metadata": {},
     "output_type": "execute_result"
    }
   ],
   "source": [
    "l=[1,2,3,4]\n",
    "reduce(lambda x,y:x+y,[i for i in l if(i%2==0)])"
   ]
  },
  {
   "cell_type": "markdown",
   "id": "6d39f0f3",
   "metadata": {},
   "source": [
    "## problems based on filter"
   ]
  },
  {
   "cell_type": "markdown",
   "id": "2b388243",
   "metadata": {},
   "source": [
    "#### 1.Explain the purpose of the `filter()` function in Python and provide an example of how it can be used to filter elements from an iterable.\n"
   ]
  },
  {
   "cell_type": "markdown",
   "id": "7b49c4be",
   "metadata": {},
   "source": [
    "filter()takes 2 arguments . first is a function and second is iterable. filter is used to filter the results from the list.\n",
    "Filter returns an iterable object "
   ]
  },
  {
   "cell_type": "code",
   "execution_count": 84,
   "id": "e4b01459",
   "metadata": {},
   "outputs": [
    {
     "data": {
      "text/plain": [
       "['data', 'pro', 'date']"
      ]
     },
     "execution_count": 84,
     "metadata": {},
     "output_type": "execute_result"
    }
   ],
   "source": [
    "# filter all strings  from list whose length is lesser than or equal to 4\n",
    "l=['pwskills','data','pro','date']\n",
    "list(filter(lambda x:len(x)<=4,l))"
   ]
  },
  {
   "cell_type": "markdown",
   "id": "039ed361",
   "metadata": {},
   "source": [
    "#### 2. Write a Python program that uses the `filter()` function to select even numbers from a list of integers."
   ]
  },
  {
   "cell_type": "code",
   "execution_count": 85,
   "id": "241e056d",
   "metadata": {},
   "outputs": [
    {
     "data": {
      "text/plain": [
       "[12, 34, 32]"
      ]
     },
     "execution_count": 85,
     "metadata": {},
     "output_type": "execute_result"
    }
   ],
   "source": [
    "l=[12,34,5,32,1]\n",
    "list(filter(lambda x:x%2==0,l))"
   ]
  },
  {
   "cell_type": "markdown",
   "id": "f26dfe88",
   "metadata": {},
   "source": [
    "#### 3. Create a Python program that uses the `filter()` function to select names that start with a specific letter from a list of strings.\n"
   ]
  },
  {
   "cell_type": "code",
   "execution_count": 86,
   "id": "4150b1f9",
   "metadata": {},
   "outputs": [
    {
     "data": {
      "text/plain": [
       "['pwskills', 'pw', 'physicswallah']"
      ]
     },
     "execution_count": 86,
     "metadata": {},
     "output_type": "execute_result"
    }
   ],
   "source": [
    "l=['pwskills','pw','physicswallah','data','data science']\n",
    "list(filter(lambda x:x[0]=='p',l))"
   ]
  },
  {
   "cell_type": "markdown",
   "id": "26f0ae55",
   "metadata": {},
   "source": [
    "#### 4. Write a Python program that uses the `filter()` function to select prime numbers from a list of integers.\n"
   ]
  },
  {
   "cell_type": "code",
   "execution_count": 119,
   "id": "2156aa4b",
   "metadata": {},
   "outputs": [
    {
     "name": "stdout",
     "output_type": "stream",
     "text": [
      "Prime numbers from the list: {2, 3, 5, 7, 11}\n"
     ]
    }
   ],
   "source": [
    "def is_prime(n):\n",
    "    if n <= 1:\n",
    "        return False\n",
    "    if n == 2:\n",
    "        return True\n",
    "    if n % 2 == 0:\n",
    "        return False\n",
    "    for i in range(3, int(n**0.5) + 1, 2):\n",
    "        if n % i == 0:\n",
    "            return False\n",
    "    return True\n",
    "numbers = {2, 3, 5, 7, 11,3}\n",
    "\n",
    "# Use filter() to select prime numbers\n",
    "prime_numbers = set(filter(is_prime, numbers))\n",
    "\n",
    "# Print the prime numbers\n",
    "print(\"Prime numbers from the list:\", prime_numbers)\n"
   ]
  },
  {
   "cell_type": "markdown",
   "id": "23c1c00a",
   "metadata": {},
   "source": [
    "#### 5.How can you use the `filter()` function to remove None values from a list in Python?\n"
   ]
  },
  {
   "cell_type": "code",
   "execution_count": 87,
   "id": "7f3b49b8",
   "metadata": {},
   "outputs": [
    {
     "data": {
      "text/plain": [
       "[2, 3, 4, 5, 3]"
      ]
     },
     "execution_count": 87,
     "metadata": {},
     "output_type": "execute_result"
    }
   ],
   "source": [
    "l=[2,3,4,5,None,None,3]\n",
    "list(filter(lambda x:x!=None,l))"
   ]
  },
  {
   "cell_type": "markdown",
   "id": "3971577f",
   "metadata": {},
   "source": [
    "#### 6. Create a Python program that uses `filter()` to select words longer than a certain length from a list of strings."
   ]
  },
  {
   "cell_type": "code",
   "execution_count": 88,
   "id": "4761145e",
   "metadata": {},
   "outputs": [
    {
     "data": {
      "text/plain": [
       "['pwskills', 'sudhanshu']"
      ]
     },
     "execution_count": 88,
     "metadata": {},
     "output_type": "execute_result"
    }
   ],
   "source": [
    "l=['pwskills','data','science','sudhanshu']\n",
    "list(filter(lambda x:len(x)>7,l))"
   ]
  },
  {
   "cell_type": "markdown",
   "id": "87f97b8d",
   "metadata": {},
   "source": [
    "#### 7. Write a Python program that uses the `filter()` function to select elements greater than a specified threshold from a list of values.\n"
   ]
  },
  {
   "cell_type": "code",
   "execution_count": 89,
   "id": "1515c72d",
   "metadata": {},
   "outputs": [
    {
     "data": {
      "text/plain": [
       "[34, 56, 78]"
      ]
     },
     "execution_count": 89,
     "metadata": {},
     "output_type": "execute_result"
    }
   ],
   "source": [
    "l=[12,34,56,78,21,11]\n",
    "list(filter(lambda x:x>30,l))"
   ]
  },
  {
   "cell_type": "markdown",
   "id": "4dbd01d9",
   "metadata": {},
   "source": [
    "# recursion"
   ]
  },
  {
   "cell_type": "markdown",
   "id": "71489382",
   "metadata": {},
   "source": [
    "#### 1. Explain the concept of recursion in Python. How does it differ from iteration?"
   ]
  },
  {
   "cell_type": "raw",
   "id": "dfc17138",
   "metadata": {},
   "source": [
    "Recursion:\n",
    "    it is the way to the function by itself.\n",
    "    Recursion is a way more efficient technique to solve the problem.\n",
    "    In recursion one base case is always written to make as a foundational case.\n",
    "\n",
    "Iteration:\n",
    "In iteration, function does not call itself.\n",
    "It is executed using the loop concepts.\n",
    "In iteration technique , every value is visited as per the condition given.\n",
    "    "
   ]
  },
  {
   "cell_type": "markdown",
   "id": "d8297c87",
   "metadata": {},
   "source": [
    "#### 2. Write a Python program to calculate the factorial of a number using recursion.\n"
   ]
  },
  {
   "cell_type": "code",
   "execution_count": 120,
   "id": "42b7a31e",
   "metadata": {},
   "outputs": [],
   "source": [
    "def fact(n):\n",
    "    if(n<=1):\n",
    "        return n\n",
    "    else:\n",
    "        return n*fact(n-1)"
   ]
  },
  {
   "cell_type": "code",
   "execution_count": 121,
   "id": "7736c50a",
   "metadata": {},
   "outputs": [
    {
     "data": {
      "text/plain": [
       "120"
      ]
     },
     "execution_count": 121,
     "metadata": {},
     "output_type": "execute_result"
    }
   ],
   "source": [
    "fact(5)"
   ]
  },
  {
   "cell_type": "markdown",
   "id": "402c7514",
   "metadata": {},
   "source": [
    "#### 3. Create a recursive Python function to find the nth Fibonacci number."
   ]
  },
  {
   "cell_type": "code",
   "execution_count": 122,
   "id": "01b27074",
   "metadata": {},
   "outputs": [
    {
     "name": "stdout",
     "output_type": "stream",
     "text": [
      "Enter the value of n: 4\n",
      "The 4th Fibonacci number is: 3\n"
     ]
    }
   ],
   "source": [
    "def fibonacci(n):\n",
    "    if n <= 0:\n",
    "        return 0\n",
    "    elif n == 1:\n",
    "        return 1\n",
    "    else:\n",
    "        return fibonacci(n - 1) + fibonacci(n - 2)\n",
    "n = int(input(\"Enter the value of n: \"))\n",
    "\n",
    "if n < 0:\n",
    "    print(\"Please enter a non-negative integer.\")\n",
    "else:\n",
    "    result = fibonacci(n)\n",
    "    print(f\"The {n}th Fibonacci number is: {result}\")\n"
   ]
  },
  {
   "cell_type": "markdown",
   "id": "ae7eb875",
   "metadata": {},
   "source": [
    "#### 4. Write a recursive Python function to calculate the sum of all elements in a list.\n"
   ]
  },
  {
   "cell_type": "code",
   "execution_count": 123,
   "id": "10a64abf",
   "metadata": {},
   "outputs": [
    {
     "name": "stdout",
     "output_type": "stream",
     "text": [
      "Sum of the elements in the list: 15\n"
     ]
    }
   ],
   "source": [
    "def recursive_sum(lst):\n",
    "    if not lst:\n",
    "        return 0\n",
    "    else:\n",
    "        return lst[0] + recursive_sum(lst[1:])\n",
    "my_list = [1, 2, 3, 4, 5]\n",
    "\n",
    "result = recursive_sum(my_list)\n",
    "print(\"Sum of the elements in the list:\", result)\n"
   ]
  },
  {
   "cell_type": "markdown",
   "id": "88dc7881",
   "metadata": {},
   "source": [
    "\n",
    "#### 5. How can you prevent a recursive function from running indefinitely, causing a stack overflow error"
   ]
  },
  {
   "cell_type": "raw",
   "id": "b372d7f5",
   "metadata": {},
   "source": [
    "We should give the proper base case condition.\n",
    "If proper base case is not given then recursion will call itself to the depth and can cause stackoverflow error."
   ]
  },
  {
   "cell_type": "markdown",
   "id": "70c695b7",
   "metadata": {},
   "source": [
    "#### 6. Create a recursive Python function to find the greatest common divisor (GCD) of two numbers using the Euclidean algorithm."
   ]
  },
  {
   "cell_type": "code",
   "execution_count": 124,
   "id": "28a39a48",
   "metadata": {},
   "outputs": [
    {
     "name": "stdout",
     "output_type": "stream",
     "text": [
      "Enter the first number: 23\n",
      "Enter the second number: 3\n",
      "The GCD of 23 and 3 is 1\n"
     ]
    }
   ],
   "source": [
    "def gcd(a, b):\n",
    "    if b == 0:\n",
    "        return a\n",
    "    else:\n",
    "        return gcd(b, a % b)\n",
    "\n",
    "num1 = int(input(\"Enter the first number: \"))\n",
    "num2 = int(input(\"Enter the second number: \"))\n",
    "result = gcd(num1, num2)\n",
    "\n",
    "print(f\"The GCD of {num1} and {num2} is {result}\")\n"
   ]
  },
  {
   "cell_type": "markdown",
   "id": "dffcd858",
   "metadata": {},
   "source": [
    "#### 7. Write a recursive Python function to reverse a string.\n"
   ]
  },
  {
   "cell_type": "code",
   "execution_count": 125,
   "id": "781dd394",
   "metadata": {},
   "outputs": [
    {
     "data": {
      "text/plain": [
       "'sllikswp'"
      ]
     },
     "execution_count": 125,
     "metadata": {},
     "output_type": "execute_result"
    }
   ],
   "source": [
    "def reverse_string(s):\n",
    "    if(s==''):\n",
    "        return \"\"\n",
    "    else:\n",
    "        return reverse_string(s[1::])+s[0]\n",
    "reverse_string(\"pwskills\")"
   ]
  },
  {
   "cell_type": "markdown",
   "id": "6c18acd1",
   "metadata": {},
   "source": [
    "#### 8.Create a recursive Python function to calculate the power of a number (x^n)."
   ]
  },
  {
   "cell_type": "code",
   "execution_count": 126,
   "id": "26c1c3e5",
   "metadata": {},
   "outputs": [
    {
     "name": "stdout",
     "output_type": "stream",
     "text": [
      "Enter the base (x): 3\n",
      "Enter the exponent (n): 4\n",
      "3.0^4 is equal to 81.0\n"
     ]
    }
   ],
   "source": [
    "def power(x, n):\n",
    "    if n == 0:\n",
    "        return 1\n",
    "    elif n < 0:\n",
    "        return 1 / power(x, -n)\n",
    "    else:\n",
    "        return x * power(x, n - 1)\n",
    "\n",
    "base = float(input(\"Enter the base (x): \"))\n",
    "exponent = int(input(\"Enter the exponent (n): \"))\n",
    "\n",
    "result = power(base, exponent)\n",
    "\n",
    "print(f\"{base}^{exponent} is equal to {result}\")\n"
   ]
  },
  {
   "cell_type": "markdown",
   "id": "406386fc",
   "metadata": {},
   "source": [
    "#### 9. Write a recursive Python function to find all permutations of a given string.\n"
   ]
  },
  {
   "cell_type": "code",
   "execution_count": 127,
   "id": "cf8933c9",
   "metadata": {},
   "outputs": [
    {
     "name": "stdout",
     "output_type": "stream",
     "text": [
      "ABC\n",
      "ACB\n",
      "BAC\n",
      "BCA\n",
      "CBA\n",
      "CAB\n"
     ]
    }
   ],
   "source": [
    "def swap(ch, i, j):\n",
    "    temp = ch[i]\n",
    "    ch[i] = ch[j]\n",
    "    ch[j] = temp\n",
    "def permutations(ch, curr_index=0):\n",
    " \n",
    "    if curr_index == len(ch) - 1:\n",
    "        print(''.join(ch))\n",
    " \n",
    "    for i in range(curr_index, len(ch)):\n",
    "        swap(ch, curr_index, i)\n",
    "        permutations(ch, curr_index + 1)\n",
    "        swap(ch, curr_index, i)\n",
    " \n",
    " \n",
    "if __name__ == '__main__':\n",
    " \n",
    "    s = 'ABC'\n",
    "    permutations(list(s))\n",
    " \n"
   ]
  },
  {
   "cell_type": "markdown",
   "id": "65b047f6",
   "metadata": {},
   "source": [
    "#### 10. Write a recursive Python function to check if a string is a palindrome."
   ]
  },
  {
   "cell_type": "code",
   "execution_count": 128,
   "id": "bf251933",
   "metadata": {},
   "outputs": [
    {
     "name": "stdout",
     "output_type": "stream",
     "text": [
      "Enter a string: kanak\n",
      "'kanak' is a palindrome.\n"
     ]
    }
   ],
   "source": [
    "def is_palindrome(s):\n",
    "    if len(s) <= 1:\n",
    "        return True\n",
    "    if s[0] == s[-1]:\n",
    "        return is_palindrome(s[1:-1])\n",
    "    return False\n",
    "string = input(\"Enter a string: \")\n",
    "string = string.replace(\" \", \"\").lower()\n",
    "if is_palindrome(string):\n",
    "    print(f\"'{string}' is a palindrome.\")\n",
    "else:\n",
    "    print(f\"'{string}' is not a palindrome.\")\n"
   ]
  },
  {
   "cell_type": "markdown",
   "id": "a13f6b39",
   "metadata": {},
   "source": [
    "#### 11. Create a recursive Python function to generate all possible combinations of a list of elements."
   ]
  },
  {
   "cell_type": "code",
   "execution_count": 130,
   "id": "c0dedd49",
   "metadata": {},
   "outputs": [
    {
     "name": "stdout",
     "output_type": "stream",
     "text": [
      "Enter elements separated by spaces: 1 2 3 4 5\n",
      "Enter the length of combinations to generate: 2\n",
      "All possible combinations of length 2 are:\n",
      "['1', '2']\n",
      "['1', '3']\n",
      "['1', '4']\n",
      "['1', '5']\n",
      "['2', '3']\n",
      "['2', '4']\n",
      "['2', '5']\n",
      "['3', '4']\n",
      "['3', '5']\n",
      "['4', '5']\n"
     ]
    }
   ],
   "source": [
    "def generate_combinations(elements, k):\n",
    "    if k == 0:\n",
    "        return [[]]  \n",
    "    if len(elements) == 0:\n",
    "        return []  \n",
    "\n",
    "    first_element = elements[0]\n",
    "    rest_of_elements = elements[1:]\n",
    "    combinations_with_first = [[first_element] + combo for combo in generate_combinations(rest_of_elements, k - 1)]\n",
    "    combinations_without_first = generate_combinations(rest_of_elements, k)\n",
    "\n",
    "    return combinations_with_first + combinations_without_first\n",
    "elements = input(\"Enter elements separated by spaces: \").split()\n",
    "k = int(input(\"Enter the length of combinations to generate: \"))\n",
    "combinations = generate_combinations(elements, k)\n",
    "print(\"All possible combinations of length\", k, \"are:\")\n",
    "for combo in combinations:\n",
    "    print(combo)\n"
   ]
  },
  {
   "cell_type": "code",
   "execution_count": null,
   "id": "b2cec470",
   "metadata": {},
   "outputs": [],
   "source": []
  },
  {
   "cell_type": "markdown",
   "id": "baf175d3",
   "metadata": {},
   "source": [
    "# basics of functions"
   ]
  },
  {
   "cell_type": "markdown",
   "id": "e11fc8b4",
   "metadata": {},
   "source": [
    "#### 1. What is a function in Python, and why is it used?\n"
   ]
  },
  {
   "cell_type": "raw",
   "id": "e94e9ebc",
   "metadata": {},
   "source": [
    "function():\n",
    "    it is a block of the code which is responsible to do any task repeetadly whenever it is called.\n",
    "    function is used to reuse the code again and again.\n",
    "    "
   ]
  },
  {
   "cell_type": "markdown",
   "id": "512ea8d9",
   "metadata": {},
   "source": [
    "#### 2. How do you define a function in Python? Provide an example"
   ]
  },
  {
   "cell_type": "markdown",
   "id": "5deeb044",
   "metadata": {},
   "source": [
    "function () in python is declared using the def keyward.\n"
   ]
  },
  {
   "cell_type": "code",
   "execution_count": 90,
   "id": "cff92176",
   "metadata": {},
   "outputs": [],
   "source": [
    "def fun():\n",
    "    return \"hello,world\""
   ]
  },
  {
   "cell_type": "code",
   "execution_count": 91,
   "id": "4e14bfae",
   "metadata": {},
   "outputs": [
    {
     "data": {
      "text/plain": [
       "'hello,world'"
      ]
     },
     "execution_count": 91,
     "metadata": {},
     "output_type": "execute_result"
    }
   ],
   "source": [
    "fun()"
   ]
  },
  {
   "cell_type": "markdown",
   "id": "3736cb34",
   "metadata": {},
   "source": [
    "#### 3. Explain the difference between a function definition and a function call.\n"
   ]
  },
  {
   "cell_type": "raw",
   "id": "226e5163",
   "metadata": {},
   "source": [
    "function defination:\n",
    "    function defination contains the actual logic of the program\n",
    "\n",
    "function call:\n",
    "    by giving the name of te function() with paraenthesis and passing the parameters as per mentioned is included in the function call"
   ]
  },
  {
   "cell_type": "code",
   "execution_count": 92,
   "id": "eb89bbb1",
   "metadata": {},
   "outputs": [],
   "source": [
    "## example to show function call and defination\n",
    "\n",
    "def fun():\n",
    "    \"\"\"this is function defination\"\"\"\n",
    "    return \"hello world\"    "
   ]
  },
  {
   "cell_type": "code",
   "execution_count": 93,
   "id": "3b13522b",
   "metadata": {},
   "outputs": [
    {
     "data": {
      "text/plain": [
       "'hello world'"
      ]
     },
     "execution_count": 93,
     "metadata": {},
     "output_type": "execute_result"
    }
   ],
   "source": [
    "fun() ## function call"
   ]
  },
  {
   "cell_type": "markdown",
   "id": "1f128a8e",
   "metadata": {},
   "source": [
    "#### 4. Write a Python program that defines a function to calculate the sum of two numbers and then calls the function.\n"
   ]
  },
  {
   "cell_type": "code",
   "execution_count": 94,
   "id": "6e627cd4",
   "metadata": {},
   "outputs": [],
   "source": [
    "def sum1(a,b):\n",
    "    return a+b\n"
   ]
  },
  {
   "cell_type": "code",
   "execution_count": 95,
   "id": "f5017db5",
   "metadata": {},
   "outputs": [
    {
     "data": {
      "text/plain": [
       "68"
      ]
     },
     "execution_count": 95,
     "metadata": {},
     "output_type": "execute_result"
    }
   ],
   "source": [
    "sum1(23,45)"
   ]
  },
  {
   "cell_type": "markdown",
   "id": "52d251e1",
   "metadata": {},
   "source": [
    "#### 5. What is a function signature, and what information does it typically include?\n"
   ]
  },
  {
   "cell_type": "raw",
   "id": "32d9a362",
   "metadata": {},
   "source": [
    "function signature:\n",
    "it is the declaration of function in the program.\n",
    "It includes the name of the function, parameters,return type of the function.\n",
    "It includes the protype of the function"
   ]
  },
  {
   "cell_type": "markdown",
   "id": "1a705500",
   "metadata": {},
   "source": [
    "#### 6. Create a Python function that takes two arguments and returns their product.\n"
   ]
  },
  {
   "cell_type": "code",
   "execution_count": 96,
   "id": "51210ac5",
   "metadata": {},
   "outputs": [],
   "source": [
    "def product(a,b):\n",
    "    \"\"\"this function returns the product of 2 numbers\"\"\"\n",
    "    return a*b"
   ]
  },
  {
   "cell_type": "code",
   "execution_count": 97,
   "id": "d3f5d985",
   "metadata": {},
   "outputs": [
    {
     "data": {
      "text/plain": [
       "12"
      ]
     },
     "execution_count": 97,
     "metadata": {},
     "output_type": "execute_result"
    }
   ],
   "source": [
    "product(3,4)"
   ]
  },
  {
   "cell_type": "markdown",
   "id": "fbb9e8b3",
   "metadata": {},
   "source": [
    "# Function Parameters and Arguments:\n"
   ]
  },
  {
   "cell_type": "markdown",
   "id": "61cfa24d",
   "metadata": {},
   "source": [
    "#### 1. Explain the concepts of formal parameters and actual arguments in Python functions.\n"
   ]
  },
  {
   "cell_type": "raw",
   "id": "0154dcff",
   "metadata": {},
   "source": [
    "formal arguments:\n",
    "    the arguments which are passed into the function signature are formal arguments.\n",
    "    formal arguments are dummy arguments.\n",
    "    when the function is called at that time the actuaal values of the parameters are passed to the formal arguments "
   ]
  },
  {
   "cell_type": "raw",
   "id": "f5bb8f18",
   "metadata": {},
   "source": [
    "actual arguments:\n",
    "    the arguments which are passed into the function calling are actual arguments.\n",
    "    actual arguments are real arguments.\n",
    "    when the function is called at that time the actuaal values of the parameters are passed to the formal arguments "
   ]
  },
  {
   "cell_type": "markdown",
   "id": "c24cac48",
   "metadata": {},
   "source": [
    "#### 2. Write a Python program that defines a function with default argument values.\n"
   ]
  },
  {
   "cell_type": "code",
   "execution_count": 98,
   "id": "03e077f1",
   "metadata": {},
   "outputs": [],
   "source": [
    "def default_args(c,a=10,b=2):\n",
    "    return a+b+c"
   ]
  },
  {
   "cell_type": "code",
   "execution_count": 99,
   "id": "fbee72b7",
   "metadata": {},
   "outputs": [
    {
     "data": {
      "text/plain": [
       "14"
      ]
     },
     "execution_count": 99,
     "metadata": {},
     "output_type": "execute_result"
    }
   ],
   "source": [
    "default_args(2)"
   ]
  },
  {
   "cell_type": "markdown",
   "id": "1339e19b",
   "metadata": {},
   "source": [
    "#### 3. How do you use keyword arguments in Python function calls? Provide an example.\n"
   ]
  },
  {
   "cell_type": "markdown",
   "id": "037da056",
   "metadata": {},
   "source": [
    "keyward arguments takes the argument from the function in the key value pair i.e dictionary format."
   ]
  },
  {
   "cell_type": "code",
   "execution_count": 100,
   "id": "370443f6",
   "metadata": {},
   "outputs": [],
   "source": [
    "def keyward_Args(**kwargs):\n",
    "    return kwargs"
   ]
  },
  {
   "cell_type": "code",
   "execution_count": 101,
   "id": "0e9114d1",
   "metadata": {},
   "outputs": [
    {
     "data": {
      "text/plain": [
       "{'name': 'pwskills', 'mentor': 'sudhanshu sir'}"
      ]
     },
     "execution_count": 101,
     "metadata": {},
     "output_type": "execute_result"
    }
   ],
   "source": [
    "keyward_Args(name='pwskills',mentor='sudhanshu sir')"
   ]
  },
  {
   "cell_type": "markdown",
   "id": "7ccf210f",
   "metadata": {},
   "source": [
    "#### 4. Create a Python function that accepts a variable number of arguments and calculates their sum.\n"
   ]
  },
  {
   "cell_type": "code",
   "execution_count": 102,
   "id": "fceb8f26",
   "metadata": {},
   "outputs": [],
   "source": [
    "def sum1(*args):\n",
    "    \"\"\"it gives the sum of values provided as tuple of arguments\"\"\"\n",
    "    return sum(args)"
   ]
  },
  {
   "cell_type": "code",
   "execution_count": 103,
   "id": "50789b86",
   "metadata": {},
   "outputs": [
    {
     "data": {
      "text/plain": [
       "10"
      ]
     },
     "execution_count": 103,
     "metadata": {},
     "output_type": "execute_result"
    }
   ],
   "source": [
    "sum1(1,2,3,4)"
   ]
  },
  {
   "cell_type": "markdown",
   "id": "8c26df8f",
   "metadata": {},
   "source": [
    "#### 5. What is the purpose of the `*args` and `**kwargs` syntax in function parameter lists?\n"
   ]
  },
  {
   "cell_type": "raw",
   "id": "69b9aeaa",
   "metadata": {},
   "source": [
    "*args and **kwargs :\n",
    "    these both accept the varable length of arguments.\n",
    "    when the number of arguments is not fixed at that time use  *args and **kwargs\n",
    "    *args: it takes the input of values into the tuple format \n",
    "    **kwargs: it takes the input of values into te key-value pair. i.e in the dictionary format"
   ]
  },
  {
   "cell_type": "markdown",
   "id": "cdf7e4d0",
   "metadata": {},
   "source": [
    "# Return Values and Scoping:\n"
   ]
  },
  {
   "cell_type": "markdown",
   "id": "17847ed7",
   "metadata": {},
   "source": [
    "#### 1. Describe the role of the `return` statement in Python functions and provide examples."
   ]
  },
  {
   "cell_type": "raw",
   "id": "09233275",
   "metadata": {},
   "source": [
    "return statement:\n",
    "return statement is used to return something from the function itself which is gonna be used in future for any purpose"
   ]
  },
  {
   "cell_type": "markdown",
   "id": "7aa57b0a",
   "metadata": {},
   "source": [
    "#### 2. Explain the concept of variable scope in Python, including local and global variables.\n"
   ]
  },
  {
   "cell_type": "raw",
   "id": "65e15c67",
   "metadata": {},
   "source": [
    "local variable :\n",
    "    variable which is declared inside the function and can not be accessed outside of the function is local variable\n",
    "\n",
    "global variable :\n",
    "    variable which is declared outside the function and we can aceess the variable both inside and outside function."
   ]
  },
  {
   "cell_type": "markdown",
   "id": "f124f3e9",
   "metadata": {},
   "source": [
    "#### 3. Write a Python program that demonstrates the use of global variables within functions.\n"
   ]
  },
  {
   "cell_type": "code",
   "execution_count": 104,
   "id": "d902394a",
   "metadata": {},
   "outputs": [],
   "source": [
    "c=0\n",
    "def increment():\n",
    "    global c\n",
    "    c+=1\n",
    "    print(c)"
   ]
  },
  {
   "cell_type": "code",
   "execution_count": 105,
   "id": "3aa1ae50",
   "metadata": {},
   "outputs": [
    {
     "name": "stdout",
     "output_type": "stream",
     "text": [
      "1\n"
     ]
    }
   ],
   "source": [
    "increment()"
   ]
  },
  {
   "cell_type": "markdown",
   "id": "80e27f57",
   "metadata": {},
   "source": [
    "#### 4. Create a Python function that calculates the factorial of a number and returns it.\n"
   ]
  },
  {
   "cell_type": "code",
   "execution_count": 106,
   "id": "ec6a1b7f",
   "metadata": {},
   "outputs": [],
   "source": [
    "def fact(n):\n",
    "    if(n<=1):\n",
    "        return n\n",
    "    else:\n",
    "        return n*fact(n-1)"
   ]
  },
  {
   "cell_type": "code",
   "execution_count": 107,
   "id": "8f6b2512",
   "metadata": {},
   "outputs": [
    {
     "data": {
      "text/plain": [
       "120"
      ]
     },
     "execution_count": 107,
     "metadata": {},
     "output_type": "execute_result"
    }
   ],
   "source": [
    "fact(5)"
   ]
  },
  {
   "cell_type": "markdown",
   "id": "50c788c5",
   "metadata": {},
   "source": [
    "#### 5. How can you access variables defined outside a function from within the function?\n"
   ]
  },
  {
   "cell_type": "code",
   "execution_count": 108,
   "id": "e956e3b1",
   "metadata": {},
   "outputs": [],
   "source": [
    "#using global keyward we can access the variables defined outside from within the function\n",
    "\n",
    "x=10\n",
    "def fun():\n",
    "    global x\n",
    "    x=20\n",
    "    return(x)"
   ]
  },
  {
   "cell_type": "code",
   "execution_count": 109,
   "id": "f083c687",
   "metadata": {},
   "outputs": [
    {
     "data": {
      "text/plain": [
       "20"
      ]
     },
     "execution_count": 109,
     "metadata": {},
     "output_type": "execute_result"
    }
   ],
   "source": [
    "fun()"
   ]
  },
  {
   "cell_type": "markdown",
   "id": "98557f93",
   "metadata": {},
   "source": [
    "# Lambda Functions and Higher-Order Functions:\n"
   ]
  },
  {
   "cell_type": "markdown",
   "id": "90653359",
   "metadata": {},
   "source": [
    "#### 1. What are lambda functions in Python, and when are they typically used?\n"
   ]
  },
  {
   "cell_type": "raw",
   "id": "f95f472f",
   "metadata": {},
   "source": [
    "lambda function: lambda function in python is one liner function.\n",
    "                 It is anonymous in the nature.\n",
    "                 it is nameless function.\n",
    "                basic syntax: lambda arguments: expression\n",
    "                lambda function have multiple arguments but expression wise output is only one"
   ]
  },
  {
   "cell_type": "markdown",
   "id": "9062d411",
   "metadata": {},
   "source": [
    "#### 2. Write a Python program that uses lambda functions to sort a list of tuples based on the second element.\n"
   ]
  },
  {
   "cell_type": "code",
   "execution_count": 110,
   "id": "9b1b6663",
   "metadata": {},
   "outputs": [
    {
     "data": {
      "text/plain": [
       "(12, 34, 56)"
      ]
     },
     "execution_count": 110,
     "metadata": {},
     "output_type": "execute_result"
    }
   ],
   "source": [
    "t=(12,34,56)\n",
    "l=list(t)\n",
    "tuple(l) "
   ]
  },
  {
   "cell_type": "markdown",
   "id": "3a620c86",
   "metadata": {},
   "source": [
    "#### 3. Explain the concept of higher-order functions in Python, and provide an example.\n"
   ]
  },
  {
   "cell_type": "raw",
   "id": "4e09b15b",
   "metadata": {},
   "source": [
    "Higher order function:\n",
    "    the fucntion which takes function as an argument and returns the output as a function itself.\n",
    "    they are used to change the current behaviour of the function.\n",
    "    map(),reduce() ,filter() arre some of the higher order function"
   ]
  },
  {
   "cell_type": "code",
   "execution_count": 111,
   "id": "67a82d27",
   "metadata": {},
   "outputs": [
    {
     "data": {
      "text/plain": [
       "[8, 4, 7]"
      ]
     },
     "execution_count": 111,
     "metadata": {},
     "output_type": "execute_result"
    }
   ],
   "source": [
    "#calculate the length of each string in the list of strings\n",
    "l=['pwskills','data','science']\n",
    "list(map(lambda x:len(x),l))"
   ]
  },
  {
   "cell_type": "markdown",
   "id": "78e18a38",
   "metadata": {},
   "source": [
    "#### 4. Create a Python function that takes a list of numbers and a function as arguments, applying the function to each element in the list.\n"
   ]
  },
  {
   "cell_type": "code",
   "execution_count": 112,
   "id": "a70caa52",
   "metadata": {},
   "outputs": [
    {
     "data": {
      "text/plain": [
       "[12, 34, 56]"
      ]
     },
     "execution_count": 112,
     "metadata": {},
     "output_type": "execute_result"
    }
   ],
   "source": [
    "l=[12,34,56,7]\n",
    "list(filter(lambda x:x%2==0,l))"
   ]
  },
  {
   "cell_type": "markdown",
   "id": "32170b49",
   "metadata": {},
   "source": [
    "# Built-in Functions:\n"
   ]
  },
  {
   "cell_type": "markdown",
   "id": "0768a45a",
   "metadata": {},
   "source": [
    "#### 1. Describe the role of built-in functions like `len()`, `max()`, and `min()` in Python."
   ]
  },
  {
   "cell_type": "raw",
   "id": "4826f839",
   "metadata": {},
   "source": [
    "built-in functions : the functions which are already written into the python are built-in functions\n",
    "len(): this function returns the length of an object\n",
    "max(): With a single iterable argument, return its biggest item.\n",
    "min():With a single iterable argument, return its smallest item."
   ]
  },
  {
   "cell_type": "markdown",
   "id": "bf4da7ae",
   "metadata": {},
   "source": [
    "#### 2. Write a Python program that uses the `map()` function to apply a function to each element of a list.\n"
   ]
  },
  {
   "cell_type": "code",
   "execution_count": 113,
   "id": "b5a7b1b1",
   "metadata": {},
   "outputs": [
    {
     "data": {
      "text/plain": [
       "[14, 36, 7, 8, 3]"
      ]
     },
     "execution_count": 113,
     "metadata": {},
     "output_type": "execute_result"
    }
   ],
   "source": [
    "l=[12,34,5,6,1]\n",
    "list(map(lambda x:x+2,l))"
   ]
  },
  {
   "cell_type": "markdown",
   "id": "1b3e26bc",
   "metadata": {},
   "source": [
    "#### 3. How does the `filter()` function work in Python, and when would you use it?"
   ]
  },
  {
   "cell_type": "raw",
   "id": "a6819ec5",
   "metadata": {},
   "source": [
    "filter() function is a higher order function which returns the iterable object.\n",
    "filter()is used when we need to filter the elements based on the condition we have given."
   ]
  },
  {
   "cell_type": "markdown",
   "id": "a0310203",
   "metadata": {},
   "source": [
    "#### 4. Create a Python program that uses the `reduce()` function to find the product of all elements in a list."
   ]
  },
  {
   "cell_type": "code",
   "execution_count": 114,
   "id": "05d1a937",
   "metadata": {},
   "outputs": [
    {
     "data": {
      "text/plain": [
       "24"
      ]
     },
     "execution_count": 114,
     "metadata": {},
     "output_type": "execute_result"
    }
   ],
   "source": [
    "from functools import reduce\n",
    "l=[1,2,3,4]\n",
    "reduce(lambda x,y:x*y,l)"
   ]
  },
  {
   "cell_type": "markdown",
   "id": "f3ece51c",
   "metadata": {},
   "source": [
    "# Function Documentation and Best Practices:\n"
   ]
  },
  {
   "cell_type": "markdown",
   "id": "a79d1bb3",
   "metadata": {},
   "source": [
    "#### 1. Explain the purpose of docstrings in Python functions and how to write them.\n"
   ]
  },
  {
   "cell_type": "raw",
   "id": "92a2d41c",
   "metadata": {},
   "source": [
    "docstring :\n",
    "    docstring is used to give some extra information about the function.\n",
    "    when we right the function name and press the shift+tab inside the function tab then\n",
    "    at that time we will get the content written inside the docstring"
   ]
  },
  {
   "cell_type": "code",
   "execution_count": 115,
   "id": "9224ec97",
   "metadata": {},
   "outputs": [],
   "source": [
    "def sum1(a,b):\n",
    "    \"\"\"it gives the summation of two numbers\"\"\"\n",
    "    return a+b\n"
   ]
  },
  {
   "cell_type": "code",
   "execution_count": 116,
   "id": "7febeabf",
   "metadata": {},
   "outputs": [
    {
     "data": {
      "text/plain": [
       "4"
      ]
     },
     "execution_count": 116,
     "metadata": {},
     "output_type": "execute_result"
    }
   ],
   "source": [
    "sum1(1,3)"
   ]
  },
  {
   "cell_type": "markdown",
   "id": "7a5f84a7",
   "metadata": {},
   "source": [
    "#### 2. Describe some best practices for naming functions and variables in Python, including naming conventions and guidelines.\n"
   ]
  },
  {
   "cell_type": "raw",
   "id": "6831d007",
   "metadata": {},
   "source": [
    "\n",
    "1.while naming the function and variables in python use the name as meaningful as you can.\n",
    "2.avoid giving the name too large and irrelevent.\n",
    "3.chose the names which are meaningful and consise.\n",
    "4.avoid the use of abbrevations and short cuts.\n",
    "5.avoid the function name as as the default names in language itself.(i.e don't give name to the functions which are reserved one)\n",
    "6.use comments whenever required.\n"
   ]
  },
  {
   "cell_type": "code",
   "execution_count": null,
   "id": "90bab7a4",
   "metadata": {},
   "outputs": [],
   "source": []
  },
  {
   "cell_type": "code",
   "execution_count": null,
   "id": "d17f5355",
   "metadata": {},
   "outputs": [],
   "source": []
  },
  {
   "cell_type": "code",
   "execution_count": null,
   "id": "ca6bace8",
   "metadata": {},
   "outputs": [],
   "source": []
  },
  {
   "cell_type": "code",
   "execution_count": null,
   "id": "19cc31f9",
   "metadata": {},
   "outputs": [],
   "source": []
  },
  {
   "cell_type": "code",
   "execution_count": null,
   "id": "ab519e06",
   "metadata": {},
   "outputs": [],
   "source": []
  },
  {
   "cell_type": "code",
   "execution_count": null,
   "id": "4b21889b",
   "metadata": {},
   "outputs": [],
   "source": []
  },
  {
   "cell_type": "code",
   "execution_count": null,
   "id": "216d325a",
   "metadata": {},
   "outputs": [],
   "source": []
  },
  {
   "cell_type": "code",
   "execution_count": null,
   "id": "8011916b",
   "metadata": {},
   "outputs": [],
   "source": []
  },
  {
   "cell_type": "code",
   "execution_count": null,
   "id": "1ae956ca",
   "metadata": {},
   "outputs": [],
   "source": []
  },
  {
   "cell_type": "code",
   "execution_count": null,
   "id": "8699c56c",
   "metadata": {},
   "outputs": [],
   "source": []
  },
  {
   "cell_type": "code",
   "execution_count": null,
   "id": "ddf659b2",
   "metadata": {},
   "outputs": [],
   "source": []
  },
  {
   "cell_type": "code",
   "execution_count": null,
   "id": "99d921d7",
   "metadata": {},
   "outputs": [],
   "source": []
  },
  {
   "cell_type": "code",
   "execution_count": null,
   "id": "d367ecca",
   "metadata": {},
   "outputs": [],
   "source": []
  },
  {
   "cell_type": "code",
   "execution_count": null,
   "id": "ff1bbecb",
   "metadata": {},
   "outputs": [],
   "source": []
  },
  {
   "cell_type": "code",
   "execution_count": null,
   "id": "d8c14f4e",
   "metadata": {},
   "outputs": [],
   "source": []
  },
  {
   "cell_type": "code",
   "execution_count": null,
   "id": "c0ff734e",
   "metadata": {},
   "outputs": [],
   "source": []
  },
  {
   "cell_type": "markdown",
   "id": "7687f73e",
   "metadata": {},
   "source": []
  }
 ],
 "metadata": {
  "kernelspec": {
   "display_name": "Python 3 (ipykernel)",
   "language": "python",
   "name": "python3"
  },
  "language_info": {
   "codemirror_mode": {
    "name": "ipython",
    "version": 3
   },
   "file_extension": ".py",
   "mimetype": "text/x-python",
   "name": "python",
   "nbconvert_exporter": "python",
   "pygments_lexer": "ipython3",
   "version": "3.10.9"
  }
 },
 "nbformat": 4,
 "nbformat_minor": 5
}
