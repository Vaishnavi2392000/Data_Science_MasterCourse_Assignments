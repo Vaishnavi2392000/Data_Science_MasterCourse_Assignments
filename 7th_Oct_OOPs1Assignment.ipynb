{
 "cells": [
  {
   "cell_type": "markdown",
   "id": "2615c246",
   "metadata": {},
   "source": [
    "# Questions based on :OOP"
   ]
  },
  {
   "cell_type": "markdown",
   "id": "3d12d542",
   "metadata": {},
   "source": [
    "####  1: Bank Account Create a class representing a bank account with attributes like account number, account holder name, and balance. Implement methods to deposit and withdraw money from the account."
   ]
  },
  {
   "cell_type": "code",
   "execution_count": 25,
   "id": "0212aba8",
   "metadata": {},
   "outputs": [],
   "source": [
    "class Bank:\n",
    "    def __init__(self,acc_num,holder_name,balence):\n",
    "        self.__acc_num=acc_num\n",
    "        self.__balence=balence\n",
    "        self.holder_name=holder_name\n",
    "        \n",
    "    def showdetails(self):\n",
    "         print(f\"the account holder name is {self.holder_name}. The account number is {self.__acc_num} and the current balence is rs {self.__balence}\")\n",
    "      \n",
    "    def deposit_money(self,amount):\n",
    "        print(f\"your current balence is {self.__balence}\")\n",
    "        self.__balence+=amount\n",
    "        print(f'your account has been credited with rs {amount} and your current balence is rs {self.__balence}')\n",
    "        \n",
    "    def withdraw(self,amount):\n",
    "        if(self.__balence<amount):\n",
    "            print(\"your balence is insufficient\")\n",
    "        else:\n",
    "            self.__balence-=amount\n",
    "            print(f'your account has debited with rs {amount}  and current balence is rs {self.__balence}')\n",
    "        \n",
    "               \n",
    "    \n",
    "    "
   ]
  },
  {
   "cell_type": "code",
   "execution_count": 26,
   "id": "aa1ce64d",
   "metadata": {},
   "outputs": [
    {
     "data": {
      "text/plain": [
       "<__main__.Bank at 0x1973d3ad480>"
      ]
     },
     "execution_count": 26,
     "metadata": {},
     "output_type": "execute_result"
    }
   ],
   "source": [
    "b=Bank(1234,'shreya',23500)\n",
    "b"
   ]
  },
  {
   "cell_type": "code",
   "execution_count": 27,
   "id": "8612b38e",
   "metadata": {},
   "outputs": [
    {
     "name": "stdout",
     "output_type": "stream",
     "text": [
      "the account holder name is shreya. The account number is 1234 and the current balence is rs 23500\n"
     ]
    }
   ],
   "source": [
    "b.showdetails()"
   ]
  },
  {
   "cell_type": "code",
   "execution_count": 28,
   "id": "a087b2ec",
   "metadata": {},
   "outputs": [
    {
     "name": "stdout",
     "output_type": "stream",
     "text": [
      "your current balence is 23500\n",
      "your account has been credited with rs 1200 and your current balence is rs 24700\n"
     ]
    }
   ],
   "source": [
    "b.deposit_money(1200)"
   ]
  },
  {
   "cell_type": "code",
   "execution_count": 29,
   "id": "3f4f8ac7",
   "metadata": {},
   "outputs": [
    {
     "name": "stdout",
     "output_type": "stream",
     "text": [
      "your balence is insufficient\n"
     ]
    }
   ],
   "source": [
    "b.withdraw(100000)\n"
   ]
  },
  {
   "cell_type": "code",
   "execution_count": 30,
   "id": "9d42a5b3",
   "metadata": {},
   "outputs": [
    {
     "name": "stdout",
     "output_type": "stream",
     "text": [
      "your account has debited with rs 1200  and current balence is rs 23500\n"
     ]
    }
   ],
   "source": [
    "b.withdraw(1200)"
   ]
  },
  {
   "cell_type": "markdown",
   "id": "a07efe4e",
   "metadata": {},
   "source": [
    "#### Problem 2: Employee Management Create a class representing an employee with attributes like employee ID, name, and salary. Implement methods to calculate the yearly bonus and display employee details."
   ]
  },
  {
   "cell_type": "code",
   "execution_count": 47,
   "id": "54496dd4",
   "metadata": {},
   "outputs": [],
   "source": [
    "class Employee:\n",
    "    def __init__(self,emp_id,name,salary):\n",
    "        self.__emp_id=emp_id\n",
    "        self.name=name\n",
    "        self.__salary=salary\n",
    "        \n",
    "    def emp_details(self):\n",
    "        print(\"the name of the employee is \",self.name)\n",
    "        print(\"the empployee id is \",self.__emp_id)\n",
    "        print('the salary of the respective emplyoee is ',self.__salary)\n",
    "        \n",
    "    def bonus(self):\n",
    "        bonus_percentage = 0.10\n",
    "        yearly_bonus = self.__salary * bonus_percentage\n",
    "        self.__salary=self.__salary+yearly_bonus\n",
    "        print('your salary after yearly bonus is ',self.__salary)"
   ]
  },
  {
   "cell_type": "code",
   "execution_count": 48,
   "id": "02a1f7bf",
   "metadata": {},
   "outputs": [
    {
     "name": "stdout",
     "output_type": "stream",
     "text": [
      "the name of the employee is  shreya\n",
      "the empployee id is  21345\n",
      "the salary of the respective emplyoee is  23450\n"
     ]
    }
   ],
   "source": [
    "e=Employee(21345,'shreya',23450)\n",
    "e.emp_details()"
   ]
  },
  {
   "cell_type": "code",
   "execution_count": 49,
   "id": "bb54dfdf",
   "metadata": {},
   "outputs": [
    {
     "name": "stdout",
     "output_type": "stream",
     "text": [
      "your salary after yearly bonus is  25795.0\n"
     ]
    }
   ],
   "source": [
    "e.bonus()"
   ]
  },
  {
   "cell_type": "markdown",
   "id": "adec45d4",
   "metadata": {},
   "source": [
    "#### Problem 3: Vehicle Rental Create a class representing a vehicle rental system. Implement methods to rent a vehicle, return a vehicle, and display available vehicles."
   ]
  },
  {
   "cell_type": "code",
   "execution_count": 100,
   "id": "1514a7f4",
   "metadata": {},
   "outputs": [
    {
     "name": "stdout",
     "output_type": "stream",
     "text": [
      "Available Vehicles:\n",
      "Car: 10\n",
      "Bike: 15\n",
      "Scooter: 20\n",
      "Successfully rented 2 car(s).\n",
      "Successfully rented 3 bike(s).\n",
      "Available Vehicles:\n",
      "Car: 8\n",
      "Bike: 12\n",
      "Scooter: 20\n",
      "Successfully returned 1 car(s).\n",
      "Invalid quantity to return for bike. You have 3 rented.\n",
      "Available Vehicles:\n",
      "Car: 9\n",
      "Bike: 12\n",
      "Scooter: 20\n"
     ]
    }
   ],
   "source": [
    "class VehicleRentalSystem:\n",
    "    def __init__(self):\n",
    "        self.available_vehicles = {'car': 10, 'bike': 15, 'scooter': 20}\n",
    "        self.rented_vehicles = {'car': 0, 'bike': 0, 'scooter': 0}\n",
    "\n",
    "    def display_available_vehicles(self):\n",
    "        print(\"Available Vehicles:\")\n",
    "        for vehicle, count in self.available_vehicles.items():\n",
    "            print(f\"{vehicle.capitalize()}: {count}\")\n",
    "\n",
    "    def rent_vehicle(self, vehicle_type, quantity=1):\n",
    "        if vehicle_type.lower() not in self.available_vehicles:\n",
    "            print(f\"Invalid vehicle type: {vehicle_type}\")\n",
    "            return\n",
    "\n",
    "        if self.available_vehicles[vehicle_type] >= quantity:\n",
    "            self.available_vehicles[vehicle_type] -= quantity\n",
    "            self.rented_vehicles[vehicle_type] += quantity\n",
    "            print(f\"Successfully rented {quantity} {vehicle_type}(s).\")\n",
    "        else:\n",
    "            print(f\"Sorry, not enough {vehicle_type}s available for rent.\")\n",
    "\n",
    "    def return_vehicle(self, vehicle_type, quantity=1):\n",
    "        if vehicle_type.lower() not in self.rented_vehicles:\n",
    "            print(f\"Invalid vehicle type: {vehicle_type}\")\n",
    "            return\n",
    "\n",
    "        if self.rented_vehicles[vehicle_type] >= quantity:\n",
    "            self.available_vehicles[vehicle_type] += quantity\n",
    "            self.rented_vehicles[vehicle_type] -= quantity\n",
    "            print(f\"Successfully returned {quantity} {vehicle_type}(s).\")\n",
    "        else:\n",
    "            print(f\"Invalid quantity to return for {vehicle_type}. You have {self.rented_vehicles[vehicle_type]} rented.\")\n",
    "rental_system = VehicleRentalSystem()\n",
    "\n",
    "rental_system.display_available_vehicles()\n",
    "\n",
    "rental_system.rent_vehicle('car', 2)\n",
    "rental_system.rent_vehicle('bike', 3)\n",
    "\n",
    "rental_system.display_available_vehicles()\n",
    "\n",
    "rental_system.return_vehicle('car', 1)\n",
    "rental_system.return_vehicle('bike', 4)\n",
    "\n",
    "rental_system.display_available_vehicles()\n"
   ]
  },
  {
   "cell_type": "markdown",
   "id": "1ecd4de2",
   "metadata": {},
   "source": [
    "#### Problem 4: Library Catalog Create classes representing a library and a book. Implement methods to add books to the library, borrow books, and display available books.\n"
   ]
  },
  {
   "cell_type": "code",
   "execution_count": 137,
   "id": "e80179f0",
   "metadata": {},
   "outputs": [],
   "source": [
    "class Library:\n",
    "    def __init__(self):\n",
    "        self.book_list=[]\n",
    "        self.borrowed_list=[]\n",
    "        \n",
    "    def add_book(self,book_name):\n",
    "        self.book_list.append(book_name)\n",
    "        \n",
    "    def borrow_book(self,book_name):\n",
    "        if(book_name not in self.book_list):\n",
    "            print(\"book is not available\")\n",
    "        else:\n",
    "            print(\"the  borrowed book is  \",book_name)\n",
    "            self.book_list.remove(book_name)\n",
    "            \n",
    "    def availble_books(self):\n",
    "        print(f'the avilable books in the  list are',self.book_list)\n",
    "        \n",
    "        "
   ]
  },
  {
   "cell_type": "code",
   "execution_count": 138,
   "id": "9f82f209",
   "metadata": {},
   "outputs": [
    {
     "name": "stdout",
     "output_type": "stream",
     "text": [
      "the avilable books in the  list are ['Let us C', 'python programming', 'core java', 'big data']\n",
      "the  borrowed book is   big data\n",
      "the avilable books in the  list are ['Let us C', 'python programming', 'core java']\n"
     ]
    }
   ],
   "source": [
    "l=Library()\n",
    "l.add_book('Let us C')\n",
    "l.add_book(\"python programming\")\n",
    "l.add_book(\"core java\")\n",
    "l.add_book(\"big data\")\n",
    "l.availble_books()\n",
    "l.borrow_book('big data')\n",
    "l.availble_books()\n"
   ]
  },
  {
   "cell_type": "markdown",
   "id": "6782e0cb",
   "metadata": {},
   "source": [
    "#### Problem 5: Product Inventory Create classes representing a product and an inventory system. Implement methods to add products to the inventory, update product quantity, and display available products."
   ]
  },
  {
   "cell_type": "code",
   "execution_count": 140,
   "id": "68903887",
   "metadata": {},
   "outputs": [
    {
     "name": "stdout",
     "output_type": "stream",
     "text": [
      "Product 'Laptop' added to the inventory.\n",
      "Product 'Smartphone' added to the inventory.\n"
     ]
    }
   ],
   "source": [
    "class Product:\n",
    "    def __init__(self, product_id, name, price, quantity):\n",
    "        self.product_id = product_id\n",
    "        self.name = name\n",
    "        self.price = price\n",
    "        self.quantity = quantity\n",
    "\n",
    "    def __str__(self):\n",
    "        return f\"{self.name} (ID: {self.product_id}, Price: ${self.price}, Quantity: {self.quantity})\"\n",
    "\n",
    "\n",
    "class InventorySystem:\n",
    "    def __init__(self):\n",
    "        self.inventory = {}\n",
    "\n",
    "    def add_product(self, product_id, name, price, quantity):\n",
    "        if product_id not in self.inventory:\n",
    "            new_product = Product(product_id, name, price, quantity)\n",
    "            self.inventory[product_id] = new_product\n",
    "            print(f\"Product '{name}' added to the inventory.\")\n",
    "        else:\n",
    "            print(f\"Product with ID {product_id} already exists in the inventory.\")\n",
    "\n",
    "    def display_available_products(self):\n",
    "        print(\"Available Products:\")\n",
    "        for product_id, product in self.inventory.items():\n",
    "            print(product)\n",
    "\n",
    "    def update_quantity(self, product_id, new_quantity):\n",
    "        if product_id in self.inventory:\n",
    "            self.inventory[product_id].quantity = new_quantity\n",
    "            print(f\"Quantity of product '{self.inventory[product_id].name}' updated to {new_quantity}.\")\n",
    "        else:\n",
    "            print(f\"Product with ID {product_id} not found in the inventory.\")\n",
    "\n",
    "\n",
    "inventory_system = InventorySystem()\n",
    "\n",
    "inventory_system.add_product(1, \"Laptop\", 999.99, 10)\n",
    "inventory_system.add_product(2, \"Smartphone\", 499.99, 20)"
   ]
  },
  {
   "cell_type": "markdown",
   "id": "aafe0f9f",
   "metadata": {},
   "source": [
    "#### Problem 6: Shape Calculation Create a class representing a shape with attributes like length, width, and height. Implement methods to calculate the area and perimeter of the shape."
   ]
  },
  {
   "cell_type": "code",
   "execution_count": 68,
   "id": "01a8b7e8",
   "metadata": {},
   "outputs": [],
   "source": [
    "class Area:\n",
    "    def __init__(self,length,width,breadth):\n",
    "        self.length=length\n",
    "        self.width=width\n",
    "        self.breadth=breadth\n",
    "        \n",
    "class Rectangle(Area):\n",
    "    def __init__(self,length,width,breadth):\n",
    "        super().__init__(length,width,breadth)\n",
    "        \n",
    "    def area_of_rectangle(self):\n",
    "        area=self.length*self.width\n",
    "        print(\"area of the rectangle is\",area)\n",
    "        \n",
    "    def perimter_of_rectangle(self):\n",
    "        perimeter=(self.length+self.width)*2\n",
    "        print(\"perimeter of the rectangle is\",perimeter)\n",
    "        \n",
    "\n",
    "\n",
    " \n",
    "        \n",
    "        \n",
    "        \n",
    "        "
   ]
  },
  {
   "cell_type": "code",
   "execution_count": 69,
   "id": "b31628c6",
   "metadata": {},
   "outputs": [
    {
     "name": "stdout",
     "output_type": "stream",
     "text": [
      "area of the rectangle is 2\n",
      "perimeter of the rectangle is 6\n"
     ]
    }
   ],
   "source": [
    "r=Rectangle(1,2,3)\n",
    "r.area_of_rectangle()\n",
    "r.perimter_of_rectangle()"
   ]
  },
  {
   "cell_type": "markdown",
   "id": "e9c017ea",
   "metadata": {},
   "source": [
    "#### Problem 7: Student Management Create a class representing a student with attributes like student ID, name, and grades. Implement methods to calculate the average grade and display student details.\n"
   ]
  },
  {
   "cell_type": "code",
   "execution_count": 97,
   "id": "a16ea1db",
   "metadata": {},
   "outputs": [],
   "source": [
    "class Student:\n",
    "    def __init__(self,std_id,name,*grades):\n",
    "        self.std_id=std_id\n",
    "        self.name=name\n",
    "        self.grades=[]\n",
    "        \n",
    "    def average(self):\n",
    "        \n",
    "    "
   ]
  },
  {
   "cell_type": "code",
   "execution_count": 98,
   "id": "8ee4a470",
   "metadata": {},
   "outputs": [
    {
     "name": "stdout",
     "output_type": "stream",
     "text": [
      "([12, 34, 56, 78],)\n"
     ]
    }
   ],
   "source": [
    "s=Student(1,'shreya',[12,34,56,78])\n",
    "s.average()"
   ]
  },
  {
   "cell_type": "markdown",
   "id": "95eb4eff",
   "metadata": {},
   "source": [
    "#### Problem 8: Email Management Create a class representing an email with attributes like sender, recipient, and subject. Implement methods to send an email and display email details.\n"
   ]
  },
  {
   "cell_type": "code",
   "execution_count": 141,
   "id": "0fd69056",
   "metadata": {},
   "outputs": [
    {
     "name": "stdout",
     "output_type": "stream",
     "text": [
      "Email Details:\n",
      "Sender: vaishnavi@.com\n",
      "Recipient: vivek@gmail.com\n",
      "Subject: Meeting Tomorrow\n",
      "Body: Hi Vivek, let's meet tomorrow at 2 PM.\n",
      "Status: Draft\n",
      "Email sent from vaishnavi@.com to vivek@gmail.com with subject 'Meeting Tomorrow'.\n",
      "Email Details:\n",
      "Sender: vaishnavi@.com\n",
      "Recipient: vivek@gmail.com\n",
      "Subject: Meeting Tomorrow\n",
      "Body: Hi Vivek, let's meet tomorrow at 2 PM.\n",
      "Status: Sent\n",
      "Email Details:\n",
      "Sender: shreya@gmail.com\n",
      "Recipient: vaivi@gmail.com\n",
      "Subject: study Update\n",
      "Body: Hi Vaivi, here's the latest update on the study.\n",
      "Status: Draft\n"
     ]
    }
   ],
   "source": [
    "class Email:\n",
    "    def __init__(self, sender, recipient, subject, body):\n",
    "        self.sender = sender\n",
    "        self.recipient = recipient\n",
    "        self.subject = subject\n",
    "        self.body = body\n",
    "        self.is_sent = False\n",
    "\n",
    "    def send_email(self):\n",
    "        if not self.is_sent:\n",
    "            print(f\"Email sent from {self.sender} to {self.recipient} with subject '{self.subject}'.\")\n",
    "            self.is_sent = True\n",
    "        else:\n",
    "            print(\"This email has already been sent.\")\n",
    "\n",
    "    def display_email_details(self):\n",
    "        print(\"Email Details:\")\n",
    "        print(f\"Sender: {self.sender}\")\n",
    "        print(f\"Recipient: {self.recipient}\")\n",
    "        print(f\"Subject: {self.subject}\")\n",
    "        print(f\"Body: {self.body}\")\n",
    "        print(f\"Status: {'Sent' if self.is_sent else 'Draft'}\")\n",
    "\n",
    "email1 = Email(sender=\"vaishnavi@.com\", recipient=\"vivek@gmail.com\", subject=\"Meeting Tomorrow\", body=\"Hi Vivek, let's meet tomorrow at 2 PM.\")\n",
    "\n",
    "email1.display_email_details()\n",
    "\n",
    "email1.send_email()\n",
    "email1.display_email_details()\n",
    "\n",
    "email2 = Email(sender=\"shreya@gmail.com\", recipient=\"vaivi@gmail.com\", subject=\"study Update\", body=\"Hi Vaivi, here's the latest update on the study.\")\n",
    "\n",
    "email2.display_email_details()\n"
   ]
  },
  {
   "cell_type": "markdown",
   "id": "cde1ffc3",
   "metadata": {},
   "source": [
    "#### Problem 9: Social Media Profile Create a class representing a social media profile with attributes like username and posts. Implement methods to add posts, display posts, and search for posts by keyword.\n",
    "\n"
   ]
  },
  {
   "cell_type": "code",
   "execution_count": 145,
   "id": "13fc1e3c",
   "metadata": {},
   "outputs": [
    {
     "name": "stdout",
     "output_type": "stream",
     "text": [
      "Post added by vaishnavi.\n",
      "Posts by vaishnavi:\n",
      "Author: vaishnavi\n",
      "Content: Having a great day in home!\n",
      "\n",
      "Posts containing the keyword 'home':\n",
      "Author: vaishnavi\n",
      "Content: Having a great day in home!\n",
      "\n"
     ]
    }
   ],
   "source": [
    "class SocialMediaProfile:\n",
    "    def __init__(self, username):\n",
    "        self.username = username\n",
    "        self.posts = []\n",
    "\n",
    "    def add_post(self, content):\n",
    "        post = {\"content\": content, \"author\": self.username}\n",
    "        self.posts.append(post)\n",
    "        print(f\"Post added by {self.username}.\")\n",
    "\n",
    "    def display_posts(self):\n",
    "        if not self.posts:\n",
    "            print(\"No posts available.\")\n",
    "        else:\n",
    "            print(f\"Posts by {self.username}:\")\n",
    "            for post in self.posts:\n",
    "                print(f\"Author: {post['author']}\\nContent: {post['content']}\\n\")\n",
    "\n",
    "    def search_posts(self, keyword):\n",
    "        matching_posts = [post for post in self.posts if keyword.lower() in post[\"content\"].lower()]\n",
    "        if not matching_posts:\n",
    "            print(f\"No posts found containing the keyword '{keyword}'.\")\n",
    "        else:\n",
    "            print(f\"Posts containing the keyword '{keyword}':\")\n",
    "            for post in matching_posts:\n",
    "                print(f\"Author: {post['author']}\\nContent: {post['content']}\\n\")\n",
    "\n",
    "\n",
    "# Example usage:\n",
    "profile1 = SocialMediaProfile(username=\"vaishnavi\")\n",
    "\n",
    "profile1.add_post(\"Having a great day in home!\")\n",
    "\n",
    "profile1.display_posts()\n",
    "profile1.search_posts(\"home\")\n"
   ]
  },
  {
   "cell_type": "markdown",
   "id": "d388fd66",
   "metadata": {},
   "source": [
    "#### Problem 10: ToDo List Create a class representing a ToDo list with attributes like tasks and due dates. Implement methods to add tasks, mark tasks as completed, and display pending tasks."
   ]
  },
  {
   "cell_type": "code",
   "execution_count": 146,
   "id": "c8213201",
   "metadata": {},
   "outputs": [
    {
     "name": "stdout",
     "output_type": "stream",
     "text": [
      "Task 'Complete project' added to the ToDo list.\n",
      "Task 'Go for bday' added to the ToDo list.\n",
      "Pending Tasks:\n",
      "Task: Complete project\n",
      "Due Date: 2023-30-12\n",
      "\n",
      "Task: Go for bday\n",
      "\n",
      "Task 'Read a chapter' not found in the ToDo list.\n",
      "Task 'Go for a run' not found in the ToDo list.\n",
      "Task 'Write report' not found in the ToDo list.\n",
      "Pending Tasks:\n",
      "Task: Complete project\n",
      "Due Date: 2023-30-12\n",
      "\n",
      "Task: Go for bday\n",
      "\n"
     ]
    }
   ],
   "source": [
    "class ToDoList:\n",
    "    def __init__(self):\n",
    "        self.tasks = []\n",
    "\n",
    "    def add_task(self, task, due_date=None):\n",
    "        new_task = {\"task\": task, \"due_date\": due_date, \"completed\": False}\n",
    "        self.tasks.append(new_task)\n",
    "        print(f\"Task '{task}' added to the ToDo list.\")\n",
    "\n",
    "    def mark_as_completed(self, task):\n",
    "        for t in self.tasks:\n",
    "            if t[\"task\"] == task:\n",
    "                if not t[\"completed\"]:\n",
    "                    t[\"completed\"] = True\n",
    "                    print(f\"Task '{task}' marked as completed.\")\n",
    "                else:\n",
    "                    print(f\"Task '{task}' is already completed.\")\n",
    "                return\n",
    "        print(f\"Task '{task}' not found in the ToDo list.\")\n",
    "\n",
    "    def display_pending_tasks(self):\n",
    "        pending_tasks = [task for task in self.tasks if not task[\"completed\"]]\n",
    "        if not pending_tasks:\n",
    "            print(\"No pending tasks.\")\n",
    "        else:\n",
    "            print(\"Pending Tasks:\")\n",
    "            for task in pending_tasks:\n",
    "                print(f\"Task: {task['task']}\")\n",
    "                if task[\"due_date\"]:\n",
    "                    print(f\"Due Date: {task['due_date']}\")\n",
    "                print(\"\")\n",
    "\n",
    "\n",
    "# Example usage:\n",
    "todo_list = ToDoList()\n",
    "\n",
    "todo_list.add_task(\"Complete project\", due_date=\"2023-30-12\")\n",
    "todo_list.add_task(\"Go for bday\")\n",
    "\n",
    "todo_list.display_pending_tasks()\n",
    "\n",
    "todo_list.mark_as_completed(\"Read a chapter\")\n",
    "todo_list.mark_as_completed(\"Go for a run\")\n",
    "todo_list.mark_as_completed(\"Write report\")\n",
    "\n",
    "todo_list.display_pending_tasks()\n"
   ]
  },
  {
   "cell_type": "code",
   "execution_count": null,
   "id": "86af2296",
   "metadata": {},
   "outputs": [],
   "source": []
  }
 ],
 "metadata": {
  "kernelspec": {
   "display_name": "Python 3 (ipykernel)",
   "language": "python",
   "name": "python3"
  },
  "language_info": {
   "codemirror_mode": {
    "name": "ipython",
    "version": 3
   },
   "file_extension": ".py",
   "mimetype": "text/x-python",
   "name": "python",
   "nbconvert_exporter": "python",
   "pygments_lexer": "ipython3",
   "version": "3.10.9"
  }
 },
 "nbformat": 4,
 "nbformat_minor": 5
}
