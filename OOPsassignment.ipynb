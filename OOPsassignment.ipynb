{
 "cells": [
  {
   "cell_type": "markdown",
   "id": "defa7890",
   "metadata": {},
   "source": [
    "#### 1. What is a constructor in Python? Explain its purpose and usage."
   ]
  },
  {
   "cell_type": "raw",
   "id": "9d55ac7d",
   "metadata": {},
   "source": [
    "1.In every programming lanuguage constructor do exist . \n",
    "2. Python is also not an exception for exisitance of constructor.\n",
    "3. constructor is the special magic method which constructs the object by passing the required and expected number of argumments.\n",
    "4. we do not need to call the constructor explicitly , when the object is created internally construtor is called by default.\n",
    "5. In python, __init__(self,arg1,arg2,....) is the syntax to build the constructor . \n",
    "    a. Now the first argument in the constructor is always self . \n",
    "    b. self is not the reserved keyword, you can use any name apart from self.\n",
    "    c. when the object is created at that time the address of the object is internally passed to the self.\n",
    "    d.__init__(self,*args): init takes n number of arguments as the formal arguments in the object.\n",
    "    \n",
    "6. In short constructors are used to initiallze the object. \n",
    "7. Constructor allow the user to set the values for the object at the time of creation of an object itself ."
   ]
  },
  {
   "cell_type": "code",
   "execution_count": 1,
   "id": "86923fab",
   "metadata": {},
   "outputs": [],
   "source": [
    "#an example to see the constructor and its usage \n",
    "\n",
    "class student:\n",
    "    \n",
    "    def __init__(self,fname,lname,stId):\n",
    "        self.fname=fname\n",
    "        self.lname=lname\n",
    "        self.stId=stId\n",
    "        \n",
    "    def showdata(self):\n",
    "        return self.fname,self.lname,self.stId\n",
    "        \n",
    "        \n",
    "\n",
    "\n"
   ]
  },
  {
   "cell_type": "code",
   "execution_count": 2,
   "id": "0e4bdd5d",
   "metadata": {},
   "outputs": [
    {
     "data": {
      "text/plain": [
       "('VAISHNAVI', 'GHADGE', 2145)"
      ]
     },
     "execution_count": 2,
     "metadata": {},
     "output_type": "execute_result"
    }
   ],
   "source": [
    "s=student(\"VAISHNAVI\",'GHADGE',2145)\n",
    "s.showdata()"
   ]
  },
  {
   "cell_type": "markdown",
   "id": "249e6ace",
   "metadata": {},
   "source": [
    "#### 2. Differentiate between a parameterless constructor and a parameterized constructor in Python."
   ]
  },
  {
   "cell_type": "raw",
   "id": "4bdbb69f",
   "metadata": {},
   "source": [
    "## *____parameterless constructor____*: \n",
    "\n",
    "\n",
    "1. The constructor which does not take any formal arguments is called as parameterized constructor.\n",
    "2. The constructor takes only \"self\" as the first argument i.e it takes only the memory address of the object is parameterized constructor.\n",
    "3. When we do not want to give any arguments while creation of the object at that time the constructor without parameter is called.\n",
    "\n",
    "\n",
    "## *____parameterized constructor____*: \n",
    "\n",
    "\n",
    "1. The constructor which takes at least 2 formal arguments is called as parameterized constructor.\n",
    "2. The constructor takes  \"self\" as the first argument and another argument as the value from the user  i.e it takes it takes at most 2 arguments.\n",
    "3. When we  want to give any arguments while creation of the object at that time the constructor with parameter is called.\n",
    "\n",
    "both the constructor are always be called once you create the object of the class.\n",
    "But if the constructor is paramterless then at  object creation it will not ask to enter any value and on the other hand parameterized constructor will asks for that number of values which are required.\n",
    "\n"
   ]
  },
  {
   "cell_type": "markdown",
   "id": "4b394462",
   "metadata": {},
   "source": [
    "____parameterless constructor____ : below is the one example of this constructor"
   ]
  },
  {
   "cell_type": "code",
   "execution_count": 3,
   "id": "1d894e1e",
   "metadata": {},
   "outputs": [],
   "source": [
    "class Employee:\n",
    "    def __init__(self):\n",
    "         print(\"init method is called\")"
   ]
  },
  {
   "cell_type": "code",
   "execution_count": 5,
   "id": "4454fe33",
   "metadata": {},
   "outputs": [
    {
     "name": "stdout",
     "output_type": "stream",
     "text": [
      "init method is called\n",
      "<__main__.Employee object at 0x00000224A4D5A970>\n"
     ]
    }
   ],
   "source": [
    "e=Employee()\n",
    "print(e)"
   ]
  },
  {
   "cell_type": "markdown",
   "id": "29fb347e",
   "metadata": {},
   "source": [
    "#### 3. How do you define a constructor in a Python class? Provide an example."
   ]
  },
  {
   "cell_type": "raw",
   "id": "69a7e378",
   "metadata": {},
   "source": [
    "1. Constructor in python is defined by calling the __init__ magic method\n",
    "2. __init__ method accepts the self as the first argument, where self is not the reserved keyward.\n",
    "3. self takes the memory location of the object. \n",
    "4. further paramters can be anything  and in any number \n"
   ]
  },
  {
   "cell_type": "markdown",
   "id": "0ec94ff6",
   "metadata": {},
   "source": [
    " __example to define the __init__ __ method in python is given below"
   ]
  },
  {
   "cell_type": "code",
   "execution_count": 15,
   "id": "0ba10b35",
   "metadata": {},
   "outputs": [],
   "source": [
    "class Course:\n",
    "    def __init__(self,**kwargs):\n",
    "         print(kwargs)\n",
    "    "
   ]
  },
  {
   "cell_type": "code",
   "execution_count": 18,
   "id": "f8a7b559",
   "metadata": {},
   "outputs": [
    {
     "name": "stdout",
     "output_type": "stream",
     "text": [
      "{'course': 'pwskills', 'mentor': 'sudhanshu kumar'}\n"
     ]
    }
   ],
   "source": [
    "c=Course(course='pwskills',mentor=\"sudhanshu kumar\")"
   ]
  },
  {
   "cell_type": "markdown",
   "id": "8d6f2977",
   "metadata": {},
   "source": [
    "#### 4. Explain the `__init__` method in Python and its role in constructors."
   ]
  },
  {
   "cell_type": "raw",
   "id": "201002e0",
   "metadata": {},
   "source": [
    "__init__ method : the method which is used to create the constructor.\n",
    "                  This method is the magic method or dunder method.\n",
    "                  __init__ method plays the vital role in program execution.\n",
    "                  whenever any object is created at that time to instantiate that object, the __init__ method is used.\n",
    "                  __init__method takes self as the first argument , which show cases the memory address of the object. \n",
    "                  \n",
    "            "
   ]
  },
  {
   "cell_type": "code",
   "execution_count": 19,
   "id": "4cc3a996",
   "metadata": {},
   "outputs": [],
   "source": [
    "## example to show the __init__ method in the python"
   ]
  },
  {
   "cell_type": "code",
   "execution_count": 20,
   "id": "ce1a26db",
   "metadata": {},
   "outputs": [],
   "source": [
    "class Bank:\n",
    "    def __init__(self,account_no):\n",
    "        self.account_no=account_no\n",
    "        \n",
    "    def print_account_no(self):\n",
    "        print(self.account_no)\n",
    "        \n",
    "        "
   ]
  },
  {
   "cell_type": "code",
   "execution_count": 21,
   "id": "1572ca68",
   "metadata": {},
   "outputs": [],
   "source": [
    "b=Bank(23456)"
   ]
  },
  {
   "cell_type": "code",
   "execution_count": 23,
   "id": "a669c3c0",
   "metadata": {},
   "outputs": [
    {
     "name": "stdout",
     "output_type": "stream",
     "text": [
      "23456\n"
     ]
    }
   ],
   "source": [
    "b.print_account_no()"
   ]
  },
  {
   "cell_type": "markdown",
   "id": "50aea5db",
   "metadata": {},
   "source": [
    "#### 5. In a class named `Person`, create a constructor that initializes the `name` and `age` attributes. Provide an example of creating an object of this class."
   ]
  },
  {
   "cell_type": "code",
   "execution_count": 27,
   "id": "bbb1c7cb",
   "metadata": {},
   "outputs": [],
   "source": [
    "class Person:\n",
    "    def __init__(self,name,age):\n",
    "        self.name=name\n",
    "        self.age=age\n",
    "        \n",
    "    \n",
    "    def showdata(self):\n",
    "        print(f\" name is: {self.name} and age of that person is :{self.age} \")"
   ]
  },
  {
   "cell_type": "code",
   "execution_count": 28,
   "id": "b2986c8a",
   "metadata": {},
   "outputs": [],
   "source": [
    "p=Person('shreya',24)"
   ]
  },
  {
   "cell_type": "code",
   "execution_count": 29,
   "id": "336ce419",
   "metadata": {},
   "outputs": [
    {
     "name": "stdout",
     "output_type": "stream",
     "text": [
      " name is: shreya and age of that person is :24 \n"
     ]
    }
   ],
   "source": [
    "p.showdata()"
   ]
  },
  {
   "cell_type": "markdown",
   "id": "442665cb",
   "metadata": {},
   "source": [
    "#### 6. How can you call a constructor explicitly in Python? Give an example."
   ]
  },
  {
   "cell_type": "code",
   "execution_count": null,
   "id": "5462150c",
   "metadata": {},
   "outputs": [],
   "source": []
  },
  {
   "cell_type": "markdown",
   "id": "fef22990",
   "metadata": {},
   "source": [
    "#### 7. What is the significance of the `self` parameter in Python constructors? Explain with an example."
   ]
  },
  {
   "cell_type": "raw",
   "id": "40f3409b",
   "metadata": {},
   "source": [
    "self : 1. so first of all self is not the reserved keyward in the python.\n",
    "       2. self is used as the pointer or refernece to the memory location of any object created by the user.\n",
    "       3. self stores the memory location of the value and it is passed as the first argument in the __init__ method i.e in the           creation of the constructor.\n",
    "       4. again self is not the reserved keywaard, you can give my name your name instead of self "
   ]
  },
  {
   "cell_type": "code",
   "execution_count": 30,
   "id": "45fee748",
   "metadata": {},
   "outputs": [],
   "source": [
    "## example to show the use of self keyword"
   ]
  },
  {
   "cell_type": "code",
   "execution_count": 35,
   "id": "4ef969bb",
   "metadata": {},
   "outputs": [],
   "source": [
    "class demo:\n",
    "    def __init__(vaishnavi,a,b):\n",
    "        vaishnavi.a=a\n",
    "        vaishnavi.b=b\n",
    "        \n",
    "    def showdata(vaishnavi):\n",
    "        return vaishnavi.a, vaishnavi.b"
   ]
  },
  {
   "cell_type": "code",
   "execution_count": 36,
   "id": "6a5a1102",
   "metadata": {},
   "outputs": [],
   "source": [
    "d=demo(1,2)"
   ]
  },
  {
   "cell_type": "code",
   "execution_count": 37,
   "id": "381b7d58",
   "metadata": {},
   "outputs": [
    {
     "data": {
      "text/plain": [
       "(1, 2)"
      ]
     },
     "execution_count": 37,
     "metadata": {},
     "output_type": "execute_result"
    }
   ],
   "source": [
    "d.showdata()"
   ]
  },
  {
   "cell_type": "markdown",
   "id": "33ceffeb",
   "metadata": {},
   "source": [
    "#### Discuss the concept of default constructors in Python. When are they used?"
   ]
  },
  {
   "cell_type": "raw",
   "id": "a85e93c2",
   "metadata": {},
   "source": [
    "default constructor : \n",
    "1.the constructor which does not take any argument except that takes the memory location of the instance is the default constructor.\n",
    "\n",
    "2.default constructor is used where user do not need ti pass any value while object creation.\n",
    "\n"
   ]
  },
  {
   "cell_type": "code",
   "execution_count": 44,
   "id": "fa57ef75",
   "metadata": {},
   "outputs": [],
   "source": [
    "class Demo1:\n",
    "    def __init__(self):\n",
    "         print('this is the default constructor which does not accept any value ')\n",
    "    "
   ]
  },
  {
   "cell_type": "code",
   "execution_count": 45,
   "id": "46357506",
   "metadata": {},
   "outputs": [
    {
     "name": "stdout",
     "output_type": "stream",
     "text": [
      "this is the default constructor which does not accept any value \n"
     ]
    }
   ],
   "source": [
    "d=Demo1()"
   ]
  },
  {
   "cell_type": "markdown",
   "id": "a36fbca2",
   "metadata": {},
   "source": [
    "#### 9. Create a Python class called `Rectangle` with a constructor that initializes the `width` and `height` attributes. Provide a method to calculate the area of the rectangle."
   ]
  },
  {
   "cell_type": "code",
   "execution_count": 45,
   "id": "34781e08",
   "metadata": {},
   "outputs": [],
   "source": [
    "class Rectangle:\n",
    "    def __init__(self,width=1,height=1):\n",
    "        self.width=width\n",
    "        self.height=height\n",
    "        \n",
    "    def area(self):\n",
    "        ans=round(self.width*self.height,2)\n",
    "        return f'area of the rectanle is {ans} sq.units'"
   ]
  },
  {
   "cell_type": "code",
   "execution_count": 46,
   "id": "bdaf9756",
   "metadata": {},
   "outputs": [],
   "source": [
    "r=Rectangle(4,3)"
   ]
  },
  {
   "cell_type": "code",
   "execution_count": 47,
   "id": "187d64a2",
   "metadata": {},
   "outputs": [
    {
     "data": {
      "text/plain": [
       "'area of the rectanle is 12 sq.units'"
      ]
     },
     "execution_count": 47,
     "metadata": {},
     "output_type": "execute_result"
    }
   ],
   "source": [
    "r.area()"
   ]
  },
  {
   "cell_type": "markdown",
   "id": "36ce15cf",
   "metadata": {},
   "source": [
    "####  10. How can you have multiple constructors in a Python class? Explain with an example."
   ]
  },
  {
   "cell_type": "raw",
   "id": "526e0a09",
   "metadata": {},
   "source": [
    "If you try to do constrcutor ovelaoding then, everytime object will call the latest defiend the __init__ method\n",
    "\n",
    "In core python , we can not have multiple constructors but we can achive them in two ways.\n",
    "    1. pythonic way : using variable lenth arguments /using *args\n",
    "    2. advanced way : using multipledispatch / using @dispatch decorator \n",
    "    \n",
    "    if we write multiple constructors in the python, latest will be called always "
   ]
  },
  {
   "cell_type": "code",
   "execution_count": 97,
   "id": "e88366cf",
   "metadata": {},
   "outputs": [],
   "source": [
    "# using *args \n",
    "\n",
    "class function:\n",
    "    def __init__(self,*args):\n",
    "        if(len(args)==1):\n",
    "            self.a=args[0]\n",
    "            print(self.a)\n",
    "            \n",
    "        elif(len(args)==2):\n",
    "            self.a=args[0]\n",
    "            self.b=args[1]\n",
    "            print(self.a+self.b)\n",
    "            \n",
    "        \n",
    "            \n",
    "    "
   ]
  },
  {
   "cell_type": "code",
   "execution_count": 98,
   "id": "b1e9fcf7",
   "metadata": {},
   "outputs": [
    {
     "name": "stdout",
     "output_type": "stream",
     "text": [
      "3\n"
     ]
    }
   ],
   "source": [
    "f=function(1,2)\n"
   ]
  },
  {
   "cell_type": "code",
   "execution_count": 99,
   "id": "299f1f6d",
   "metadata": {},
   "outputs": [
    {
     "name": "stdout",
     "output_type": "stream",
     "text": [
      "1\n"
     ]
    }
   ],
   "source": [
    "f=function(1)"
   ]
  },
  {
   "cell_type": "code",
   "execution_count": 100,
   "id": "16538b2d",
   "metadata": {},
   "outputs": [],
   "source": [
    "#using multipledispatch library \n",
    "\n",
    "class function:\n",
    "    @dispatch(int)\n",
    "    def __init__(self,x):\n",
    "        self.x=x\n",
    "        print(\"constructor with single argument is called and value  is {}\".format(self.x))\n",
    "        \n",
    "    @dispatch(int,int)\n",
    "    def __init__(self,x,y):\n",
    "        self.x=x\n",
    "        self.y=y\n",
    "        print(\"constructor with 2  argument is called and values are {} and {}\".format(self.x,self.y))\n",
    "        \n",
    "    \n",
    "    @dispatch(int,float)\n",
    "    def __init__(self,x,y):\n",
    "        self.x=x\n",
    "        self.y=y\n",
    "        print(\"constructor with 2  argument is called and values are {} and {}\".format(self.x,self.y))\n",
    "        \n",
    "   "
   ]
  },
  {
   "cell_type": "code",
   "execution_count": 101,
   "id": "f25ffc77",
   "metadata": {},
   "outputs": [
    {
     "name": "stdout",
     "output_type": "stream",
     "text": [
      "constructor with single argument is called and value  is 1\n"
     ]
    }
   ],
   "source": [
    "f1=function(1)\n"
   ]
  },
  {
   "cell_type": "code",
   "execution_count": 102,
   "id": "cd609493",
   "metadata": {},
   "outputs": [
    {
     "name": "stdout",
     "output_type": "stream",
     "text": [
      "constructor with 2  argument is called and values are 1 and 2\n"
     ]
    }
   ],
   "source": [
    "f2=function(1,2)"
   ]
  },
  {
   "cell_type": "code",
   "execution_count": 9,
   "id": "d68aba5e",
   "metadata": {},
   "outputs": [],
   "source": [
    "class function:\n",
    "    def __init__(self,a,b):\n",
    "        self.a=a\n",
    "        self.b=b\n",
    "        print(\"parameterized constructor\")\n",
    "        \n",
    "    def __init__(self):\n",
    "        print(\"paramterless constructor\")\n",
    "        "
   ]
  },
  {
   "cell_type": "code",
   "execution_count": 10,
   "id": "755816b2",
   "metadata": {},
   "outputs": [
    {
     "name": "stdout",
     "output_type": "stream",
     "text": [
      "paramterless constructor\n"
     ]
    }
   ],
   "source": [
    "f=function()"
   ]
  },
  {
   "cell_type": "markdown",
   "id": "663c1897",
   "metadata": {},
   "source": [
    "#### 11. What is method overloading, and how is it related to constructors in Python?"
   ]
  },
  {
   "cell_type": "raw",
   "id": "72253bee",
   "metadata": {},
   "source": [
    "method overloading :\n",
    "     1. method overloading is one of the way to achive the polymorphisom in the python\n",
    "     2.  method overloading means the same function will take the differnt number of arguements.\n",
    "     3.  but core python does not supprt the method overloading because, in method overloading we should give different parameters as an argument and we can not give the data type to the arguments in python.\n",
    "     4. but using an external library called as \"multipledispatch\" we can achive the method overloading in python.\n",
    "     5. counstructor also be overloaded in pytohn using @dispatch decorator.\n",
    "        "
   ]
  },
  {
   "cell_type": "code",
   "execution_count": 42,
   "id": "8ac7a8f3",
   "metadata": {},
   "outputs": [],
   "source": [
    "class fun2:\n",
    "    def sum1(self,a,b):\n",
    "        return self.a+self.b\n",
    "    def sum1(self,a,b,c):\n",
    "         print(self.a+self.b+self.c)"
   ]
  },
  {
   "cell_type": "code",
   "execution_count": 43,
   "id": "19c9da61",
   "metadata": {},
   "outputs": [],
   "source": [
    "f=fun2()"
   ]
  },
  {
   "cell_type": "code",
   "execution_count": 44,
   "id": "abe058ae",
   "metadata": {},
   "outputs": [
    {
     "ename": "AttributeError",
     "evalue": "'fun2' object has no attribute 'a'",
     "output_type": "error",
     "traceback": [
      "\u001b[1;31m---------------------------------------------------------------------------\u001b[0m",
      "\u001b[1;31mAttributeError\u001b[0m                            Traceback (most recent call last)",
      "\u001b[1;32m~\\AppData\\Local\\Temp\\ipykernel_24468\\796944668.py\u001b[0m in \u001b[0;36m<module>\u001b[1;34m\u001b[0m\n\u001b[1;32m----> 1\u001b[1;33m \u001b[0mf\u001b[0m\u001b[1;33m.\u001b[0m\u001b[0msum1\u001b[0m\u001b[1;33m(\u001b[0m\u001b[1;36m1\u001b[0m\u001b[1;33m,\u001b[0m\u001b[1;36m3\u001b[0m\u001b[1;33m,\u001b[0m\u001b[1;36m3\u001b[0m\u001b[1;33m)\u001b[0m\u001b[1;33m\u001b[0m\u001b[1;33m\u001b[0m\u001b[0m\n\u001b[0m",
      "\u001b[1;32m~\\AppData\\Local\\Temp\\ipykernel_24468\\3690401589.py\u001b[0m in \u001b[0;36msum1\u001b[1;34m(self, a, b, c)\u001b[0m\n\u001b[0;32m      3\u001b[0m         \u001b[1;32mreturn\u001b[0m \u001b[0mself\u001b[0m\u001b[1;33m.\u001b[0m\u001b[0ma\u001b[0m\u001b[1;33m+\u001b[0m\u001b[0mself\u001b[0m\u001b[1;33m.\u001b[0m\u001b[0mb\u001b[0m\u001b[1;33m\u001b[0m\u001b[1;33m\u001b[0m\u001b[0m\n\u001b[0;32m      4\u001b[0m     \u001b[1;32mdef\u001b[0m \u001b[0msum1\u001b[0m\u001b[1;33m(\u001b[0m\u001b[0mself\u001b[0m\u001b[1;33m,\u001b[0m\u001b[0ma\u001b[0m\u001b[1;33m,\u001b[0m\u001b[0mb\u001b[0m\u001b[1;33m,\u001b[0m\u001b[0mc\u001b[0m\u001b[1;33m)\u001b[0m\u001b[1;33m:\u001b[0m\u001b[1;33m\u001b[0m\u001b[1;33m\u001b[0m\u001b[0m\n\u001b[1;32m----> 5\u001b[1;33m          \u001b[0mprint\u001b[0m\u001b[1;33m(\u001b[0m\u001b[0mself\u001b[0m\u001b[1;33m.\u001b[0m\u001b[0ma\u001b[0m\u001b[1;33m+\u001b[0m\u001b[0mself\u001b[0m\u001b[1;33m.\u001b[0m\u001b[0mb\u001b[0m\u001b[1;33m+\u001b[0m\u001b[0mself\u001b[0m\u001b[1;33m.\u001b[0m\u001b[0mc\u001b[0m\u001b[1;33m)\u001b[0m\u001b[1;33m\u001b[0m\u001b[1;33m\u001b[0m\u001b[0m\n\u001b[0m",
      "\u001b[1;31mAttributeError\u001b[0m: 'fun2' object has no attribute 'a'"
     ]
    }
   ],
   "source": [
    "f.sum1(1,3,3)"
   ]
  },
  {
   "cell_type": "markdown",
   "id": "1476fccb",
   "metadata": {},
   "source": [
    "here if we perform the method overloading in python, python will always call the latest function which is defined."
   ]
  },
  {
   "cell_type": "code",
   "execution_count": 27,
   "id": "dd1fb448",
   "metadata": {},
   "outputs": [],
   "source": [
    "from multipledispatch import dispatch"
   ]
  },
  {
   "cell_type": "code",
   "execution_count": 28,
   "id": "ea05083b",
   "metadata": {},
   "outputs": [],
   "source": [
    "@dispatch(int,int)\n",
    "def sum1(a,b):\n",
    "    return a+b\n",
    "@dispatch(int,int,int)\n",
    "def sum1(a,b,c):\n",
    "    return a+b+c"
   ]
  },
  {
   "cell_type": "code",
   "execution_count": 30,
   "id": "05b46e44",
   "metadata": {},
   "outputs": [
    {
     "data": {
      "text/plain": [
       "3"
      ]
     },
     "execution_count": 30,
     "metadata": {},
     "output_type": "execute_result"
    }
   ],
   "source": [
    "sum1(1,2)"
   ]
  },
  {
   "cell_type": "code",
   "execution_count": 39,
   "id": "1d2a60e1",
   "metadata": {},
   "outputs": [],
   "source": [
    "## the below mentioned example showcases the use of multiple dispatch for achiving the method overloading in python\n",
    "class method_overload:\n",
    "    \n",
    "    @dispatch(int,int)\n",
    "    def sum1(a,b):\n",
    "        return a+b\n",
    "    \n",
    "    @dispatch(int,int,int)\n",
    "    def sum1(a,b,c):\n",
    "        return a+b+c\n",
    "    "
   ]
  },
  {
   "cell_type": "code",
   "execution_count": 40,
   "id": "0f3cccb6",
   "metadata": {},
   "outputs": [],
   "source": [
    "m=method_overload()"
   ]
  },
  {
   "cell_type": "code",
   "execution_count": 41,
   "id": "82ae80f2",
   "metadata": {},
   "outputs": [
    {
     "data": {
      "text/plain": [
       "9"
      ]
     },
     "execution_count": 41,
     "metadata": {},
     "output_type": "execute_result"
    }
   ],
   "source": [
    "m.sum1(1,3,5)"
   ]
  },
  {
   "cell_type": "markdown",
   "id": "25d03282",
   "metadata": {},
   "source": [
    "#### 12. Explain the use of the `super()` function in Python constructors. Provide an example."
   ]
  },
  {
   "cell_type": "raw",
   "id": "4da5a092",
   "metadata": {},
   "source": [
    "super():=  1. super() is the reserved keyward which is used to do the method overriding from one class to another class.\n",
    "           2. super() can be used to access the parents class constructor, methods to the child class.\n",
    "           3. the keyward is responsible to avoid the"
   ]
  },
  {
   "cell_type": "code",
   "execution_count": 137,
   "id": "9b1ed958",
   "metadata": {},
   "outputs": [],
   "source": [
    "class person:\n",
    "    def __init__(self,name,age):\n",
    "        self.name=name\n",
    "        self.age=age\n",
    "        \n",
    "    def showdata(self):\n",
    "        return self.name,self.age\n",
    "    \n",
    "\n",
    "class student(person):\n",
    "    def __init__(self,name,age,id1,address):\n",
    "        \n",
    "        self.id1=id1\n",
    "        self.address=address\n",
    "        super().__init__(name,age)\n",
    "    \n",
    "    def showdata(self):\n",
    "        print(self.id1,self.address)\n",
    "        print(super().showdata())\n",
    "    \n",
    "    "
   ]
  },
  {
   "cell_type": "code",
   "execution_count": 138,
   "id": "f3b21787",
   "metadata": {},
   "outputs": [],
   "source": [
    "s=student('vaishnavi',24,21,'phaltan')"
   ]
  },
  {
   "cell_type": "code",
   "execution_count": 139,
   "id": "38edfd2e",
   "metadata": {},
   "outputs": [
    {
     "name": "stdout",
     "output_type": "stream",
     "text": [
      "21 phaltan\n",
      "('vaishnavi', 24)\n"
     ]
    }
   ],
   "source": [
    "s.showdata()"
   ]
  },
  {
   "cell_type": "code",
   "execution_count": 140,
   "id": "59c34173",
   "metadata": {},
   "outputs": [],
   "source": [
    "#### in above example, i used super() two times, one to call the function and one is to call the constructor of parent class to the child class"
   ]
  },
  {
   "cell_type": "markdown",
   "id": "828feaf7",
   "metadata": {},
   "source": [
    "#### 13. Create a class called `Book` with a constructor that initializes the `title`, `author`, and `published_year` attributes. Provide a method to display book details.\n",
    "\n",
    "\n"
   ]
  },
  {
   "cell_type": "code",
   "execution_count": 141,
   "id": "74a4d3ed",
   "metadata": {},
   "outputs": [],
   "source": [
    "class Book:\n",
    "    def __init__(self,title,author,published_year):\n",
    "        self.title=title\n",
    "        self.author=author\n",
    "        self.published_year=published_year\n",
    "        \n",
    "    def Book_Details(self):\n",
    "        print(f\"title of the books is {self.title}\")\n",
    "        print(f'author of the book is {self.author}')\n",
    "        print(f\"published year of the book is {self.published_year}\")"
   ]
  },
  {
   "cell_type": "code",
   "execution_count": 142,
   "id": "fbabd77e",
   "metadata": {},
   "outputs": [],
   "source": [
    "b1=Book(\"half girlfriend\",'chetan bhagat',2014)"
   ]
  },
  {
   "cell_type": "code",
   "execution_count": 143,
   "id": "14554c97",
   "metadata": {},
   "outputs": [
    {
     "name": "stdout",
     "output_type": "stream",
     "text": [
      "title of the books is half girlfriend\n",
      "author of the book is chetan bhagat\n",
      "published year of the book is 2014\n"
     ]
    }
   ],
   "source": [
    "b1.Book_Details()"
   ]
  },
  {
   "cell_type": "markdown",
   "id": "4ed933b8",
   "metadata": {},
   "source": [
    "#### 14. Discuss the differences between constructors and regular methods in Python classes."
   ]
  },
  {
   "cell_type": "raw",
   "id": "249713eb",
   "metadata": {},
   "source": [
    "                                    *************Constructor***********\n",
    "                                    \n",
    "1.constructor is the special magic method which invokes whenever we create the object.\n",
    "2. we do not need to call the constrcutor explicitly. it is called automatically.\n",
    "3. The constructor always starts with the __init_.\n",
    "4. the first argument in the constrcutor is self which taked the address of object as first argument.\n",
    "\n",
    "\n",
    "                                    *************Normal Function***********\n",
    "                                    \n",
    "1. normal functions are the functions which are invoked after we call them.\n",
    "2. we need to call any normal function explicitly.\n",
    "3. the first paramter in any normal function is also self.\n",
    "4. the name of the normal function can be anything, but it should start with def.\n",
    "\n"
   ]
  },
  {
   "cell_type": "markdown",
   "id": "5a82e9a5",
   "metadata": {},
   "source": [
    "#### 15. Explain the role of the `self` parameter in instance variable initialization within a constructor."
   ]
  },
  {
   "cell_type": "raw",
   "id": "beab26da",
   "metadata": {},
   "source": [
    "self : 1. so first of all self is not the reserved keyward in the python.\n",
    "       2. self is used as the pointer or refernece to the memory location of any object created by the user.\n",
    "       3. self stores the memory location of the value and it is passed as the first argument in the __init__ method i.e in the creation of the constructor.\n",
    "       4. again self is not the reserved keywaard, you can give my name your name instead of self "
   ]
  },
  {
   "cell_type": "markdown",
   "id": "8afcb544",
   "metadata": {},
   "source": [
    "#### 16. How do you prevent a class from having multiple instances by using constructors in Python? Provide an example."
   ]
  },
  {
   "cell_type": "code",
   "execution_count": null,
   "id": "df828974",
   "metadata": {},
   "outputs": [],
   "source": []
  },
  {
   "cell_type": "markdown",
   "id": "9fe8479d",
   "metadata": {},
   "source": [
    "#### 17. Create a Python class called `Student` with a constructor that takes a list of subjects as a parameter and initializes the `subjects` attribute."
   ]
  },
  {
   "cell_type": "code",
   "execution_count": null,
   "id": "2511b898",
   "metadata": {},
   "outputs": [],
   "source": [
    "\n",
    "    "
   ]
  },
  {
   "cell_type": "code",
   "execution_count": null,
   "id": "27d8d15d",
   "metadata": {},
   "outputs": [],
   "source": []
  },
  {
   "cell_type": "code",
   "execution_count": null,
   "id": "9e4d4bdc",
   "metadata": {},
   "outputs": [],
   "source": []
  },
  {
   "cell_type": "code",
   "execution_count": null,
   "id": "45fb5dc0",
   "metadata": {},
   "outputs": [],
   "source": []
  }
 ],
 "metadata": {
  "kernelspec": {
   "display_name": "Python 3 (ipykernel)",
   "language": "python",
   "name": "python3"
  },
  "language_info": {
   "codemirror_mode": {
    "name": "ipython",
    "version": 3
   },
   "file_extension": ".py",
   "mimetype": "text/x-python",
   "name": "python",
   "nbconvert_exporter": "python",
   "pygments_lexer": "ipython3",
   "version": "3.10.8"
  }
 },
 "nbformat": 4,
 "nbformat_minor": 5
}
