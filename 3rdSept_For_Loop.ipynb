{
 "cells": [
  {
   "cell_type": "markdown",
   "id": "15042294-21aa-4ab7-a1cc-b16264f5bf10",
   "metadata": {},
   "source": [
    "#### 1. Write a Python program to print the numbers from 1 to 10 using a `for` loop."
   ]
  },
  {
   "cell_type": "code",
   "execution_count": 1,
   "id": "95b7c9ca-3705-4f5b-be91-be20c9c17878",
   "metadata": {},
   "outputs": [
    {
     "name": "stdout",
     "output_type": "stream",
     "text": [
      "1 2 3 4 5 6 7 8 9 10 "
     ]
    }
   ],
   "source": [
    "for i in range(1,11):\n",
    "    print(i,end=' ')"
   ]
  },
  {
   "cell_type": "markdown",
   "id": "71f06ec8-c013-4150-b52f-2845ef9341e6",
   "metadata": {},
   "source": [
    "#### 2. Create a program that calculates the sum of all numbers in a list using a `for` loop."
   ]
  },
  {
   "cell_type": "code",
   "execution_count": 2,
   "id": "c29aa7d4-3361-4efc-a68d-d128dbd6d70c",
   "metadata": {},
   "outputs": [
    {
     "name": "stdin",
     "output_type": "stream",
     "text": [
      "enter the list size 3\n",
      "enter the element 1\n",
      "enter the element 1\n",
      "enter the element 1\n"
     ]
    },
    {
     "name": "stdout",
     "output_type": "stream",
     "text": [
      "3\n"
     ]
    }
   ],
   "source": [
    " n=int(input(\"enter the list size\"))\n",
    "l=[]\n",
    "for i in range(n):\n",
    "    inp=int(input(\"enter the element\"))\n",
    "    l.append(inp)\n",
    "sum1=0\n",
    "for i in l:\n",
    "    sum1=sum1+i\n",
    "print(sum1)\n",
    "    \n",
    "    "
   ]
  },
  {
   "cell_type": "markdown",
   "id": "62236ecf-d766-465b-a3c0-0768a3fc63b5",
   "metadata": {},
   "source": [
    "#### 3. Write a program to print the characters of a string in reverse order using a `for` loop."
   ]
  },
  {
   "cell_type": "code",
   "execution_count": 3,
   "id": "25145b02-3dda-43b5-b5dd-a5b5a06a7711",
   "metadata": {},
   "outputs": [
    {
     "name": "stdin",
     "output_type": "stream",
     "text": [
      "enter the input of string shreya\n"
     ]
    },
    {
     "name": "stdout",
     "output_type": "stream",
     "text": [
      "a y e r h s "
     ]
    }
   ],
   "source": [
    "s=input(\"enter the input of string\")\n",
    "for i in reversed(range(len(s))):\n",
    "    print(s[i],end=' ')"
   ]
  },
  {
   "cell_type": "markdown",
   "id": "82cb6412-1c2a-425e-a19f-00812f202fce",
   "metadata": {},
   "source": [
    "#### 4. Develop a program that finds the factorial of a given number using a `for` loop."
   ]
  },
  {
   "cell_type": "code",
   "execution_count": 4,
   "id": "5fa7a892-3110-48cf-8041-e4071b62e826",
   "metadata": {},
   "outputs": [
    {
     "name": "stdin",
     "output_type": "stream",
     "text": [
      "enter the number to find the factorial 4\n"
     ]
    },
    {
     "name": "stdout",
     "output_type": "stream",
     "text": [
      "factorial of 4 is 24\n"
     ]
    }
   ],
   "source": [
    "n=int(input(\"enter the number to find the factorial\"))\n",
    "fact=1\n",
    "if(n<=0):\n",
    "    print(\"no factorial found\")\n",
    "elif(n==1):\n",
    "    print(\"factorial of 1 is\",1)\n",
    "else:\n",
    "    for i in (range(1,n+1)):\n",
    "        fact=fact*i\n",
    "    print(\"factorial of {} is {}\".format(n,fact))"
   ]
  },
  {
   "cell_type": "markdown",
   "id": "e455538d-f878-42da-85b1-493d1f97fd63",
   "metadata": {},
   "source": [
    "#### 5. Create a program to print the multiplication table of a given number using a `for` loop."
   ]
  },
  {
   "cell_type": "code",
   "execution_count": 5,
   "id": "cc9240f4-6820-48f1-b9cd-b19140457cb0",
   "metadata": {},
   "outputs": [
    {
     "name": "stdin",
     "output_type": "stream",
     "text": [
      "enter the number 4\n"
     ]
    },
    {
     "name": "stdout",
     "output_type": "stream",
     "text": [
      "4\n",
      "8\n",
      "12\n",
      "16\n",
      "20\n",
      "24\n",
      "28\n",
      "32\n",
      "36\n",
      "40\n"
     ]
    }
   ],
   "source": [
    "n=int(input(\"enter the number\"))\n",
    "for i in range(1,11):\n",
    "    print(n*i)"
   ]
  },
  {
   "cell_type": "markdown",
   "id": "123f7c6c-e224-4a01-a52e-e58163785f23",
   "metadata": {},
   "source": [
    "#### 6. Write a program that counts the number of even and odd numbers in a list using a `for` loop."
   ]
  },
  {
   "cell_type": "code",
   "execution_count": 6,
   "id": "d464edb1-3b82-4214-9eb9-da7d520802f3",
   "metadata": {},
   "outputs": [
    {
     "name": "stdin",
     "output_type": "stream",
     "text": [
      "enter the size 3\n",
      "enter the elements 12\n",
      "enter the elements 32\n",
      "enter the elements 1\n"
     ]
    },
    {
     "name": "stdout",
     "output_type": "stream",
     "text": [
      "count of the even number is  2\n",
      "count of the odd number is 1\n"
     ]
    }
   ],
   "source": [
    "n=int(input(\"enter the size\"))\n",
    "l=[]\n",
    "for i in range(n):\n",
    "    inp=int(input(\"enter the elements\"))\n",
    "    l.append(inp)\n",
    "c=0\n",
    "c1=0\n",
    "for i in l:\n",
    "    if(i%2==0):\n",
    "        c+=1\n",
    "    else:\n",
    "        c1+=1\n",
    "print(\"count of the even number is \",c)\n",
    "print(\"count of the odd number is\",c1)\n",
    "    "
   ]
  },
  {
   "cell_type": "markdown",
   "id": "f3f96886-6b59-4c15-8c7d-cef728e16251",
   "metadata": {},
   "source": [
    "#### 7. Develop a program that prints the squares of numbers from 1 to 5 using a `for` loop."
   ]
  },
  {
   "cell_type": "code",
   "execution_count": 7,
   "id": "631d65ec-2641-4218-88bf-7f17ca62efe9",
   "metadata": {},
   "outputs": [
    {
     "name": "stdout",
     "output_type": "stream",
     "text": [
      "square of 1 is 1\n",
      "square of 2 is 4\n",
      "square of 3 is 9\n",
      "square of 4 is 16\n",
      "square of 5 is 25\n"
     ]
    }
   ],
   "source": [
    "for i in range(1,6):\n",
    "    print(f\"square of {i} is {i*i}\")"
   ]
  },
  {
   "cell_type": "markdown",
   "id": "c2e037ac-f56e-46b2-a492-67c6c0016b52",
   "metadata": {},
   "source": [
    "#### 8. Create a program to find the length of a string without using the `len()` function."
   ]
  },
  {
   "cell_type": "code",
   "execution_count": 8,
   "id": "716ff490-54b5-4814-833e-de0a73efacb4",
   "metadata": {},
   "outputs": [
    {
     "name": "stdin",
     "output_type": "stream",
     "text": [
      "enter the string shreya\n"
     ]
    },
    {
     "name": "stdout",
     "output_type": "stream",
     "text": [
      "length of the string shreya is 6\n"
     ]
    }
   ],
   "source": [
    "s=input(\"enter the string\")\n",
    "c=0\n",
    "for i in range(len(s)):\n",
    "    c=c+1\n",
    "print(f\"length of the string {s} is {c}\")"
   ]
  },
  {
   "cell_type": "markdown",
   "id": "47cb1b8d-bd07-45a4-acc8-e7157aeb1e10",
   "metadata": {},
   "source": [
    "#### 9. Write a program that calculates the average of a list of numbers using a `for` loop."
   ]
  },
  {
   "cell_type": "code",
   "execution_count": 9,
   "id": "03cc87d9-704d-46ce-b553-5fd5c022e11c",
   "metadata": {},
   "outputs": [
    {
     "name": "stdin",
     "output_type": "stream",
     "text": [
      "enter the size 4\n",
      "enter the elements 12\n",
      "enter the elements 21\n",
      "enter the elements 3\n",
      "enter the elements 4\n"
     ]
    },
    {
     "name": "stdout",
     "output_type": "stream",
     "text": [
      " average of given numbers is 10.0\n"
     ]
    }
   ],
   "source": [
    "n=int(input(\"enter the size\"))\n",
    "l=[]\n",
    "for i in range(n):\n",
    "    inp=int(input(\"enter the elements\"))\n",
    "    l.append(inp)\n",
    "sum1=0\n",
    "for i in l:\n",
    "    sum1=sum1+i\n",
    "print(f' average of given numbers is {sum1/len(l)}')"
   ]
  },
  {
   "cell_type": "markdown",
   "id": "7afee900-a9a3-40c3-9b85-bd6095ab93ec",
   "metadata": {},
   "source": [
    "#### 10. Develop a program that prints the first `n` Fibonacci numbers using a `for` loop."
   ]
  },
  {
   "cell_type": "code",
   "execution_count": 10,
   "id": "41458cb7-c29e-437f-9ca7-4ecfdafbd7fa",
   "metadata": {},
   "outputs": [
    {
     "name": "stdin",
     "output_type": "stream",
     "text": [
      "How many terms?  5\n"
     ]
    },
    {
     "name": "stdout",
     "output_type": "stream",
     "text": [
      "Fibonacci sequence:\n",
      "0\n",
      "1\n",
      "1\n",
      "2\n",
      "3\n"
     ]
    }
   ],
   "source": [
    "\n",
    "nterms = int(input(\"How many terms? \"))\n",
    "n1, n2 = 0, 1\n",
    "count = 0\n",
    "if nterms <= 0:\n",
    "   print(\"Please enter a positive integer\")\n",
    "elif nterms == 1:\n",
    "   print(\"Fibonacci sequence upto\",nterms,\":\")\n",
    "   print(n1)\n",
    "else:\n",
    "   print(\"Fibonacci sequence:\")\n",
    "   while count < nterms:\n",
    "       print(n1)\n",
    "       nth = n1 + n2\n",
    "       n1 = n2\n",
    "       n2 = nth\n",
    "       count += 1"
   ]
  },
  {
   "cell_type": "markdown",
   "id": "945fb0a2-0ef2-4295-bafb-9c96967f561e",
   "metadata": {},
   "source": [
    "#### 11. Write a program to check if a given list contains any duplicates using a `for` loop."
   ]
  },
  {
   "cell_type": "code",
   "execution_count": 11,
   "id": "6f01d892-274a-438d-86b1-61a5a0103445",
   "metadata": {},
   "outputs": [
    {
     "name": "stdout",
     "output_type": "stream",
     "text": [
      "duplicated elemnents are 1\n",
      "duplicated elemnents are 2\n"
     ]
    }
   ],
   "source": [
    "\n",
    "a=[1,1,1,2,2,3]\n",
    "dict1={}\n",
    "for i in a:\n",
    "    if(i in dict1):\n",
    "        dict1[i]+=1\n",
    "    else:\n",
    "        dict1[i]=1\n",
    "for i in dict1.values():\n",
    "    if(i>=2):\n",
    "        print(\"duplicated elemnents are {}\".format(dict1[i]))"
   ]
  },
  {
   "cell_type": "markdown",
   "id": "b6dc8e7c-87e6-416d-b70f-cf9c61b1edff",
   "metadata": {},
   "source": [
    "#### 12. Create a program that prints the prime numbers in a given range using a `for` loop."
   ]
  },
  {
   "cell_type": "code",
   "execution_count": 12,
   "id": "e9fa3206-87bc-4743-8cfb-38ab3450c4a4",
   "metadata": {},
   "outputs": [
    {
     "name": "stdout",
     "output_type": "stream",
     "text": [
      "2 3 5 7 11 13 17 19 23 29 31 37 41 43 47 53 59 61 67 71 73 79 83 89 97 "
     ]
    }
   ],
   "source": [
    "def Prime(n):\n",
    "    if(n==1 or n==0):\n",
    "        return False\n",
    "    for i in range(2,n):\n",
    "        if(n%i==0):\n",
    "            return False\n",
    "\n",
    "    return True\n",
    "\n",
    "N = 100;\n",
    "for i in range(1,N+1):\n",
    "    if(Prime(i)):\n",
    "        print(i,end=\" \")\n",
    "\n",
    "        \n",
    "    "
   ]
  },
  {
   "cell_type": "markdown",
   "id": "b25c078b-7b52-4b8c-860e-2654107edc4a",
   "metadata": {},
   "source": [
    "#### 13. Develop a program that counts the number of vowels in a string using a `for` loop."
   ]
  },
  {
   "cell_type": "code",
   "execution_count": 13,
   "id": "61fdab65-795a-4198-b572-174273527120",
   "metadata": {},
   "outputs": [
    {
     "name": "stdin",
     "output_type": "stream",
     "text": [
      "User Please enter the sentence pwskills data science\n"
     ]
    },
    {
     "name": "stdout",
     "output_type": "stream",
     "text": [
      "i 2\n",
      "a 2\n",
      "e 2\n"
     ]
    }
   ],
   "source": [
    "sentence=input(\"User Please enter the sentence\")\n",
    "dict1={}\n",
    "s1='aeiou'\n",
    "\n",
    "for i in sentence:\n",
    "    if(i in dict1):\n",
    "        dict1[i]+=1\n",
    "    else:\n",
    "        dict1[i]=1\n",
    "for i in dict1.keys():\n",
    "    if(i in s1):\n",
    "        print(i,dict1[i])\n",
    "    else:\n",
    "        pass\n",
    "    "
   ]
  },
  {
   "cell_type": "markdown",
   "id": "4ee29b64-10bb-4c7b-bed2-3938185dfea4",
   "metadata": {},
   "source": [
    "#### 14. Write a program to find the maximum element in a 2D list using a nested `for` loop."
   ]
  },
  {
   "cell_type": "code",
   "execution_count": 14,
   "id": "a7abc6a4-461f-4c7d-b177-095d0a88908f",
   "metadata": {},
   "outputs": [
    {
     "name": "stdout",
     "output_type": "stream",
     "text": [
      "array elements are: 12\n",
      "array elements are: 34\n",
      "array elements are: 56\n",
      "array elements are: 78\n",
      "array elements are: 21\n",
      "array elements are: 34\n",
      "array elements are: 5\n",
      "array elements are: 6\n",
      "maximum elemnent fro the 2D array is:  78\n"
     ]
    }
   ],
   "source": [
    "a=[[12,34,56,78],[21,34,5,6]]\n",
    "f=False\n",
    "max1=a[0][0]\n",
    "for i in range(len(a)):\n",
    "    for j in range(len(a[i])):\n",
    "        print(\"array elements are:\",a[i][j])\n",
    "        if(a[i][j]>max1):\n",
    "            max1=a[i][j]\n",
    "print(\"maximum elemnent fro the 2D array is: \",max1)"
   ]
  },
  {
   "cell_type": "markdown",
   "id": "9f0711ef-acc1-4061-88b1-3b06c3243b10",
   "metadata": {},
   "source": [
    "#### 15. Create a program that removes all occurrences of a specific element from a list using a `for` loop."
   ]
  },
  {
   "cell_type": "code",
   "execution_count": 15,
   "id": "ecbcfad9-21be-4fbe-9772-6490a9d8c36b",
   "metadata": {},
   "outputs": [
    {
     "name": "stdin",
     "output_type": "stream",
     "text": [
      "enter the size of list 4\n",
      "enter the element 12\n",
      "enter the element 21\n",
      "enter the element 34\n",
      "enter the element 5\n",
      "enter the element to remove it's occurance from the list 5\n"
     ]
    },
    {
     "name": "stdout",
     "output_type": "stream",
     "text": [
      "list after removal of given element is [12, 21, 34]\n"
     ]
    }
   ],
   "source": [
    "n=int(input(\"enter the size of list\"))\n",
    "l=[]\n",
    "for i in range(n):\n",
    "    inp=int(input(\"enter the element\"))\n",
    "    l.append(inp)\n",
    "ele=int(input(\"enter the element to remove it's occurance from the list\"))\n",
    "'''c=0\n",
    "for i in l:\n",
    "    if(i==ele):\n",
    "        c+=1\n",
    "    else:\n",
    "        pass'''\n",
    "for i in range(l.count(ele)):\n",
    "    l.remove(ele)\n",
    "print(\"list after removal of given element is\",l)\n",
    "        \n",
    "    \n"
   ]
  },
  {
   "cell_type": "markdown",
   "id": "92ac3a52-c62a-4870-ae61-27e9732d2b82",
   "metadata": {},
   "source": [
    "#### 16. Develop a program that generates a multiplication table for numbers from 1 to 5 using a nested `for` loop."
   ]
  },
  {
   "cell_type": "code",
   "execution_count": 16,
   "id": "0fafd09a-1890-432b-97fd-ccf3c1aa021a",
   "metadata": {},
   "outputs": [
    {
     "name": "stdout",
     "output_type": "stream",
     "text": [
      "1  2  3  4  5    \n",
      "2  4  6  8  10    \n",
      "3  6  9  12  15    \n",
      "4  8  12  16  20    \n",
      "5  10  15  20  25    \n"
     ]
    }
   ],
   "source": [
    "for i in range(1,6):\n",
    "    for j in range(1,6):\n",
    "        print(i*j,end='  ')\n",
    "    print('  ')\n",
    "    "
   ]
  },
  {
   "cell_type": "markdown",
   "id": "aebcf73a-23b6-41db-b8b1-32b461694787",
   "metadata": {},
   "source": [
    "#### 17. Write a program that converts a list of Fahrenheit temperatures to Celsius using a `for` loop."
   ]
  },
  {
   "cell_type": "code",
   "execution_count": 17,
   "id": "0c68a461-afc9-422c-9a4d-87e4b26617a8",
   "metadata": {},
   "outputs": [
    {
     "name": "stdin",
     "output_type": "stream",
     "text": [
      "enter the size 4\n",
      "enter the temperature in fahrenheit 21\n",
      "enter the temperature in fahrenheit 32\n",
      "enter the temperature in fahrenheit 32\n",
      "enter the temperature in fahrenheit 56\n"
     ]
    },
    {
     "name": "stdout",
     "output_type": "stream",
     "text": [
      "The temperature in celcious is [-6.11, 0.0, 0.0, 13.33]\n"
     ]
    }
   ],
   "source": [
    "n=int(input(\"enter the size\"))\n",
    "l=[]\n",
    "l1=[]\n",
    "for i in range(n):\n",
    "    inp=int(input(\"enter the temperature in fahrenheit\"))\n",
    "    l.append(inp)\n",
    "for i in l:\n",
    "    ans=round((i-32)*5/9,2)\n",
    "    l1.append(ans)\n",
    "print(\"The temperature in celcious is\",l1)\n",
    "    "
   ]
  },
  {
   "cell_type": "markdown",
   "id": "908fbdf7-c6f7-45b3-bd94-5252469c586d",
   "metadata": {},
   "source": [
    "#### 18. Create a program to print the common elements from two lists using a `for` loop."
   ]
  },
  {
   "cell_type": "code",
   "execution_count": 18,
   "id": "349ddf5f-2632-490b-a0d9-0025b7351b82",
   "metadata": {},
   "outputs": [
    {
     "name": "stdout",
     "output_type": "stream",
     "text": [
      "common elements from two lists are 12\n"
     ]
    }
   ],
   "source": [
    "a=[12,34,5,3]\n",
    "b=[12,334,51,32]\n",
    "for i in a:\n",
    "    if(i in b):\n",
    "        print(\"common elements from two lists are\",i)"
   ]
  },
  {
   "cell_type": "markdown",
   "id": "286c56d9-ea1a-434c-aaf1-d128b10a77bb",
   "metadata": {},
   "source": [
    "#### 19. Develop a program that prints the pattern of right-angled triangles using a `for` loop. Use ‘*’ to draw the pattern\n"
   ]
  },
  {
   "cell_type": "code",
   "execution_count": 1,
   "id": "1989fdec-ad41-432d-9d39-7f7ab15049d1",
   "metadata": {},
   "outputs": [
    {
     "name": "stdout",
     "output_type": "stream",
     "text": [
      "          * \n",
      "        * * * \n",
      "      * * * * * \n",
      "    * * * * * * * \n",
      "  * * * * * * * * * \n"
     ]
    }
   ],
   "source": [
    "n=5\n",
    "for i in range(n):\n",
    "    for j in range(i,n):\n",
    "        print(' ',end=' ')\n",
    "    for j in range(i):\n",
    "        print(\"*\",end=' ')\n",
    "    for j in range(i+1):\n",
    "        print(\"*\",end=' ')\n",
    "    print()"
   ]
  },
  {
   "cell_type": "markdown",
   "id": "e23f1afa-6a7e-429d-aa36-e875a6332d85",
   "metadata": {},
   "source": [
    "#### 20. Write a program to find the greatest common divisor (GCD) of two numbers using a `for` loop."
   ]
  },
  {
   "cell_type": "code",
   "execution_count": 21,
   "id": "fafc8499-0faf-4319-8575-f13c82b2403c",
   "metadata": {},
   "outputs": [
    {
     "name": "stdin",
     "output_type": "stream",
     "text": [
      "enter the first number 21\n",
      "enter the second number 34\n"
     ]
    },
    {
     "name": "stdout",
     "output_type": "stream",
     "text": [
      "GCD of two numbers is 1\n"
     ]
    }
   ],
   "source": [
    "a=int(input(\"enter the first number\"))\n",
    "b=int(input(\"enter the second number\"))\n",
    "gcd=1\n",
    "for i in range(1, min(a, b) + 1):\n",
    "    if a % i == 0 and b % i == 0:\n",
    "          gcd = i\n",
    "print(\"GCD of two numbers is\",gcd)"
   ]
  },
  {
   "cell_type": "markdown",
   "id": "4b4b75c5-41da-403a-8492-ed23e347a472",
   "metadata": {},
   "source": [
    "#### 21. Create a program that calculates the sum of the digits of numbers in a list using a list comprehension."
   ]
  },
  {
   "cell_type": "code",
   "execution_count": 4,
   "id": "68fa52fd-f0d3-48ef-ab52-3456ac07f0d7",
   "metadata": {},
   "outputs": [
    {
     "name": "stdout",
     "output_type": "stream",
     "text": [
      "sum of digits in each number in list is [3, 9, 13, 8]\n"
     ]
    }
   ],
   "source": [
    "def fun(a):\n",
    "    sum=0\n",
    "    for i in str(a):\n",
    "        sum+=int(i)\n",
    "    return sum\n",
    "l=[12,45,67,8]\n",
    "c=[fun(i) for i in l]\n",
    "print(\"sum of digits in each number in list is\",c)"
   ]
  },
  {
   "cell_type": "markdown",
   "id": "a0273ec9-9cb7-4229-bb3b-b1480b45f74f",
   "metadata": {},
   "source": [
    "#### 22. Write a program to find the prime factors of a given number using a `for` loop and list comprehension."
   ]
  },
  {
   "cell_type": "code",
   "execution_count": 8,
   "id": "69736d25-e60c-493c-b0ee-976c6643818a",
   "metadata": {},
   "outputs": [
    {
     "name": "stdin",
     "output_type": "stream",
     "text": [
      "enter number 80\n"
     ]
    },
    {
     "name": "stdout",
     "output_type": "stream",
     "text": [
      "{8, 2, 4, 5}\n"
     ]
    }
   ],
   "source": [
    "n=int(input(\"enter number\"))\n",
    "factors = []\n",
    "while n % 2 == 0:\n",
    "    factors.append(2)\n",
    "    n //= 2\n",
    "    for i in range(3, int(n**0.5) + 1, 2):\n",
    "        while n % i == 0:\n",
    "            factors.append(i)\n",
    "            n //= i\n",
    "    if n > 2:\n",
    "        factors.append(n)\n",
    "\n",
    "\n",
    "print(set(factors))\n"
   ]
  },
  {
   "cell_type": "markdown",
   "id": "8ba34d70-4b53-4bb6-a355-eebae4535631",
   "metadata": {},
   "source": [
    "#### 23. Develop a program that extracts unique elements from a list and stores them in a new list using a list comphrnsion"
   ]
  },
  {
   "cell_type": "code",
   "execution_count": 79,
   "id": "261deb75-f901-44ee-a171-c96ac5d196be",
   "metadata": {},
   "outputs": [
    {
     "name": "stdout",
     "output_type": "stream",
     "text": [
      "Unique elements in the list:\n",
      "[1, 2, 3, 4, 5, 6]\n"
     ]
    }
   ],
   "source": [
    "original_list = [1, 2, 2, 3, 4, 4, 5, 6, 6]\n",
    "\n",
    "unique_list = [x for i, x in enumerate(original_list) if x not in original_list[:i]]\n",
    "print(\"Unique elements in the list:\")\n",
    "print(unique_list)\n",
    "\n"
   ]
  },
  {
   "cell_type": "markdown",
   "id": "fc958c61-4af7-4e41-a3ba-7288ecd04fb7",
   "metadata": {},
   "source": [
    "#### 24. Create a program that generates a list of all palindromic numbers up to a specified limit using a list comprehnsion."
   ]
  },
  {
   "cell_type": "code",
   "execution_count": 1,
   "id": "8be92b03-00af-4e33-83e5-7d0f29d907ec",
   "metadata": {},
   "outputs": [
    {
     "data": {
      "text/plain": [
       "[1, 2, 3, 4, 5, 6, 7, 8, 9, 11, 22, 33]"
      ]
     },
     "execution_count": 1,
     "metadata": {},
     "output_type": "execute_result"
    }
   ],
   "source": [
    "def is_palindrome(num):\n",
    "    num_str = str(num)\n",
    "    return num_str == num_str[::-1]\n",
    "\n",
    "def create_palindromic_numbers(limit):\n",
    "    palindromic_numbers = [num for num in range(1, limit + 1) if is_palindrome(num)]\n",
    "    return palindromic_numbers\n",
    "\n",
    "palindromic_numbers = create_palindromic_numbers(40)\n",
    "\n",
    "\n",
    "palindromic_numbers"
   ]
  },
  {
   "cell_type": "markdown",
   "id": "d1f0187e-cc5e-4bad-a3ee-8dd83991184c",
   "metadata": {},
   "source": [
    "#### 25. Write a program to flatten a nested list using list comprehension."
   ]
  },
  {
   "cell_type": "code",
   "execution_count": 4,
   "id": "37394b4f-5097-442d-969b-db15e6043a23",
   "metadata": {},
   "outputs": [
    {
     "data": {
      "text/plain": [
       "[1, 2, 3, 4, 5, 6, 7, 8, 9]"
      ]
     },
     "execution_count": 4,
     "metadata": {},
     "output_type": "execute_result"
    }
   ],
   "source": [
    "l=[[1,2,3],[4,5,6],[7,8,9]]\n",
    "[j for i in l for j in i]"
   ]
  },
  {
   "cell_type": "markdown",
   "id": "602a77f0",
   "metadata": {},
   "source": [
    "#### 26. Develop a program that computes the sum of even and odd numbers in a list separately using list comprehension."
   ]
  },
  {
   "cell_type": "code",
   "execution_count": 16,
   "id": "3877fb84",
   "metadata": {},
   "outputs": [
    {
     "name": "stdout",
     "output_type": "stream",
     "text": [
      "20 16\n"
     ]
    }
   ],
   "source": [
    "l=[1,2,3,4,5,6,7,8]\n",
    "l1=sum([i for i in l if (i%2==0)])\n",
    "l2=sum([i for i in l if (i%2!=0)])\n",
    "print(l1,l2)"
   ]
  },
  {
   "cell_type": "markdown",
   "id": "46d70020",
   "metadata": {},
   "source": [
    "#### 27. Create a program that generates a list of squares of odd numbers between 1 and 10 using list comprehension."
   ]
  },
  {
   "cell_type": "code",
   "execution_count": 19,
   "id": "82bf29eb",
   "metadata": {},
   "outputs": [
    {
     "data": {
      "text/plain": [
       "25"
      ]
     },
     "execution_count": 19,
     "metadata": {},
     "output_type": "execute_result"
    }
   ],
   "source": [
    "\n",
    "sum([i for i in range(1,11) if(i%2!=0)])"
   ]
  },
  {
   "cell_type": "markdown",
   "id": "cdc2bcb9",
   "metadata": {},
   "source": [
    "#### 28. Write a program that combines two lists into a dictionary using list comprehension."
   ]
  },
  {
   "cell_type": "code",
   "execution_count": 21,
   "id": "d546144b",
   "metadata": {},
   "outputs": [
    {
     "data": {
      "text/plain": [
       "{1, 2, 3, 4}"
      ]
     },
     "execution_count": 21,
     "metadata": {},
     "output_type": "execute_result"
    }
   ],
   "source": [
    "l1=[1,2,3,4]\n",
    "l2=[5,6,7,8]\n",
    "{i for i in l1}"
   ]
  },
  {
   "cell_type": "markdown",
   "id": "ae9b05d0",
   "metadata": {},
   "source": [
    "#### 29. Develop a program that extracts the vowels from a string and stores them in a list using list comprehension."
   ]
  },
  {
   "cell_type": "code",
   "execution_count": 22,
   "id": "edca9c23",
   "metadata": {},
   "outputs": [
    {
     "data": {
      "text/plain": [
       "['i', 'a', 'a', 'i', 'e', 'e']"
      ]
     },
     "execution_count": 22,
     "metadata": {},
     "output_type": "execute_result"
    }
   ],
   "source": [
    "s=\"pwskills data science\"\n",
    "[i for i in s if i in 'aeiou']"
   ]
  },
  {
   "cell_type": "markdown",
   "id": "bcc638f5",
   "metadata": {},
   "source": [
    "#### 30. Create a program that removes all non-numeric characters from a list of strings using list comprehension."
   ]
  },
  {
   "cell_type": "code",
   "execution_count": 31,
   "id": "f38e213d",
   "metadata": {},
   "outputs": [
    {
     "data": {
      "text/plain": [
       "['p', 'w', 's', 'k', 'i', 'l', 'l', 's', ' ', 'd', 'a', 't', 'a', '@']"
      ]
     },
     "execution_count": 31,
     "metadata": {},
     "output_type": "execute_result"
    }
   ],
   "source": [
    "s=\"pwskills data@123\"\n",
    "[i for i in s if i not in ['1','2','3','4','5','6','7','9','0'] ]"
   ]
  },
  {
   "cell_type": "markdown",
   "id": "3d950d96",
   "metadata": {},
   "source": [
    "#### 31. Write a program to generate a list of prime numbers using the Sieve of Eratosthenes algorithm and list comprehension."
   ]
  },
  {
   "cell_type": "code",
   "execution_count": 34,
   "id": "9d3eb5df",
   "metadata": {},
   "outputs": [
    {
     "name": "stdout",
     "output_type": "stream",
     "text": [
      "2\n",
      "3\n",
      "5\n",
      "7\n",
      "11\n",
      "13\n",
      "17\n",
      "19\n"
     ]
    }
   ],
   "source": [
    "def SieveOfEratosthenes(n): \n",
    "\n",
    "\n",
    "    prime = [True for i in range(n+1)] \n",
    "    p = 2\n",
    "    while (p * p <= n): \n",
    "\n",
    " \n",
    "        if (prime[p] == True): \n",
    "\n",
    "            for i in range(p * p, n+1, p): \n",
    "                prime[i] = False\n",
    "        p += 1\n",
    "\n",
    "    for p in range(2, n+1): \n",
    "        if prime[p]: \n",
    "            print(p) \n",
    "\n",
    "\n",
    "\n",
    "SieveOfEratosthenes(20) \n"
   ]
  },
  {
   "cell_type": "markdown",
   "id": "a9b9a8d8",
   "metadata": {},
   "source": [
    "#### 32. Create a program that generates a list of all Pythagorean triplets up to a specified limit"
   ]
  },
  {
   "cell_type": "code",
   "execution_count": 38,
   "id": "9dfcc009",
   "metadata": {},
   "outputs": [
    {
     "name": "stdout",
     "output_type": "stream",
     "text": [
      "Enter the value of n: 8\n",
      "[(3, 4, 5)]\n"
     ]
    }
   ],
   "source": [
    "n = int(input('Enter the value of n: '))\n",
    "print([(a, b, c) for a in range(1, n + 1) for b in range(a, n + 1)\n",
    "for c in range(b, n + 1) if a**2 + b**2 == c**2])"
   ]
  },
  {
   "cell_type": "markdown",
   "id": "9c41a00c",
   "metadata": {},
   "source": [
    "#### 33. Develop a program that generates a list of all possible combinations of two lists using list comprehension."
   ]
  },
  {
   "cell_type": "code",
   "execution_count": 39,
   "id": "f76aa17c",
   "metadata": {},
   "outputs": [
    {
     "name": "stdout",
     "output_type": "stream",
     "text": [
      "[('b', 1), ('b', 4), ('b', 9), ('c', 1), ('c', 4), ('c', 9), ('d', 1), ('d', 4), ('d', 9)]\n"
     ]
    }
   ],
   "source": [
    "list_1 = [\"b\", \"c\", \"d\"]\n",
    "list_2 = [1, 4, 9]\n",
    "\n",
    "unique_combinations = []\n",
    "\n",
    "for i in range(len(list_1)):\n",
    "    for j in range(len(list_2)):\n",
    "        unique_combinations.append((list_1[i], list_2[j]))\n",
    "\n",
    "print(unique_combinations)\n"
   ]
  },
  {
   "cell_type": "markdown",
   "id": "968f6ce2",
   "metadata": {},
   "source": [
    "#### 34. Write a program that calculates the mean, median, and mode of a list of numbers"
   ]
  },
  {
   "cell_type": "code",
   "execution_count": 53,
   "id": "2f971ac9",
   "metadata": {},
   "outputs": [
    {
     "name": "stdout",
     "output_type": "stream",
     "text": [
      "mean is  3.4444444444444446\n",
      "4\n",
      "5\n"
     ]
    }
   ],
   "source": [
    "l=[1,2,3,4,5,1,5,5,5]\n",
    "print(\"mean is \",sum([i for i in l])/len(l))\n",
    "def median(lst):\n",
    "    sortedLst = sorted(lst)\n",
    "    lstLen = len(lst)\n",
    "    index = (lstLen - 1) // 2\n",
    "   \n",
    "    if (lstLen % 2):\n",
    "        return sortedLst[index]\n",
    "    else:\n",
    "        return (sortedLst[index] + sortedLst[index + 1])/2.0\n",
    "print(median(l))\n",
    "\n",
    "import statistics\n",
    "print(statistics.mode(l))\n",
    "    "
   ]
  },
  {
   "cell_type": "markdown",
   "id": "8a0194d0",
   "metadata": {},
   "source": [
    "#### 35. Create a program that generates Pascal's triangle up to a specified number of rows"
   ]
  },
  {
   "cell_type": "code",
   "execution_count": 55,
   "id": "cd1d375d",
   "metadata": {},
   "outputs": [
    {
     "name": "stdout",
     "output_type": "stream",
     "text": [
      "Enter the number: 6\n",
      "            1 \n",
      "           1      1 \n",
      "          1      2      1 \n",
      "         1      3      3      1 \n",
      "        1      4      6      4      1 \n",
      "       1      5     10     10      5      1 \n"
     ]
    }
   ],
   "source": [
    "num = int(input(\"Enter the number: \"))  \n",
    "list1 = [] #an empty list  \n",
    "for i in range(num):  \n",
    "  list1.append([])  \n",
    "  list1[i].append(1)  \n",
    "  for j in range(1, i):  \n",
    "    list1[i].append(list1[i - 1][j - 1] + list1[i - 1][j])  \n",
    "  if(num != 0):  \n",
    "    list1[i].append(1)  \n",
    "for i in range(num):  \n",
    "  print(\" \" * (num - i), end = \" \", sep = \" \")  \n",
    "  for j in range(0, i + 1):  \n",
    "    print('{0:6}'.format(list1[i][j]), end = \" \", sep = \" \")  \n",
    "  print()  "
   ]
  },
  {
   "cell_type": "markdown",
   "id": "7cf12abe",
   "metadata": {},
   "source": [
    "#### 36. Develop a program that calculates the sum of the digits of a factorial of numbers from 1 to 5 using list comprehension."
   ]
  },
  {
   "cell_type": "code",
   "execution_count": 56,
   "id": "2b720c5f",
   "metadata": {},
   "outputs": [
    {
     "name": "stdout",
     "output_type": "stream",
     "text": [
      "The sum of digits of 1! is 1\n",
      "The sum of digits of 2! is 2\n",
      "The sum of digits of 3! is 6\n",
      "The sum of digits of 4! is 6\n",
      "The sum of digits of 5! is 3\n"
     ]
    }
   ],
   "source": [
    "def factorial(n):\n",
    "    if n == 0:\n",
    "        return 1\n",
    "    else:\n",
    "        return n * factorial(n - 1)\n",
    "results = [sum(int(digit) for digit in str(factorial(i))) for i in range(1, 6)]\n",
    "for i in range(1, 6):\n",
    "    print(f\"The sum of digits of {i}! is {results[i-1]}\")\n"
   ]
  },
  {
   "cell_type": "markdown",
   "id": "6e8d7654",
   "metadata": {},
   "source": [
    "#### 37. Write a program that finds the longest word in a sentence using list comprehension."
   ]
  },
  {
   "cell_type": "code",
   "execution_count": 66,
   "id": "4ddc3902",
   "metadata": {},
   "outputs": [
    {
     "name": "stdout",
     "output_type": "stream",
     "text": [
      "sciencemasters\n"
     ]
    }
   ],
   "source": [
    "s='pwskills data sciencemasters'\n",
    "l=s.split(' ')\n",
    "max1=' '\n",
    "for i in l:\n",
    "    if(len(i)>len(max1)):\n",
    "        max1=i\n",
    "print(max1)\n"
   ]
  },
  {
   "cell_type": "markdown",
   "id": "4e4426ce",
   "metadata": {},
   "source": [
    "####  38. Create a program that filters a list of strings to include only those with more than three vowels "
   ]
  },
  {
   "cell_type": "code",
   "execution_count": 67,
   "id": "7228496e",
   "metadata": {},
   "outputs": [
    {
     "data": {
      "text/plain": [
       "['pwskills', 'data', 'science', 'masters', 'course']"
      ]
     },
     "execution_count": 67,
     "metadata": {},
     "output_type": "execute_result"
    }
   ],
   "source": [
    "s='pwskills data science masters course'\n",
    "l=s.split(' ')\n",
    "l"
   ]
  },
  {
   "cell_type": "code",
   "execution_count": 73,
   "id": "e86951fd",
   "metadata": {},
   "outputs": [
    {
     "name": "stdout",
     "output_type": "stream",
     "text": [
      "Strings with more than three vowels:\n",
      "sciencemasters\n"
     ]
    }
   ],
   "source": [
    "def count_vowels(s):\n",
    "    vowels = \"AEIOUaeiou\"\n",
    "    return sum(1 for char in s if char in vowels)\n",
    "string_list = [\"pwskills\", \"data\", \"sciencemasters\", \"masters\", \"course\", \"pro\", \"batch\"]\n",
    "filtered_strings = [s for s in string_list if count_vowels(s) > 3]\n",
    "print(\"Strings with more than three vowels:\")\n",
    "for s in filtered_strings:\n",
    "    print(s)\n"
   ]
  },
  {
   "cell_type": "markdown",
   "id": "cfb88e91",
   "metadata": {},
   "source": [
    "#### 39. 39. Develop a program that calculates the sum of the digits of numbers from 1 to 1000 using list comprehension."
   ]
  },
  {
   "cell_type": "code",
   "execution_count": 77,
   "id": "65d82ac3",
   "metadata": {},
   "outputs": [
    {
     "name": "stdout",
     "output_type": "stream",
     "text": [
      "The total sum of digits from 1 to 1000 is 13501\n"
     ]
    }
   ],
   "source": [
    "def sum_of_digits(number):\n",
    "    return sum(int(digit) for digit in str(number))\n",
    "\n",
    "sums_of_digits = [sum_of_digits(number) for number in range(1, 1001)]\n",
    "\n",
    "total_sum = sum(sums_of_digits)\n",
    "print(\"The total sum of digits from 1 to 1000 is {}\".format(total_sum))\n"
   ]
  },
  {
   "cell_type": "markdown",
   "id": "a8b0b23a",
   "metadata": {},
   "source": [
    "#### 40. Write a program that generates a list of prime palindromic numbers using list comprehension."
   ]
  },
  {
   "cell_type": "code",
   "execution_count": 78,
   "id": "0761133d",
   "metadata": {},
   "outputs": [
    {
     "name": "stdout",
     "output_type": "stream",
     "text": [
      "Prime palindromic numbers:\n",
      "[2, 3, 5, 7, 11, 101, 131, 151, 181, 191, 313, 353, 373, 383, 727, 757, 787, 797, 919, 929]\n"
     ]
    }
   ],
   "source": [
    "def is_prime(n):\n",
    "    if n < 2:\n",
    "        return False\n",
    "    for i in range(2, int(n**0.5) + 1):\n",
    "        if n % i == 0:\n",
    "            return False\n",
    "    return True\n",
    "\n",
    "def is_palindrome(n):\n",
    "    return str(n) == str(n)[::-1]\n",
    "prime_palindromes = [num for num in range(2, 1000) if is_prime(num) and is_palindrome(num)]\n",
    "print(\"Prime palindromic numbers:\")\n",
    "print(prime_palindromes)\n"
   ]
  },
  {
   "cell_type": "code",
   "execution_count": null,
   "id": "6b32b630",
   "metadata": {},
   "outputs": [],
   "source": []
  }
 ],
 "metadata": {
  "kernelspec": {
   "display_name": "Python 3 (ipykernel)",
   "language": "python",
   "name": "python3"
  },
  "language_info": {
   "codemirror_mode": {
    "name": "ipython",
    "version": 3
   },
   "file_extension": ".py",
   "mimetype": "text/x-python",
   "name": "python",
   "nbconvert_exporter": "python",
   "pygments_lexer": "ipython3",
   "version": "3.10.9"
  }
 },
 "nbformat": 4,
 "nbformat_minor": 5
}
