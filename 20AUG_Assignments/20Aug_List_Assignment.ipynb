{
 "cells": [
  {
   "cell_type": "markdown",
   "id": "f0bd55df",
   "metadata": {},
   "source": [
    "### List Based Practice Problem :"
   ]
  },
  {
   "cell_type": "markdown",
   "id": "ace53664",
   "metadata": {},
   "source": [
    "#### 1. Create a list with integers from 1 to 10."
   ]
  },
  {
   "cell_type": "code",
   "execution_count": 9,
   "id": "60a41a9e",
   "metadata": {},
   "outputs": [
    {
     "data": {
      "text/plain": [
       "[1, 2, 3, 4, 5, 6, 7, 8, 9, 10]"
      ]
     },
     "execution_count": 9,
     "metadata": {},
     "output_type": "execute_result"
    }
   ],
   "source": [
    "[i for i in range(1,11)]"
   ]
  },
  {
   "cell_type": "markdown",
   "id": "192db54a",
   "metadata": {},
   "source": [
    "#### 2. Find the length of a list without using the `len()` function."
   ]
  },
  {
   "cell_type": "code",
   "execution_count": 10,
   "id": "ee82ca2a",
   "metadata": {},
   "outputs": [
    {
     "name": "stdout",
     "output_type": "stream",
     "text": [
      "length of the list is 4\n"
     ]
    }
   ],
   "source": [
    "l=[12,34,56,78]\n",
    "c=0\n",
    "for i in l:\n",
    "    c+=1\n",
    "print(\"length of the list is\",c)"
   ]
  },
  {
   "cell_type": "markdown",
   "id": "1866452d",
   "metadata": {},
   "source": [
    "#### 3. Append an element to the end of a list."
   ]
  },
  {
   "cell_type": "code",
   "execution_count": 11,
   "id": "9c642a5a",
   "metadata": {},
   "outputs": [
    {
     "name": "stdout",
     "output_type": "stream",
     "text": [
      "list before appending the element is [1, 2, 3, 45]\n",
      "list after appending the element is [1, 2, 3, 45, 34]\n"
     ]
    }
   ],
   "source": [
    "l=[1,2,3,45]\n",
    "ele=34\n",
    "print(\"list before appending the element is\",l)\n",
    "l.append(ele)\n",
    "print(\"list after appending the element is\",l)"
   ]
  },
  {
   "cell_type": "markdown",
   "id": "2d21f53c",
   "metadata": {},
   "source": [
    "#### 4. Insert an element at a specific index in a list."
   ]
  },
  {
   "cell_type": "code",
   "execution_count": 12,
   "id": "7ed3fc9b",
   "metadata": {},
   "outputs": [
    {
     "name": "stdout",
     "output_type": "stream",
     "text": [
      "list before inserting the element is [2, 34, 5, 3, 2]\n",
      "list after inserting the element is [2, 34, 0, 5, 3, 2]\n"
     ]
    }
   ],
   "source": [
    "l=[2,34,5,3,2]\n",
    "print(\"list before inserting the element is\",l)\n",
    "l.insert(2,0)\n",
    "print(\"list after inserting the element is\",l)\n"
   ]
  },
  {
   "cell_type": "markdown",
   "id": "2ab70333",
   "metadata": {},
   "source": [
    "#### 5. Remove an element from a list by its value."
   ]
  },
  {
   "cell_type": "code",
   "execution_count": 13,
   "id": "1a0b8c7f",
   "metadata": {},
   "outputs": [
    {
     "name": "stdout",
     "output_type": "stream",
     "text": [
      "list before removing an element by it's value is [12, 45, 67, 4, 3, 2]\n",
      "list after removing an element by it's value is [12, 67, 4, 3, 2]\n"
     ]
    }
   ],
   "source": [
    "l=[12,45,67,4,3,2]\n",
    "print(\"list before removing an element by it's value is\",l)\n",
    "l.remove(45)\n",
    "print(\"list after removing an element by it's value is\",l)\n"
   ]
  },
  {
   "cell_type": "markdown",
   "id": "f6e7203d",
   "metadata": {},
   "source": [
    "#### 6. Remove an element from a list by its index."
   ]
  },
  {
   "cell_type": "code",
   "execution_count": 14,
   "id": "f04687da",
   "metadata": {},
   "outputs": [
    {
     "name": "stdout",
     "output_type": "stream",
     "text": [
      "enter an index1\n",
      "[12, 67, 4, 3, 2]\n"
     ]
    }
   ],
   "source": [
    "l=[12,45,67,4,3,2]\n",
    "index=int(input(\"enter an index\"))\n",
    "for i in range(len(l)):\n",
    "    if(i==index):\n",
    "        l.remove(l[i])\n",
    "print(l)"
   ]
  },
  {
   "cell_type": "markdown",
   "id": "33be5c20",
   "metadata": {},
   "source": [
    "#### 7. Check if an element exists in a list."
   ]
  },
  {
   "cell_type": "code",
   "execution_count": 21,
   "id": "8688d44e",
   "metadata": {},
   "outputs": [
    {
     "name": "stdout",
     "output_type": "stream",
     "text": [
      "enter an element56\n",
      "element 56 is in [12, 34, 56, 7]\n"
     ]
    }
   ],
   "source": [
    "l=[12,34,56,7]\n",
    "ele=int(input(\"enter an element\"))\n",
    "if(ele in l):\n",
    "        print(\"element {} is in {}\".format(ele,l))\n",
    "else:\n",
    "    print(\"no match found\")\n",
    "    "
   ]
  },
  {
   "cell_type": "markdown",
   "id": "32cb9b6a",
   "metadata": {},
   "source": [
    "#### 8. Find the index of the first occurrence of an element in a list."
   ]
  },
  {
   "cell_type": "code",
   "execution_count": 31,
   "id": "9ef64667",
   "metadata": {},
   "outputs": [
    {
     "name": "stdout",
     "output_type": "stream",
     "text": [
      "enter element67\n",
      "index is 2\n"
     ]
    }
   ],
   "source": [
    "f=True\n",
    "l=[12,45,67,89,21]\n",
    "ele=int(input(\"enter element\"))\n",
    "for i in l:\n",
    "    if(ele in l):\n",
    "        f=True\n",
    "        break\n",
    "    else:\n",
    "        f=False\n",
    "if(f==True):\n",
    "    print(\"index is\",l.index(ele))\n",
    "else:\n",
    "    print(\"elment not found\")"
   ]
  },
  {
   "cell_type": "markdown",
   "id": "4a4e4d73",
   "metadata": {},
   "source": [
    "#### 9. Count the occurrences of an element in a list."
   ]
  },
  {
   "cell_type": "code",
   "execution_count": 37,
   "id": "c8db1dce",
   "metadata": {},
   "outputs": [
    {
     "name": "stdout",
     "output_type": "stream",
     "text": [
      "enter an element3\n",
      "the occurance of 3 is 2\n",
      "the occurance of 3 is 2\n"
     ]
    }
   ],
   "source": [
    "l=[12,34,56,67,89,21,3,3]\n",
    "ele=int(input(\"enter an element\"))\n",
    "c=0\n",
    "for i in l:\n",
    "    if(i==ele):\n",
    "        c+=1\n",
    "print(\"the occurance of {} is {}\".format(ele,c))\n",
    "        \n",
    "\n",
    "# one more solution\n",
    "\n",
    "print(\"the occurance of {} is {}\".format(ele,l.count(ele)))\n",
    "        "
   ]
  },
  {
   "cell_type": "markdown",
   "id": "6a995689",
   "metadata": {},
   "source": [
    "#### 10. Reverse the order of elements in a list."
   ]
  },
  {
   "cell_type": "code",
   "execution_count": 41,
   "id": "b3f5022f",
   "metadata": {},
   "outputs": [
    {
     "name": "stdout",
     "output_type": "stream",
     "text": [
      "reversed list is  [89, 78, 56, 34, 12]\n"
     ]
    }
   ],
   "source": [
    "l=[12,34,56,78,89]\n",
    "l=l[::-1]\n",
    "print(\"reversed list is \",l)"
   ]
  },
  {
   "cell_type": "markdown",
   "id": "9c9f1696",
   "metadata": {},
   "source": [
    "#### 11. Sort a list in ascending order."
   ]
  },
  {
   "cell_type": "code",
   "execution_count": 45,
   "id": "1ac18580",
   "metadata": {},
   "outputs": [
    {
     "name": "stdout",
     "output_type": "stream",
     "text": [
      "list after sorting in ascending order is [-2, 4, 7, 12, 21, 56, 88, 92]\n"
     ]
    }
   ],
   "source": [
    "l=[12,4,56,7,88,92,21,-2]\n",
    "l.sort()\n",
    "print(\"list after sorting in ascending order is\",l)"
   ]
  },
  {
   "cell_type": "markdown",
   "id": "418bbfa3",
   "metadata": {},
   "source": [
    "#### 12. Sort a list in descending order."
   ]
  },
  {
   "cell_type": "code",
   "execution_count": 46,
   "id": "f8035f8f",
   "metadata": {},
   "outputs": [
    {
     "name": "stdout",
     "output_type": "stream",
     "text": [
      "list after sorting in descending order is [92, 88, 56, 21, 12, 7, 4, -2]\n"
     ]
    }
   ],
   "source": [
    "l=[12,4,56,7,88,92,21,-2]\n",
    "l.sort(reverse=True)\n",
    "print(\"list after sorting in descending order is\",l)"
   ]
  },
  {
   "cell_type": "markdown",
   "id": "47241280",
   "metadata": {},
   "source": [
    "#### 13. Create a list of even numbers from 1 to 20."
   ]
  },
  {
   "cell_type": "code",
   "execution_count": 47,
   "id": "4f613e1a",
   "metadata": {},
   "outputs": [
    {
     "data": {
      "text/plain": [
       "[2, 4, 6, 8, 10, 12, 14, 16, 18, 20]"
      ]
     },
     "execution_count": 47,
     "metadata": {},
     "output_type": "execute_result"
    }
   ],
   "source": [
    "[i for i in range(1,21) if(i%2==0)]"
   ]
  },
  {
   "cell_type": "markdown",
   "id": "5212d4da",
   "metadata": {},
   "source": [
    "#### 14. Create a list of odd numbers from 1 to 20."
   ]
  },
  {
   "cell_type": "code",
   "execution_count": 48,
   "id": "9bd302ac",
   "metadata": {},
   "outputs": [
    {
     "data": {
      "text/plain": [
       "[1, 3, 5, 7, 9, 11, 13, 15, 17, 19]"
      ]
     },
     "execution_count": 48,
     "metadata": {},
     "output_type": "execute_result"
    }
   ],
   "source": [
    "[i for i in range(1,21) if(i%2!=0)]"
   ]
  },
  {
   "cell_type": "markdown",
   "id": "f718e61d",
   "metadata": {},
   "source": [
    "#### 15. Find the sum of all elements in a list."
   ]
  },
  {
   "cell_type": "code",
   "execution_count": 56,
   "id": "6e0704ce",
   "metadata": {},
   "outputs": [
    {
     "name": "stdout",
     "output_type": "stream",
     "text": [
      "sum is  278\n"
     ]
    }
   ],
   "source": [
    "l=[12,4,56,7,88,92,21,-2]\n",
    "sum1=0\n",
    "#[sum1 for i in l sum1=sum1+i]  using list comprehension\n",
    "for i in l:\n",
    "    sum1+=i\n",
    "print(\"sum is \",sum1)"
   ]
  },
  {
   "cell_type": "markdown",
   "id": "a3b9f213",
   "metadata": {},
   "source": [
    "#### 16. Find the maximum value in a list."
   ]
  },
  {
   "cell_type": "code",
   "execution_count": 58,
   "id": "b8ea74ac",
   "metadata": {},
   "outputs": [
    {
     "name": "stdout",
     "output_type": "stream",
     "text": [
      "maximum value from the list is 92\n"
     ]
    }
   ],
   "source": [
    "l=[12,4,56,7,88,92,21,-2]\n",
    "max1=0\n",
    "for i in l:\n",
    "    if(i>max1):\n",
    "        max1=i\n",
    "print(\"maximum value from the list is\",max1)"
   ]
  },
  {
   "cell_type": "markdown",
   "id": "2140c07d",
   "metadata": {},
   "source": [
    "#### 17. Find the minimum value in a list."
   ]
  },
  {
   "cell_type": "code",
   "execution_count": 59,
   "id": "67054a4e",
   "metadata": {},
   "outputs": [
    {
     "name": "stdout",
     "output_type": "stream",
     "text": [
      "minimum value form the list is -2\n"
     ]
    }
   ],
   "source": [
    "l=[12,4,56,7,88,92,21,-2]\n",
    "print(\"minimum value form the list is\",min(l))"
   ]
  },
  {
   "cell_type": "markdown",
   "id": "73653ae8",
   "metadata": {},
   "source": [
    "#### 18. Create a list of squares of numbers from 1 to 10."
   ]
  },
  {
   "cell_type": "code",
   "execution_count": 60,
   "id": "0d760047",
   "metadata": {},
   "outputs": [
    {
     "data": {
      "text/plain": [
       "[1, 4, 9, 16, 25, 36, 49, 64, 81, 100]"
      ]
     },
     "execution_count": 60,
     "metadata": {},
     "output_type": "execute_result"
    }
   ],
   "source": [
    "[i**2 for i in range(1,11)]"
   ]
  },
  {
   "cell_type": "markdown",
   "id": "4cc439bf",
   "metadata": {},
   "source": [
    "#### 19. Create a list of random numbers."
   ]
  },
  {
   "cell_type": "code",
   "execution_count": 75,
   "id": "d24fe6e1",
   "metadata": {},
   "outputs": [
    {
     "name": "stdout",
     "output_type": "stream",
     "text": [
      "[35, 53, 44, 23, 26, 24, 60, 34, 36, 43]\n"
     ]
    }
   ],
   "source": [
    "import random\n",
    "l=[]\n",
    "for i in range(1,11):\n",
    "    l.append(random.randint(1,100))\n",
    "print(l)"
   ]
  },
  {
   "cell_type": "markdown",
   "id": "6d721bac",
   "metadata": {},
   "source": [
    "#### 20. Remove duplicates from a list."
   ]
  },
  {
   "cell_type": "code",
   "execution_count": 81,
   "id": "e287d5a3",
   "metadata": {},
   "outputs": [
    {
     "name": "stdout",
     "output_type": "stream",
     "text": [
      "after removing duplicates from the list then list is [2, 3, 4, 5, 6, 7, 8, 12, 53]\n"
     ]
    }
   ],
   "source": [
    "l=[12,2,3,4,5,6,7,8,6,6,53]\n",
    "s=set(l)\n",
    "res=list(s)\n",
    "print(\"after removing duplicates from the list then list is\",res)\n"
   ]
  },
  {
   "cell_type": "markdown",
   "id": "b966306f",
   "metadata": {},
   "source": [
    "#### 21. Find the common elements between two lists."
   ]
  },
  {
   "cell_type": "code",
   "execution_count": 85,
   "id": "8e681195",
   "metadata": {},
   "outputs": [
    {
     "name": "stdout",
     "output_type": "stream",
     "text": [
      "common elements are 12\n",
      "common elements are 34\n",
      "common elements are 5\n",
      "common elements are 6\n"
     ]
    }
   ],
   "source": [
    "l1=[12,34,5,6]\n",
    "l2=[2,3,4,5,6,34,12]\n",
    "for i in l1:\n",
    "    if(i in l2):\n",
    "        print(\"common elements are\",i)"
   ]
  },
  {
   "cell_type": "markdown",
   "id": "8b1ea0e8",
   "metadata": {},
   "source": [
    "#### 22. Find the difference between two lists."
   ]
  },
  {
   "cell_type": "code",
   "execution_count": 94,
   "id": "a084df5a",
   "metadata": {},
   "outputs": [
    {
     "data": {
      "text/plain": [
       "[-2, -7]"
      ]
     },
     "execution_count": 94,
     "metadata": {},
     "output_type": "execute_result"
    }
   ],
   "source": [
    "l1=[12,34,5,6,-2,-7]\n",
    "l2=[2,3,4,5,6,34,12]\n",
    "[i for i in l1 if i not in l2]"
   ]
  },
  {
   "cell_type": "markdown",
   "id": "39e04e6b",
   "metadata": {},
   "source": [
    "#### 23. Merge two lists."
   ]
  },
  {
   "cell_type": "code",
   "execution_count": 95,
   "id": "e9ccb646",
   "metadata": {},
   "outputs": [
    {
     "name": "stdout",
     "output_type": "stream",
     "text": [
      "after merging two lists [12, 34, 5, 6, -2, -7, 2, 3, 4, 5, 6, 34, 12]\n"
     ]
    }
   ],
   "source": [
    "l1=[12,34,5,6,-2,-7]\n",
    "l2=[2,3,4,5,6,34,12]\n",
    "print(\"after merging two lists\",l1+l2)"
   ]
  },
  {
   "cell_type": "markdown",
   "id": "2c26b492",
   "metadata": {},
   "source": [
    "#### 24. Multiply all elements in a list by 2."
   ]
  },
  {
   "cell_type": "code",
   "execution_count": 96,
   "id": "1c961b7e",
   "metadata": {},
   "outputs": [
    {
     "data": {
      "text/plain": [
       "[24, 6, 8, 10, 10, 12, 14]"
      ]
     },
     "execution_count": 96,
     "metadata": {},
     "output_type": "execute_result"
    }
   ],
   "source": [
    "l=[12,3,4,5,5,6,7]\n",
    "[i*2 for i in l]"
   ]
  },
  {
   "cell_type": "markdown",
   "id": "df0f0a94",
   "metadata": {},
   "source": [
    "#### 25. Filter out all even numbers from a list."
   ]
  },
  {
   "cell_type": "code",
   "execution_count": 97,
   "id": "61026e63",
   "metadata": {},
   "outputs": [
    {
     "data": {
      "text/plain": [
       "[12, 4, 6]"
      ]
     },
     "execution_count": 97,
     "metadata": {},
     "output_type": "execute_result"
    }
   ],
   "source": [
    "l=[12,3,4,5,5,6,7]\n",
    "[i for i in l if(i%2==0)]"
   ]
  },
  {
   "cell_type": "markdown",
   "id": "bac961e3",
   "metadata": {},
   "source": [
    "#### 26. Convert a list of strings to a list of integers."
   ]
  },
  {
   "cell_type": "code",
   "execution_count": 102,
   "id": "a890946e",
   "metadata": {},
   "outputs": [
    {
     "data": {
      "text/plain": [
       "[12, 34, 56, 78]"
      ]
     },
     "execution_count": 102,
     "metadata": {},
     "output_type": "execute_result"
    }
   ],
   "source": [
    "l=['12','34','56','78']\n",
    "[int(i) for i in l]\n"
   ]
  },
  {
   "cell_type": "markdown",
   "id": "53025d2e",
   "metadata": {},
   "source": [
    "#### 27. Convert a list of integers to a list of strings."
   ]
  },
  {
   "cell_type": "code",
   "execution_count": 101,
   "id": "76ef88f2",
   "metadata": {},
   "outputs": [
    {
     "name": "stdout",
     "output_type": "stream",
     "text": [
      "12 4 5 6 7 7 "
     ]
    }
   ],
   "source": [
    "l=[12,4,5,6,7,7]\n",
    "for i in l:\n",
    "    print(str(i),end=' ')"
   ]
  },
  {
   "cell_type": "markdown",
   "id": "24055284",
   "metadata": {},
   "source": [
    "#### 28. Flatten a nested list."
   ]
  },
  {
   "cell_type": "code",
   "execution_count": 105,
   "id": "190bc305",
   "metadata": {},
   "outputs": [
    {
     "data": {
      "text/plain": [
       "[1, 2, 3, 4, 5, 6, 7, 8, 9]"
      ]
     },
     "execution_count": 105,
     "metadata": {},
     "output_type": "execute_result"
    }
   ],
   "source": [
    "l=[[1,2,3],[4,5,6],[7,8,9]]\n",
    "[j for i in l for j in i]"
   ]
  },
  {
   "cell_type": "markdown",
   "id": "4a1b687d",
   "metadata": {},
   "source": [
    "#### 29. Create a list of the first 10 Fibonacci numbers."
   ]
  },
  {
   "cell_type": "code",
   "execution_count": 11,
   "id": "5a0f7a6c",
   "metadata": {},
   "outputs": [
    {
     "name": "stdout",
     "output_type": "stream",
     "text": [
      "0 1 1 2 3 5 8 13 21 34 "
     ]
    }
   ],
   "source": [
    "\n",
    "\n",
    "\n",
    "def printFibonacciNumbers(n):\n",
    "\n",
    "    f1 = 0\n",
    "    f2 = 1\n",
    "    if (n < 1):\n",
    "        return\n",
    "    print(f1, end=\" \")\n",
    "    for x in range(1, n):\n",
    "        print(f2, end=\" \")\n",
    "        next = f1 + f2\n",
    "        f1 = f2\n",
    "        f2 = next\n",
    "\n",
    "\n",
    "# Driven code\n",
    "printFibonacciNumbers(10)\n",
    "\n",
    "# This code is contributed by Danish Raza\n",
    "\n",
    "           \n",
    "        "
   ]
  },
  {
   "cell_type": "markdown",
   "id": "65933983",
   "metadata": {},
   "source": [
    "####  30. Check if a list is sorted."
   ]
  },
  {
   "cell_type": "code",
   "execution_count": 15,
   "id": "2fd74c4a",
   "metadata": {},
   "outputs": [
    {
     "name": "stdout",
     "output_type": "stream",
     "text": [
      "list is not sorted\n"
     ]
    }
   ],
   "source": [
    "f=True\n",
    "f=False\n",
    "l=[1,4,5,6,7,0]\n",
    "for i in range(len(l)-1):\n",
    "    if(l[i]<l[i+1]):\n",
    "        f=True\n",
    "    else:\n",
    "        f=False\n",
    "        break\n",
    "if(f==True):\n",
    "    print(\"list is sorted\")\n",
    "else:\n",
    "    print(\"list is not sorted\")"
   ]
  },
  {
   "cell_type": "markdown",
   "id": "9123191c",
   "metadata": {},
   "source": [
    "#### 31. Rotate a list to the left by `n` positions."
   ]
  },
  {
   "cell_type": "code",
   "execution_count": 29,
   "id": "95758b3e",
   "metadata": {},
   "outputs": [
    {
     "name": "stdout",
     "output_type": "stream",
     "text": [
      "[6, 9, 12, 3, 4, 5]\n"
     ]
    }
   ],
   "source": [
    "l=[12,3,4,5,6,9]\n",
    "for i in range(len(l)):\n",
    "    if(len(l)%2==0):\n",
    "        for j in range(3,len(l)):\n",
    "            l[i],l[j]=l[j],l[i]\n",
    "        for k in range(0,3):\n",
    "            l[i],l[k]=l[k],l[i]\n",
    "            \n",
    "        \n",
    "print(l)"
   ]
  },
  {
   "cell_type": "markdown",
   "id": "ee809094",
   "metadata": {},
   "source": [
    "#### 32. Rotate a list to the right by `n` positions."
   ]
  },
  {
   "cell_type": "code",
   "execution_count": 36,
   "id": "76aeb2e4",
   "metadata": {},
   "outputs": [
    {
     "name": "stdout",
     "output_type": "stream",
     "text": [
      "[5, 6, 7, 1, 4]\n"
     ]
    }
   ],
   "source": [
    "l=[1,4,5,6,7]\n",
    "l=l[-3:]+l[:-3]\n",
    "print(l)"
   ]
  },
  {
   "cell_type": "markdown",
   "id": "eef55e20",
   "metadata": {},
   "source": [
    "#### 33. Create a list of prime numbers up to 50."
   ]
  },
  {
   "cell_type": "code",
   "execution_count": 50,
   "id": "cb69a927",
   "metadata": {},
   "outputs": [],
   "source": [
    "def prime(x, y):\n",
    "    prime_list = []\n",
    "    for i in range(x, y):\n",
    "        if i == 0 or i == 1:\n",
    "            continue\n",
    "        else:\n",
    "            for j in range(2, int(i/2)+1):\n",
    "                if i % j == 0:\n",
    "                    break\n",
    "            else:\n",
    "                prime_list.append(i)\n",
    "    return prime_list"
   ]
  },
  {
   "cell_type": "code",
   "execution_count": 51,
   "id": "1228290a",
   "metadata": {},
   "outputs": [
    {
     "data": {
      "text/plain": [
       "[2, 3, 5, 7, 11, 13, 17, 19, 23, 29, 31, 37, 41, 43, 47]"
      ]
     },
     "execution_count": 51,
     "metadata": {},
     "output_type": "execute_result"
    }
   ],
   "source": [
    "prime(2,50)"
   ]
  },
  {
   "cell_type": "markdown",
   "id": "3381d31a",
   "metadata": {},
   "source": [
    "#### 34. Split a list into chunks of size `n`."
   ]
  },
  {
   "cell_type": "code",
   "execution_count": 54,
   "id": "200faeb1",
   "metadata": {},
   "outputs": [
    {
     "name": "stdout",
     "output_type": "stream",
     "text": [
      "['pw', 'skills', 'data']\n",
      "['science', 'masters', 'pro']\n",
      "['batch', 'by', 'pwskills']\n"
     ]
    }
   ],
   "source": [
    "l=['pw','skills','data','science','masters','pro','batch','by','pwskills']\n",
    "n=3\n",
    "for i in range(0,len(l),n):\n",
    "    print(l[i:i+n])"
   ]
  },
  {
   "cell_type": "markdown",
   "id": "4a3bc5aa",
   "metadata": {},
   "source": [
    "#### 35. Find the second largest number in a list."
   ]
  },
  {
   "cell_type": "code",
   "execution_count": 57,
   "id": "c0c1f6ce",
   "metadata": {},
   "outputs": [
    {
     "name": "stdout",
     "output_type": "stream",
     "text": [
      "second largest element in the list is  34\n"
     ]
    }
   ],
   "source": [
    "l=[12,3,4,5,6,7,34,42]\n",
    "l.sort()\n",
    "print(\"second largest element in the list is \",l[-2])"
   ]
  },
  {
   "cell_type": "markdown",
   "id": "155050d3",
   "metadata": {},
   "source": [
    "#### 36. Replace every element in a list with its square."
   ]
  },
  {
   "cell_type": "code",
   "execution_count": 39,
   "id": "cd660c25",
   "metadata": {},
   "outputs": [
    {
     "name": "stdout",
     "output_type": "stream",
     "text": [
      "[1, 4, 9, 16, 25, 36]\n"
     ]
    }
   ],
   "source": [
    "a=[1,2,3,4,5,6]\n",
    "l=map(lambda x:x**2,a)\n",
    "print(list(l))"
   ]
  },
  {
   "cell_type": "markdown",
   "id": "b37437af",
   "metadata": {},
   "source": [
    "#### 37. Convert a list to a dictionary where list elements become keys and their indices become values."
   ]
  },
  {
   "cell_type": "code",
   "execution_count": 75,
   "id": "04683667",
   "metadata": {},
   "outputs": [
    {
     "data": {
      "text/plain": [
       "{0: 12, 1: 3, 2: 4, 3: 5, 4: 6}"
      ]
     },
     "execution_count": 75,
     "metadata": {},
     "output_type": "execute_result"
    }
   ],
   "source": [
    "l=[12,3,4,5,6]\n",
    "{i:j for i,j in enumerate(l)}"
   ]
  },
  {
   "cell_type": "markdown",
   "id": "d8f93ad1",
   "metadata": {},
   "source": [
    "#### 38. Shuffle the elements of the list randomly"
   ]
  },
  {
   "cell_type": "code",
   "execution_count": 88,
   "id": "1bf9a547",
   "metadata": {},
   "outputs": [
    {
     "name": "stdout",
     "output_type": "stream",
     "text": [
      "[9, 78, 12, 4, 56]\n"
     ]
    }
   ],
   "source": [
    "import random\n",
    "l=[12,4,56,78,9]\n",
    "random.shuffle(l)\n",
    "print(l)"
   ]
  },
  {
   "cell_type": "markdown",
   "id": "42b6a293",
   "metadata": {},
   "source": [
    "#### 39. Create a list of the first 10 factorial numbers."
   ]
  },
  {
   "cell_type": "code",
   "execution_count": 93,
   "id": "d1876776",
   "metadata": {},
   "outputs": [],
   "source": [
    "def fact(n):\n",
    "    if(n<=1):\n",
    "        return n\n",
    "    else:\n",
    "        return n*fact(n-1)\n"
   ]
  },
  {
   "cell_type": "code",
   "execution_count": 95,
   "id": "ea42ce30",
   "metadata": {},
   "outputs": [
    {
     "data": {
      "text/plain": [
       "[1, 2, 6, 24, 120, 720, 5040, 40320, 362880, 3628800]"
      ]
     },
     "execution_count": 95,
     "metadata": {},
     "output_type": "execute_result"
    }
   ],
   "source": [
    "list(map(fact,range(1,11)))"
   ]
  },
  {
   "cell_type": "markdown",
   "id": "89b48cde",
   "metadata": {},
   "source": [
    "#### 40. Check if two lists have at least one element in common."
   ]
  },
  {
   "cell_type": "code",
   "execution_count": 101,
   "id": "3cf74a58",
   "metadata": {},
   "outputs": [
    {
     "data": {
      "text/plain": [
       "[False, True, True, False]"
      ]
     },
     "execution_count": 101,
     "metadata": {},
     "output_type": "execute_result"
    }
   ],
   "source": [
    "l1=[12,3,4,5]\n",
    "l2=[2,3,4,1,3]\n",
    "[(True) if i in l2 else False  for i in l1]"
   ]
  },
  {
   "cell_type": "markdown",
   "id": "0e549e57",
   "metadata": {},
   "source": [
    "#### 41. Remove all elements from a list."
   ]
  },
  {
   "cell_type": "code",
   "execution_count": 103,
   "id": "300c48df",
   "metadata": {},
   "outputs": [
    {
     "name": "stdout",
     "output_type": "stream",
     "text": [
      "[]\n"
     ]
    }
   ],
   "source": [
    "l=[12,3,4,5]\n",
    "l.clear()\n",
    "print(l)"
   ]
  },
  {
   "cell_type": "markdown",
   "id": "6a6e42a8",
   "metadata": {},
   "source": [
    "#### 42. Replace negative numbers in a list with 0."
   ]
  },
  {
   "cell_type": "code",
   "execution_count": 106,
   "id": "da1344ad",
   "metadata": {},
   "outputs": [
    {
     "data": {
      "text/plain": [
       "[1, 2, 3, 0, 5, 0, 0]"
      ]
     },
     "execution_count": 106,
     "metadata": {},
     "output_type": "execute_result"
    }
   ],
   "source": [
    "l=[1,2,3,-4,5,-6,-78]\n",
    "[0 if i<0 else i for i in l] "
   ]
  },
  {
   "cell_type": "markdown",
   "id": "19117e98",
   "metadata": {},
   "source": [
    "#### 43. Convert a string into a list of words."
   ]
  },
  {
   "cell_type": "code",
   "execution_count": 107,
   "id": "93c4f3fc",
   "metadata": {},
   "outputs": [
    {
     "data": {
      "text/plain": [
       "['pwskills', 'data', 'science']"
      ]
     },
     "execution_count": 107,
     "metadata": {},
     "output_type": "execute_result"
    }
   ],
   "source": [
    "l=\"pwskills data science\"\n",
    "l.split(' ')"
   ]
  },
  {
   "cell_type": "markdown",
   "id": "3bbfaea6",
   "metadata": {},
   "source": [
    "#### 44. Convert a list of words into a string."
   ]
  },
  {
   "cell_type": "code",
   "execution_count": 108,
   "id": "fbd62489",
   "metadata": {},
   "outputs": [
    {
     "data": {
      "text/plain": [
       "'pwskills data science'"
      ]
     },
     "execution_count": 108,
     "metadata": {},
     "output_type": "execute_result"
    }
   ],
   "source": [
    "l=['pwskills', 'data', 'science']\n",
    "s=' '\n",
    "s.join(l)"
   ]
  },
  {
   "cell_type": "markdown",
   "id": "f645c73a",
   "metadata": {},
   "source": [
    "#### 45. Create a list of the first `n` powers of 2."
   ]
  },
  {
   "cell_type": "code",
   "execution_count": 112,
   "id": "0ad87e0b",
   "metadata": {},
   "outputs": [
    {
     "name": "stdout",
     "output_type": "stream",
     "text": [
      "4\n",
      "8\n",
      "16\n",
      "32\n",
      "64\n",
      "128\n",
      "256\n",
      "512\n"
     ]
    }
   ],
   "source": [
    "for i in range(2,10):\n",
    "    print(pow(2,i))"
   ]
  },
  {
   "cell_type": "markdown",
   "id": "4eed3fe2",
   "metadata": {},
   "source": [
    "#### 46. Find the longest string in a list of strings."
   ]
  },
  {
   "cell_type": "code",
   "execution_count": 150,
   "id": "d93cf35c",
   "metadata": {},
   "outputs": [
    {
     "name": "stdout",
     "output_type": "stream",
     "text": [
      "datasciencemastes\n"
     ]
    }
   ],
   "source": [
    "from functools import reduce\n",
    "l=['pwskills', 'datasciencemastes', 'science']\n",
    "max1=\"\"\n",
    "for i in l:\n",
    "    if(len(i)>len(max1)):\n",
    "        max1=i\n",
    "print(max1)\n",
    "    "
   ]
  },
  {
   "cell_type": "markdown",
   "id": "fee4fa01",
   "metadata": {},
   "source": [
    "#### 47. Find the shortest string in a list of strings."
   ]
  },
  {
   "cell_type": "code",
   "execution_count": 158,
   "id": "d3d0d651",
   "metadata": {},
   "outputs": [
    {
     "name": "stdout",
     "output_type": "stream",
     "text": [
      "data\n"
     ]
    }
   ],
   "source": [
    "l=['pwskills', 'datasciencemastes', 'data']\n",
    "short=l[0]\n",
    "for i in l:\n",
    "    if(len(i)<len(short)):\n",
    "        short=i\n",
    "print(short)"
   ]
  },
  {
   "cell_type": "markdown",
   "id": "0099a1ec",
   "metadata": {},
   "source": [
    "#### 48. Create a list of the first `n` triangular numbers."
   ]
  },
  {
   "cell_type": "code",
   "execution_count": 156,
   "id": "66fb93c9",
   "metadata": {},
   "outputs": [
    {
     "name": "stdout",
     "output_type": "stream",
     "text": [
      "List of the first 5 triangular numbers: [1, 3, 6, 10, 15]\n"
     ]
    }
   ],
   "source": [
    "def traingle(n):\n",
    "    return [i * (i + 1) // 2 for i in range(1, n + 1)]\n",
    "n = 5\n",
    "traingles = traingle(n)\n",
    "print(\"List of the first\", n, \"triangular numbers:\", traingles)"
   ]
  },
  {
   "cell_type": "markdown",
   "id": "98709233",
   "metadata": {},
   "source": [
    "#### 49. Check if a list contains another list as a subsequence."
   ]
  },
  {
   "cell_type": "code",
   "execution_count": 161,
   "id": "f0d16cb9",
   "metadata": {},
   "outputs": [
    {
     "name": "stdout",
     "output_type": "stream",
     "text": [
      "Original list : [9, 4, 5, 8, 10]\n",
      "Original sub list : [10, 5, 4]\n",
      "Yes\n"
     ]
    }
   ],
   "source": [
    "\n",
    "test_list = [9, 4, 5, 8, 10]\n",
    "sub_list = [10, 5, 4]\n",
    "\n",
    "print(\"Original list : \" + str(test_list))\n",
    "print(\"Original sub list : \" + str(sub_list))\n",
    "\n",
    "\n",
    "flag = 0\n",
    "if(all(x in test_list for x in sub_list)):\n",
    "    flag = 1\n",
    "\n",
    "if (flag):\n",
    "    print(\"Yes\")\n",
    "else:\n",
    "    print(\"No\")\n"
   ]
  },
  {
   "cell_type": "markdown",
   "id": "5c807383",
   "metadata": {},
   "source": [
    "#### 50. Swap two elements in a list by their indices."
   ]
  },
  {
   "cell_type": "code",
   "execution_count": 154,
   "id": "3d3fc0d2",
   "metadata": {},
   "outputs": [
    {
     "name": "stdout",
     "output_type": "stream",
     "text": [
      "enter first index0\n",
      "enter second index1\n",
      "[2, 1, 3, 4]\n"
     ]
    }
   ],
   "source": [
    "l=[1,2,3,4]\n",
    "index1=int(input(\"enter first index\"))\n",
    "index2=int(input(\"enter second index\"))\n",
    "temp = l[index1]\n",
    "l[index1] = l[index2]\n",
    "l[index2] = temp\n",
    "print(l)\n"
   ]
  },
  {
   "cell_type": "code",
   "execution_count": null,
   "id": "a6acd91b",
   "metadata": {},
   "outputs": [],
   "source": []
  }
 ],
 "metadata": {
  "kernelspec": {
   "display_name": "Python 3 (ipykernel)",
   "language": "python",
   "name": "python3"
  },
  "language_info": {
   "codemirror_mode": {
    "name": "ipython",
    "version": 3
   },
   "file_extension": ".py",
   "mimetype": "text/x-python",
   "name": "python",
   "nbconvert_exporter": "python",
   "pygments_lexer": "ipython3",
   "version": "3.10.9"
  }
 },
 "nbformat": 4,
 "nbformat_minor": 5
}
