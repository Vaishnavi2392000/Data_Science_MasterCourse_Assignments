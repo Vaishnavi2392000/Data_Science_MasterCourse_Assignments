{
 "cells": [
  {
   "cell_type": "markdown",
   "id": "9b71636f",
   "metadata": {},
   "source": [
    "## Tuple based Problems"
   ]
  },
  {
   "cell_type": "markdown",
   "id": "bf7ddc6a",
   "metadata": {},
   "source": [
    "#### 1. Create a tuple with integers from 1 to 5."
   ]
  },
  {
   "cell_type": "code",
   "execution_count": 15,
   "id": "39141bad",
   "metadata": {},
   "outputs": [
    {
     "data": {
      "text/plain": [
       "(1, 2, 3, 4, 5)"
      ]
     },
     "execution_count": 15,
     "metadata": {},
     "output_type": "execute_result"
    }
   ],
   "source": [
    "l=[i for i in range(1,6)]\n",
    "tuple(l)"
   ]
  },
  {
   "cell_type": "markdown",
   "id": "70c6d038",
   "metadata": {},
   "source": [
    "#### 2. Access the third element of a tuple."
   ]
  },
  {
   "cell_type": "code",
   "execution_count": 16,
   "id": "756d2ac8",
   "metadata": {},
   "outputs": [
    {
     "name": "stdout",
     "output_type": "stream",
     "text": [
      "third element of the tuple is 3\n"
     ]
    }
   ],
   "source": [
    "t=(1,2,3,4,5)\n",
    "print(\"third element of the tuple is\",t[2])"
   ]
  },
  {
   "cell_type": "markdown",
   "id": "7712b792",
   "metadata": {},
   "source": [
    "#### 3. Find the length of a tuple without using the `len()` function."
   ]
  },
  {
   "cell_type": "code",
   "execution_count": 20,
   "id": "c5df2f10",
   "metadata": {},
   "outputs": [],
   "source": [
    "t=(12,34,5,6,321)\n",
    "l=list(t)\n",
    "def fun(l):\n",
    "    c=0\n",
    "    for i in l:\n",
    "        c+=1\n",
    "    print(\"the length of the tuple is\",c)\n",
    "\n"
   ]
  },
  {
   "cell_type": "code",
   "execution_count": 21,
   "id": "8d71c027",
   "metadata": {},
   "outputs": [
    {
     "name": "stdout",
     "output_type": "stream",
     "text": [
      "the length of the tuple is 5\n"
     ]
    }
   ],
   "source": [
    "fun(l)"
   ]
  },
  {
   "cell_type": "markdown",
   "id": "c57ac326",
   "metadata": {},
   "source": [
    "#### 4. Count the occurrences of an element in a tuple."
   ]
  },
  {
   "cell_type": "code",
   "execution_count": 25,
   "id": "d9d3b36d",
   "metadata": {},
   "outputs": [
    {
     "name": "stdout",
     "output_type": "stream",
     "text": [
      "1\n"
     ]
    }
   ],
   "source": [
    "t=(12,34,56,78,34)\n",
    "ele=78\n",
    "c=0\n",
    "for i in t:\n",
    "    if(i==ele):\n",
    "        c+=1\n",
    "print(c)"
   ]
  },
  {
   "cell_type": "markdown",
   "id": "d2e4fd6c",
   "metadata": {},
   "source": [
    "#### 5. Find the index of the first occurrence of an element in a tuple."
   ]
  },
  {
   "cell_type": "code",
   "execution_count": 28,
   "id": "2946e9fc",
   "metadata": {},
   "outputs": [
    {
     "name": "stdout",
     "output_type": "stream",
     "text": [
      "the occurance of the element 12 in the list is 2\n"
     ]
    }
   ],
   "source": [
    "t=(12,34,5,6,45,34)\n",
    "l=list(t)\n",
    "print(\"the occurance of the element 12 in the list is\",l.index(5))\n",
    "\n",
    "\n"
   ]
  },
  {
   "cell_type": "markdown",
   "id": "3051c4c8",
   "metadata": {},
   "source": [
    "#### 6. Check if an element exists in a tuple."
   ]
  },
  {
   "cell_type": "code",
   "execution_count": 32,
   "id": "31a594e3",
   "metadata": {},
   "outputs": [
    {
     "name": "stdout",
     "output_type": "stream",
     "text": [
      "sorry element does not exist\n"
     ]
    }
   ],
   "source": [
    "t=(12,45,67,89,21,2)\n",
    "ele=210\n",
    "if(ele in t):\n",
    "    print(\"element exist\")\n",
    "else:\n",
    "    print(\"sorry element does not exist\")\n"
   ]
  },
  {
   "cell_type": "markdown",
   "id": "a6e3ff1c",
   "metadata": {},
   "source": [
    "#### 7. Convert a tuple to a list."
   ]
  },
  {
   "cell_type": "code",
   "execution_count": 33,
   "id": "0ca673b9",
   "metadata": {},
   "outputs": [
    {
     "name": "stdout",
     "output_type": "stream",
     "text": [
      "the list after converting tuple into list is  ['pw', 'skills', 'data', 'science']\n"
     ]
    }
   ],
   "source": [
    "t=(\"pw\",\"skills\",'data','science')\n",
    "print(\"the list after converting tuple into list is \",list(t))"
   ]
  },
  {
   "cell_type": "markdown",
   "id": "f6fc49a2",
   "metadata": {},
   "source": [
    "#### 8. Convert a list to a tuple."
   ]
  },
  {
   "cell_type": "code",
   "execution_count": 36,
   "id": "f87de1d0",
   "metadata": {},
   "outputs": [
    {
     "name": "stdout",
     "output_type": "stream",
     "text": [
      "the tuple after converting list into tuple is  ('pw', 'skills', 'data', 'science')\n"
     ]
    }
   ],
   "source": [
    "t=[\"pw\",\"skills\",'data','science']\n",
    "print(\"the tuple after converting list into tuple is \",tuple(t))"
   ]
  },
  {
   "cell_type": "markdown",
   "id": "8a14cd70",
   "metadata": {},
   "source": [
    "#### 9. Unpack the elements of a tuple into variables."
   ]
  },
  {
   "cell_type": "code",
   "execution_count": 41,
   "id": "387d8edd",
   "metadata": {},
   "outputs": [
    {
     "name": "stdout",
     "output_type": "stream",
     "text": [
      "1\n",
      "2\n",
      "3\n",
      "4\n"
     ]
    }
   ],
   "source": [
    "a,b,c,d=(1,2,3,4)\n",
    "print(a)\n",
    "print(b)\n",
    "print(c)\n",
    "print(d)"
   ]
  },
  {
   "cell_type": "markdown",
   "id": "28d80483",
   "metadata": {},
   "source": [
    "#### 10. Create a tuple of even numbers from 1 to 10."
   ]
  },
  {
   "cell_type": "code",
   "execution_count": 43,
   "id": "2e2a62c5",
   "metadata": {},
   "outputs": [
    {
     "name": "stdout",
     "output_type": "stream",
     "text": [
      "(2, 4, 6, 8, 10)\n"
     ]
    }
   ],
   "source": [
    "l=[i for i in range(1,11) if(i%2==0)]\n",
    "print(tuple(l))"
   ]
  },
  {
   "cell_type": "markdown",
   "id": "81199680",
   "metadata": {},
   "source": [
    "#### 11. Create a tuple of odd numbers from 1 to 10."
   ]
  },
  {
   "cell_type": "code",
   "execution_count": 44,
   "id": "8495bd92",
   "metadata": {},
   "outputs": [
    {
     "name": "stdout",
     "output_type": "stream",
     "text": [
      "(1, 3, 5, 7, 9)\n"
     ]
    }
   ],
   "source": [
    "l=[i for i in range(1,11) if(i%2!=0)]\n",
    "print(tuple(l))"
   ]
  },
  {
   "cell_type": "markdown",
   "id": "e06b94ff",
   "metadata": {},
   "source": [
    "#### 12. Concatenate two tuples."
   ]
  },
  {
   "cell_type": "code",
   "execution_count": 46,
   "id": "99cd1851",
   "metadata": {},
   "outputs": [
    {
     "name": "stdout",
     "output_type": "stream",
     "text": [
      "(1, 2, 3, 4, 5, 6, 7, 8)\n"
     ]
    }
   ],
   "source": [
    "t1=(1,2,3,4)\n",
    "t2=(5,6,7,8)\n",
    "print(t1+t2)"
   ]
  },
  {
   "cell_type": "markdown",
   "id": "395ba0ba",
   "metadata": {},
   "source": [
    "#### 13. Repeat a tuple three times."
   ]
  },
  {
   "cell_type": "code",
   "execution_count": 47,
   "id": "c3386eff",
   "metadata": {},
   "outputs": [
    {
     "name": "stdout",
     "output_type": "stream",
     "text": [
      "(1, 2, 3, 4, 1, 2, 3, 4, 1, 2, 3, 4)\n"
     ]
    }
   ],
   "source": [
    "t=(1,2,3,4)\n",
    "print(t*3)"
   ]
  },
  {
   "cell_type": "markdown",
   "id": "b23f595c",
   "metadata": {},
   "source": [
    "#### 14. Check if a tuple is empty."
   ]
  },
  {
   "cell_type": "code",
   "execution_count": 50,
   "id": "c5f42ab5",
   "metadata": {},
   "outputs": [
    {
     "name": "stdout",
     "output_type": "stream",
     "text": [
      "it is empty\n"
     ]
    }
   ],
   "source": [
    "t=()\n",
    "l=list(t)\n",
    "if(len(l)==0):\n",
    "    print(\"it is empty\")\n",
    "else:\n",
    "    print(\"elements exists in the tuplw\")"
   ]
  },
  {
   "cell_type": "markdown",
   "id": "c1eb2014",
   "metadata": {},
   "source": [
    "#### 16. Access the first element of a nested tuple."
   ]
  },
  {
   "cell_type": "code",
   "execution_count": 52,
   "id": "1e0dc756",
   "metadata": {},
   "outputs": [
    {
     "name": "stdout",
     "output_type": "stream",
     "text": [
      "first element in the tuple is 12\n"
     ]
    }
   ],
   "source": [
    "t=((12,3,4,2),(45,67,892),(4,5,6,1))\n",
    "print(\"first element in the tuple is\",t[0][0])"
   ]
  },
  {
   "cell_type": "markdown",
   "id": "694aef14",
   "metadata": {},
   "source": [
    "#### 17. Create a tuple with a single element."
   ]
  },
  {
   "cell_type": "code",
   "execution_count": 53,
   "id": "997933ed",
   "metadata": {},
   "outputs": [
    {
     "name": "stdout",
     "output_type": "stream",
     "text": [
      "1\n"
     ]
    }
   ],
   "source": [
    "t=(1)\n",
    "print(t)"
   ]
  },
  {
   "cell_type": "markdown",
   "id": "769b422d",
   "metadata": {},
   "source": [
    "#### 18. Compare two tuples."
   ]
  },
  {
   "cell_type": "code",
   "execution_count": 55,
   "id": "66014c4e",
   "metadata": {},
   "outputs": [
    {
     "name": "stdout",
     "output_type": "stream",
     "text": [
      "smaller\n"
     ]
    }
   ],
   "source": [
    "t1=(12,3,21)\n",
    "t2=(23,3,21)\n",
    "if(t1==t2):\n",
    "    print(\"same\")\n",
    "elif(t1>t2):\n",
    "    print(\"greator\")\n",
    "else:\n",
    "    print(\"smaller\")"
   ]
  },
  {
   "cell_type": "markdown",
   "id": "c0ddc565",
   "metadata": {},
   "source": [
    "#### 19. Delete a tuple."
   ]
  },
  {
   "cell_type": "code",
   "execution_count": 166,
   "id": "8221fd09",
   "metadata": {},
   "outputs": [
    {
     "ename": "NameError",
     "evalue": "name 't' is not defined",
     "output_type": "error",
     "traceback": [
      "\u001b[1;31m---------------------------------------------------------------------------\u001b[0m",
      "\u001b[1;31mNameError\u001b[0m                                 Traceback (most recent call last)",
      "Cell \u001b[1;32mIn[166], line 3\u001b[0m\n\u001b[0;32m      1\u001b[0m t\u001b[38;5;241m=\u001b[39m(\u001b[38;5;241m12\u001b[39m,\u001b[38;5;241m34\u001b[39m,\u001b[38;5;241m56\u001b[39m,\u001b[38;5;241m7\u001b[39m)\n\u001b[0;32m      2\u001b[0m \u001b[38;5;28;01mdel\u001b[39;00m(t)\n\u001b[1;32m----> 3\u001b[0m \u001b[38;5;28mprint\u001b[39m(\u001b[43mt\u001b[49m)\n",
      "\u001b[1;31mNameError\u001b[0m: name 't' is not defined"
     ]
    }
   ],
   "source": [
    "t=(12,34,56,7)\n",
    "del(t)\n",
    "print(t)"
   ]
  },
  {
   "cell_type": "markdown",
   "id": "006ed06c",
   "metadata": {},
   "source": [
    "#### 20. Slice a tuple."
   ]
  },
  {
   "cell_type": "code",
   "execution_count": 61,
   "id": "abcc7df7",
   "metadata": {},
   "outputs": [
    {
     "name": "stdout",
     "output_type": "stream",
     "text": [
      "[12, 3, 56, 78]\n",
      "[3]\n"
     ]
    }
   ],
   "source": [
    "t=[12,3,56,78,3]\n",
    "n=3\n",
    "print(t[0:n+1])\n",
    "print(t[n+1:])"
   ]
  },
  {
   "cell_type": "markdown",
   "id": "f39e47c4",
   "metadata": {},
   "source": [
    "#### 21. Find the maximum value in a tuple."
   ]
  },
  {
   "cell_type": "code",
   "execution_count": 62,
   "id": "0c52332c",
   "metadata": {},
   "outputs": [
    {
     "name": "stdout",
     "output_type": "stream",
     "text": [
      "90\n"
     ]
    }
   ],
   "source": [
    "t=(12,4,5,6,7,8,90)\n",
    "l=list(t)\n",
    "print(max(l))"
   ]
  },
  {
   "cell_type": "markdown",
   "id": "e6393173",
   "metadata": {},
   "source": [
    "#### 22. Find the minimum value in a tuple."
   ]
  },
  {
   "cell_type": "code",
   "execution_count": 63,
   "id": "4c19650d",
   "metadata": {},
   "outputs": [
    {
     "name": "stdout",
     "output_type": "stream",
     "text": [
      "4\n"
     ]
    }
   ],
   "source": [
    "t=(12,4,5,6,7,8,90)\n",
    "l=list(t)\n",
    "print(min(l))"
   ]
  },
  {
   "cell_type": "markdown",
   "id": "0b183225",
   "metadata": {},
   "source": [
    "#### 23. Convert a string to a tuple of characters."
   ]
  },
  {
   "cell_type": "code",
   "execution_count": 65,
   "id": "e06e1ff4",
   "metadata": {},
   "outputs": [
    {
     "name": "stdout",
     "output_type": "stream",
     "text": [
      "('pwskills', 'data', 'science')\n"
     ]
    }
   ],
   "source": [
    "s=\"pwskills data science\"\n",
    "print(tuple(s.split(' ')))"
   ]
  },
  {
   "cell_type": "markdown",
   "id": "d7da0fda",
   "metadata": {},
   "source": [
    "#### 24. Convert a tuple of characters to a string."
   ]
  },
  {
   "cell_type": "code",
   "execution_count": 69,
   "id": "118e254a",
   "metadata": {},
   "outputs": [
    {
     "name": "stdout",
     "output_type": "stream",
     "text": [
      "pwskills data science\n"
     ]
    }
   ],
   "source": [
    "t=('pwskills', 'data', 'science')\n",
    "s=' '\n",
    "print(s.join(t))\n",
    "   "
   ]
  },
  {
   "cell_type": "markdown",
   "id": "70946b2c",
   "metadata": {},
   "source": [
    "#### 25. Create a tuple from multiple data types."
   ]
  },
  {
   "cell_type": "code",
   "execution_count": 70,
   "id": "74d98bff",
   "metadata": {},
   "outputs": [
    {
     "name": "stdout",
     "output_type": "stream",
     "text": [
      "(12, (12+4j), 'pwskills', [12, 4, 5], True)\n"
     ]
    }
   ],
   "source": [
    "t=(12,12+4j,\"pwskills\",[12,4,5],True)\n",
    "print(t)"
   ]
  },
  {
   "cell_type": "markdown",
   "id": "21d9dfe5",
   "metadata": {},
   "source": [
    "#### 26. Check if two tuples are identical."
   ]
  },
  {
   "cell_type": "code",
   "execution_count": 71,
   "id": "44484265",
   "metadata": {},
   "outputs": [
    {
     "name": "stdout",
     "output_type": "stream",
     "text": [
      "identical\n"
     ]
    }
   ],
   "source": [
    "t1=(1,2,3)\n",
    "t2=(1,2,3)\n",
    "if(t1==t2):\n",
    "    print(\"identical\")\n",
    "else:\n",
    "    print(\"missmatched\")"
   ]
  },
  {
   "cell_type": "markdown",
   "id": "9c174828",
   "metadata": {},
   "source": [
    "#### 27. Sort the elements of a tuple."
   ]
  },
  {
   "cell_type": "code",
   "execution_count": 76,
   "id": "7fabdb76",
   "metadata": {},
   "outputs": [
    {
     "name": "stdout",
     "output_type": "stream",
     "text": [
      "(4, 12, 45, 67)\n"
     ]
    }
   ],
   "source": [
    "t=(12,45,67,4)\n",
    "l=list(t)\n",
    "l.sort()\n",
    "print(tuple(l))"
   ]
  },
  {
   "cell_type": "markdown",
   "id": "d07680b7",
   "metadata": {},
   "source": [
    "#### 28. Convert a tuple of integers to a tuple of strings."
   ]
  },
  {
   "cell_type": "code",
   "execution_count": 81,
   "id": "45de2962",
   "metadata": {},
   "outputs": [
    {
     "name": "stdout",
     "output_type": "stream",
     "text": [
      "('12', '3', '4', '5', '6')\n"
     ]
    }
   ],
   "source": [
    "t=(12,3,4,5,6)\n",
    "l=[]\n",
    "for i in t:\n",
    "    l.append((str(i)))\n",
    "print(tuple(l))"
   ]
  },
  {
   "cell_type": "markdown",
   "id": "33d488e8",
   "metadata": {},
   "source": [
    "#### 29. Convert a tuple of strings to a tuple of integers."
   ]
  },
  {
   "cell_type": "code",
   "execution_count": 83,
   "id": "6e866960",
   "metadata": {},
   "outputs": [
    {
     "name": "stdout",
     "output_type": "stream",
     "text": [
      "(12, 3, 4, 5, 6)\n"
     ]
    }
   ],
   "source": [
    "t=('12', '3', '4', '5', '6')\n",
    "l=[]\n",
    "for i in t:\n",
    "    l.append(int(i))\n",
    "print(tuple(l))"
   ]
  },
  {
   "cell_type": "markdown",
   "id": "7121d5f8",
   "metadata": {},
   "source": [
    "#### 30. Merge two tuples."
   ]
  },
  {
   "cell_type": "code",
   "execution_count": 84,
   "id": "34ae9873",
   "metadata": {},
   "outputs": [
    {
     "name": "stdout",
     "output_type": "stream",
     "text": [
      "(1, 2, 3, 4, 5, 6, 7, 8)\n"
     ]
    }
   ],
   "source": [
    "t1=(1,2,3,4)\n",
    "t2=(5,6,7,8)\n",
    "print(t1+t2)"
   ]
  },
  {
   "cell_type": "markdown",
   "id": "9166a58d",
   "metadata": {},
   "source": [
    "####  31. Flatten a nested tuple."
   ]
  },
  {
   "cell_type": "code",
   "execution_count": 107,
   "id": "8a6eb2fd",
   "metadata": {},
   "outputs": [
    {
     "name": "stdout",
     "output_type": "stream",
     "text": [
      "1 2 3 4 6 7 8 9 "
     ]
    }
   ],
   "source": [
    "t=((1,2,3,4),(6,7,8,9))\n",
    "l=list(t)\n",
    "for i in l:\n",
    "    for j in i:\n",
    "        print(j,end=' ')\n",
    "\n",
    "#[j for j in i  for i in l]"
   ]
  },
  {
   "cell_type": "markdown",
   "id": "18e67dd1",
   "metadata": {},
   "source": [
    "#### 32. Create a tuple of the first 5 prime numbers."
   ]
  },
  {
   "cell_type": "code",
   "execution_count": 138,
   "id": "e18aa436",
   "metadata": {},
   "outputs": [],
   "source": [
    "def prime(x, y):\n",
    "    prime_list = []\n",
    "    for i in range(x, y):\n",
    "        if i == 0 or i == 1:\n",
    "            continue\n",
    "        else:\n",
    "            for j in range(2, int(i/2)+1):\n",
    "                if i % j == 0:\n",
    "                    break\n",
    "            else:\n",
    "                prime_list.append(i)\n",
    "    return prime_list"
   ]
  },
  {
   "cell_type": "code",
   "execution_count": 139,
   "id": "785addda",
   "metadata": {},
   "outputs": [
    {
     "data": {
      "text/plain": [
       "[2, 3, 5]"
      ]
     },
     "execution_count": 139,
     "metadata": {},
     "output_type": "execute_result"
    }
   ],
   "source": [
    "prime(1,6)"
   ]
  },
  {
   "cell_type": "markdown",
   "id": "9eb4c6b6",
   "metadata": {},
   "source": [
    "#### 33. Check if a tuple is a palindrome."
   ]
  },
  {
   "cell_type": "code",
   "execution_count": 112,
   "id": "3692d5fa",
   "metadata": {},
   "outputs": [
    {
     "name": "stdout",
     "output_type": "stream",
     "text": [
      "tuple is palindrome\n"
     ]
    }
   ],
   "source": [
    "t=(1,1,1)\n",
    "t1=t[::-1]\n",
    "if(t==t1):\n",
    "    print(\"tuple is palindrome\")\n",
    "else:\n",
    "    print(\"no palindrome\")"
   ]
  },
  {
   "cell_type": "markdown",
   "id": "057cbfee",
   "metadata": {},
   "source": [
    "#### 34. Create a tuple of squares of numbers from 1 to 5."
   ]
  },
  {
   "cell_type": "code",
   "execution_count": 113,
   "id": "dd95d8a6",
   "metadata": {},
   "outputs": [
    {
     "name": "stdout",
     "output_type": "stream",
     "text": [
      "(1, 4, 9, 16, 25)\n"
     ]
    }
   ],
   "source": [
    "l=[i*i for i in range(1,6)]\n",
    "print(tuple(l))"
   ]
  },
  {
   "cell_type": "markdown",
   "id": "b31a86de",
   "metadata": {},
   "source": [
    "#### 35. Filter out all even numbers from a tuple."
   ]
  },
  {
   "cell_type": "code",
   "execution_count": 117,
   "id": "bcfbf08b",
   "metadata": {},
   "outputs": [
    {
     "name": "stdout",
     "output_type": "stream",
     "text": [
      "(3, 5)\n"
     ]
    }
   ],
   "source": [
    "l=[12,3,4,5,6]\n",
    "t=tuple([i for i in l if (i%2!=0)])\n",
    "print(t)"
   ]
  },
  {
   "cell_type": "markdown",
   "id": "c1554434",
   "metadata": {},
   "source": [
    "#### 36. Multiply all elements in a tuple by 2."
   ]
  },
  {
   "cell_type": "code",
   "execution_count": 120,
   "id": "15d91143",
   "metadata": {},
   "outputs": [
    {
     "data": {
      "text/plain": [
       "(2, 4, 6, 8, 10)"
      ]
     },
     "execution_count": 120,
     "metadata": {},
     "output_type": "execute_result"
    }
   ],
   "source": [
    "z=(1,2,3,4,5)\n",
    "tuple(map(lambda x:x*2,z))"
   ]
  },
  {
   "cell_type": "markdown",
   "id": "13ce1379",
   "metadata": {},
   "source": [
    "#### 37. Create a tuple of random numbers."
   ]
  },
  {
   "cell_type": "code",
   "execution_count": 126,
   "id": "c637f024",
   "metadata": {},
   "outputs": [
    {
     "name": "stdout",
     "output_type": "stream",
     "text": [
      "(3, 10, 4, 6, 2, 5, 1, 9, 10, 4)\n"
     ]
    }
   ],
   "source": [
    "import random\n",
    "l=[]\n",
    "for i in range(1,11):\n",
    "    l.append(random.randint(1,10))\n",
    "print(tuple(l))"
   ]
  },
  {
   "cell_type": "markdown",
   "id": "06cd7d3f",
   "metadata": {},
   "source": [
    "#### 38. Check if a tuple is sorted."
   ]
  },
  {
   "cell_type": "code",
   "execution_count": 129,
   "id": "908e5e91",
   "metadata": {},
   "outputs": [
    {
     "name": "stdout",
     "output_type": "stream",
     "text": [
      "tuple is not sorted\n"
     ]
    }
   ],
   "source": [
    "t=(1,2,3,4,0)\n",
    "for i in range(len(t)-1):\n",
    "    if(t[i]<t[i+1]):\n",
    "        f=True\n",
    "    else:\n",
    "        f=False\n",
    "        break\n",
    "if(f==True):\n",
    "    print(\"tuple is sorted\")\n",
    "else:\n",
    "    print(\"tuple is not sorted\")"
   ]
  },
  {
   "cell_type": "markdown",
   "id": "0f177d8a",
   "metadata": {},
   "source": [
    "#### 39. Rotate a tuple to the left by `n` positions."
   ]
  },
  {
   "cell_type": "code",
   "execution_count": 136,
   "id": "60302704",
   "metadata": {},
   "outputs": [
    {
     "name": "stdout",
     "output_type": "stream",
     "text": [
      "(6, 9, 12, 3, 4, 5)\n"
     ]
    }
   ],
   "source": [
    "t=(12,3,4,5,6,9)\n",
    "l=list(t)\n",
    "for i in range(len(l)):\n",
    "    if(len(l)%2==0):\n",
    "        for j in range(3,len(l)):\n",
    "            l[i],l[j]=l[j],l[i]\n",
    "        for k in range(0,3):\n",
    "            l[i],l[k]=l[k],l[i]\n",
    "            \n",
    "        \n",
    "print(tuple(l))"
   ]
  },
  {
   "cell_type": "markdown",
   "id": "bf6c192a",
   "metadata": {},
   "source": [
    "#### 40. Rotate a tuple to the right by `n` positions."
   ]
  },
  {
   "cell_type": "code",
   "execution_count": 137,
   "id": "1a26cdc9",
   "metadata": {},
   "outputs": [
    {
     "name": "stdout",
     "output_type": "stream",
     "text": [
      "(5, 6, 7, 1, 4)\n"
     ]
    }
   ],
   "source": [
    "l=(1,4,5,6,7)\n",
    "l=l[-3:]+l[:-3]\n",
    "print(l)"
   ]
  },
  {
   "cell_type": "markdown",
   "id": "caa046bb",
   "metadata": {},
   "source": [
    "#### 41. Create a tuple of the first 5 Fibonacci numbers."
   ]
  },
  {
   "cell_type": "code",
   "execution_count": 140,
   "id": "9d08b5c9",
   "metadata": {},
   "outputs": [
    {
     "name": "stdout",
     "output_type": "stream",
     "text": [
      "0 1 1 2 3 "
     ]
    }
   ],
   "source": [
    "def printFibonacciNumbers(n):\n",
    "\n",
    "    f1 = 0\n",
    "    f2 = 1\n",
    "    if (n < 1):\n",
    "        return\n",
    "    print(f1, end=\" \")\n",
    "    for x in range(1, n):\n",
    "        print(f2, end=\" \")\n",
    "        next = f1 + f2\n",
    "        f1 = f2\n",
    "        f2 = next\n",
    "\n",
    "\n",
    "# Driven code\n",
    "printFibonacciNumbers(5)\n",
    "\n"
   ]
  },
  {
   "cell_type": "markdown",
   "id": "b933efec",
   "metadata": {},
   "source": [
    "#### 42. Create a tuple from user input."
   ]
  },
  {
   "cell_type": "code",
   "execution_count": 141,
   "id": "b32779be",
   "metadata": {},
   "outputs": [
    {
     "name": "stdout",
     "output_type": "stream",
     "text": [
      "enter element23\n",
      "enter element45\n",
      "enter element67\n",
      "enter element89\n",
      "enter element21\n",
      "(23, 45, 67, 89, 21)\n"
     ]
    }
   ],
   "source": [
    "t=[]\n",
    "for i in range(5):\n",
    "    a=int(input(\"enter element\"))\n",
    "    t.append(a)\n",
    "print(tuple(t))"
   ]
  },
  {
   "cell_type": "markdown",
   "id": "c805af0d",
   "metadata": {},
   "source": [
    "#### 43. Swap two elements in a tuple."
   ]
  },
  {
   "cell_type": "code",
   "execution_count": 147,
   "id": "b3081edd",
   "metadata": {},
   "outputs": [
    {
     "name": "stdout",
     "output_type": "stream",
     "text": [
      "enter index13\n",
      "enter index22\n",
      "(1, 2, 4, 3)\n"
     ]
    }
   ],
   "source": [
    "l=(1,2,3,4)\n",
    "t=list(l)\n",
    "index1=int(input(\"enter index1\"))\n",
    "index2=int(input(\"enter index2\"))\n",
    "temp1=t[index1]\n",
    "t[index1]=t[index2]\n",
    "t[index2]=temp1\n",
    "print(tuple(t))"
   ]
  },
  {
   "cell_type": "markdown",
   "id": "1d23c015",
   "metadata": {},
   "source": [
    "#### 44. Reverse the elements of a tuple."
   ]
  },
  {
   "cell_type": "code",
   "execution_count": 149,
   "id": "ef2ad4ac",
   "metadata": {},
   "outputs": [
    {
     "name": "stdout",
     "output_type": "stream",
     "text": [
      "(5, 4, 3, 12)\n"
     ]
    }
   ],
   "source": [
    "t=(12,3,4,5)\n",
    "t1=t[::-1]\n",
    "print(t1)"
   ]
  },
  {
   "cell_type": "markdown",
   "id": "f3474996",
   "metadata": {},
   "source": [
    "#### 45. Create a tuple of the first `n` powers of 2."
   ]
  },
  {
   "cell_type": "code",
   "execution_count": 153,
   "id": "6cfb751a",
   "metadata": {},
   "outputs": [
    {
     "data": {
      "text/plain": [
       "(2, 4, 8, 16, 32)"
      ]
     },
     "execution_count": 153,
     "metadata": {},
     "output_type": "execute_result"
    }
   ],
   "source": [
    "tuple([pow(2,i) for i in range(1,6)])"
   ]
  },
  {
   "cell_type": "markdown",
   "id": "788da61f",
   "metadata": {},
   "source": [
    "#### 46. Find the longest string in a tuple of strings."
   ]
  },
  {
   "cell_type": "code",
   "execution_count": 154,
   "id": "eec60dcb",
   "metadata": {},
   "outputs": [
    {
     "name": "stdout",
     "output_type": "stream",
     "text": [
      "datasciencemastes\n"
     ]
    }
   ],
   "source": [
    "l=('pwskills', 'datasciencemastes', 'science')\n",
    "max1=\"\"\n",
    "for i in l:\n",
    "    if(len(i)>len(max1)):\n",
    "        max1=i\n",
    "print(max1)"
   ]
  },
  {
   "cell_type": "markdown",
   "id": "460c65a9",
   "metadata": {},
   "source": [
    "#### 47. Find the shortest string in a tuple of strings."
   ]
  },
  {
   "cell_type": "code",
   "execution_count": 155,
   "id": "e9cc61cf",
   "metadata": {},
   "outputs": [
    {
     "name": "stdout",
     "output_type": "stream",
     "text": [
      "data\n"
     ]
    }
   ],
   "source": [
    "l=('pwskills', 'datasciencemastes', 'data')\n",
    "short=l[0]\n",
    "for i in l:\n",
    "    if(len(i)<len(short)):\n",
    "        short=i\n",
    "print(short)"
   ]
  },
  {
   "cell_type": "markdown",
   "id": "d1a3a8eb",
   "metadata": {},
   "source": [
    "#### 48. Create a tuple of the first `n` triangular numbers."
   ]
  },
  {
   "cell_type": "code",
   "execution_count": 158,
   "id": "4f21eb2a",
   "metadata": {},
   "outputs": [
    {
     "name": "stdout",
     "output_type": "stream",
     "text": [
      "tuple of the first 5 triangular numbers: (1, 3, 6, 10, 15)\n"
     ]
    }
   ],
   "source": [
    "def traingle(n):\n",
    "    return [i * (i + 1) // 2 for i in range(1, n + 1)]\n",
    "n = 5\n",
    "traingles = traingle(n)\n",
    "print(\"tuple of the first\", n, \"triangular numbers:\", tuple(traingles))"
   ]
  },
  {
   "cell_type": "markdown",
   "id": "d6a57904",
   "metadata": {},
   "source": [
    "#### 49. Check if a tuple contains another tuple as a subsequence."
   ]
  },
  {
   "cell_type": "code",
   "execution_count": 160,
   "id": "b0f0b3e9",
   "metadata": {},
   "outputs": [
    {
     "name": "stdout",
     "output_type": "stream",
     "text": [
      "Yes\n"
     ]
    }
   ],
   "source": [
    "test_list = (9, 4, 5, 8, 10)\n",
    "sub_list = (10, 5, 4)\n",
    "\n",
    "\n",
    "flag = 0\n",
    "if(all(x in test_list for x in sub_list)):\n",
    "    flag = 1\n",
    "\n",
    "if (flag):\n",
    "    print(\"Yes\")\n",
    "else:\n",
    "    print(\"No\")\n"
   ]
  },
  {
   "cell_type": "markdown",
   "id": "0a5b4b62",
   "metadata": {},
   "source": [
    "#### 50. Create a tuple of alternating 1s and 0s of length `n`."
   ]
  },
  {
   "cell_type": "code",
   "execution_count": 162,
   "id": "dd2ed6a6",
   "metadata": {},
   "outputs": [
    {
     "name": "stdout",
     "output_type": "stream",
     "text": [
      "(1, 0, 1, 0, 1, 0, 1, 0, 1)\n"
     ]
    }
   ],
   "source": [
    "l=[]\n",
    "for i in range(1,10):\n",
    "    if(i%2==0):\n",
    "        l.append(0)\n",
    "    else:\n",
    "        l.append(1)\n",
    "print(tuple(l))"
   ]
  },
  {
   "cell_type": "code",
   "execution_count": null,
   "id": "c32afee6",
   "metadata": {},
   "outputs": [],
   "source": []
  }
 ],
 "metadata": {
  "kernelspec": {
   "display_name": "Python 3 (ipykernel)",
   "language": "python",
   "name": "python3"
  },
  "language_info": {
   "codemirror_mode": {
    "name": "ipython",
    "version": 3
   },
   "file_extension": ".py",
   "mimetype": "text/x-python",
   "name": "python",
   "nbconvert_exporter": "python",
   "pygments_lexer": "ipython3",
   "version": "3.10.9"
  }
 },
 "nbformat": 4,
 "nbformat_minor": 5
}
