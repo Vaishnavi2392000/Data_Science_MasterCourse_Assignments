{
 "cells": [
  {
   "cell_type": "markdown",
   "id": "6e1842e3",
   "metadata": {},
   "source": [
    "# Problems Based on: 'Array'"
   ]
  },
  {
   "cell_type": "raw",
   "id": "9e152836",
   "metadata": {},
   "source": [
    "1. Given an array, check if it contains any duplicates or not.\n",
    "arr = [1, 2, 4, 2, 5, 9]\n",
    "Output = True"
   ]
  },
  {
   "cell_type": "code",
   "execution_count": 1,
   "id": "b9704b36",
   "metadata": {},
   "outputs": [],
   "source": [
    "# space complexity :O(1)\n",
    "#time complexity: O(n)\n",
    "\n",
    "arr = [1,2,1,2]\n",
    "f=False\n",
    "def Check_Duplicates(arr):\n",
    "    if(len(arr)<=1):\n",
    "        return 'contains only one element!'\n",
    "    else:\n",
    "        for i in arr:\n",
    "            if(arr.count(i)>1):\n",
    "                f=True\n",
    "                break\n",
    "\n",
    "            else:\n",
    "                 f=False\n",
    "        if(f==True):\n",
    "             print(True)\n",
    "        else:\n",
    "             print(False)"
   ]
  },
  {
   "cell_type": "code",
   "execution_count": 2,
   "id": "9b0b49e8",
   "metadata": {},
   "outputs": [
    {
     "name": "stdout",
     "output_type": "stream",
     "text": [
      "True\n"
     ]
    }
   ],
   "source": [
    "Check_Duplicates(arr)"
   ]
  },
  {
   "cell_type": "raw",
   "id": "55510460",
   "metadata": {},
   "source": [
    "2. Given an array and an integer k, rotate the array to the right by k steps.\n",
    "arr = [1, 2, 3, 4, 5, 6, 7] k = 3\n",
    "Output = [5, 6, 7, 1, 2, 3, 4]"
   ]
  },
  {
   "cell_type": "code",
   "execution_count": 3,
   "id": "247f38fc",
   "metadata": {},
   "outputs": [],
   "source": [
    "#BRUTE Force Approach\n",
    "# time comeplexity: O(n)\n",
    "#space complexity: O(n)\n",
    "\n",
    "\n",
    "arr = [1, 2, 3, 4, 5, 6, 7]\n",
    "k = 3\n",
    "def RotateToRightByK(arr,k):\n",
    "    iterable=len(arr)-k\n",
    "    arr1=[]\n",
    "    for i in range(iterable,len(arr)):\n",
    "        arr1.append(arr[i])\n",
    "    for i in range(0,iterable):\n",
    "        arr1.append(arr[i])\n",
    "    return(arr1)"
   ]
  },
  {
   "cell_type": "code",
   "execution_count": 4,
   "id": "ffdb4d9d",
   "metadata": {},
   "outputs": [
    {
     "data": {
      "text/plain": [
       "[5, 6, 7, 1, 2, 3, 4]"
      ]
     },
     "execution_count": 4,
     "metadata": {},
     "output_type": "execute_result"
    }
   ],
   "source": [
    "RotateToRightByK(arr,k)"
   ]
  },
  {
   "cell_type": "code",
   "execution_count": 5,
   "id": "b8069da2",
   "metadata": {},
   "outputs": [],
   "source": [
    "# Optimized Approach\n",
    "# time complexity:O(n)\n",
    "#space complexity:O(1)\n",
    "\n",
    "arr = [1,2,3,4,5,6,7]\n",
    "k = 3\n",
    "def OptimizedRotateArray(arr,k):\n",
    "    n=len(arr)\n",
    "    k=k%n\n",
    "    for i in range(0,n):\n",
    "        if(i<k):\n",
    "            print(arr[n+i-k],end=' ')\n",
    "        else:\n",
    "            print(arr[i-k],end=' ')  "
   ]
  },
  {
   "cell_type": "code",
   "execution_count": 6,
   "id": "edc8b0db",
   "metadata": {},
   "outputs": [
    {
     "name": "stdout",
     "output_type": "stream",
     "text": [
      "5 6 7 1 2 3 4 "
     ]
    }
   ],
   "source": [
    "OptimizedRotateArray(arr,k)"
   ]
  },
  {
   "cell_type": "raw",
   "id": "0ee4960b",
   "metadata": {},
   "source": [
    "3. Reverse the given array in-place, means without using any extra data structure.\n",
    "arr = [2, 4, 5, 7, 9, 12]\n",
    "Output = [12, 9, 7, 5, 4, 2]"
   ]
  },
  {
   "cell_type": "code",
   "execution_count": 7,
   "id": "e3f89b1f",
   "metadata": {},
   "outputs": [],
   "source": [
    "# time complexity :O(n)\n",
    "#space complexity:O(1)\n",
    "arr = [2, 4, 5, 7, 9, 12,3]\n",
    "def ReverseArray(arr):\n",
    "    i=0\n",
    "    j=len(arr)-1\n",
    "    while(i<=j):\n",
    "        temp=arr[i]\n",
    "        arr[i]=arr[j]\n",
    "        arr[j]=temp\n",
    "        i+=1\n",
    "        j-=1\n",
    "    return arr\n"
   ]
  },
  {
   "cell_type": "code",
   "execution_count": 8,
   "id": "72753ca2",
   "metadata": {},
   "outputs": [
    {
     "data": {
      "text/plain": [
       "[3, 12, 9, 7, 5, 4, 2]"
      ]
     },
     "execution_count": 8,
     "metadata": {},
     "output_type": "execute_result"
    }
   ],
   "source": [
    "ReverseArray(arr)"
   ]
  },
  {
   "cell_type": "raw",
   "id": "07238991",
   "metadata": {},
   "source": [
    "4. Given an array of integers, find the maximum element in an array\n",
    "arr = [10, 5, 20, 8, 15]\n",
    "\n",
    "Output = 20"
   ]
  },
  {
   "cell_type": "code",
   "execution_count": 9,
   "id": "da4c4239",
   "metadata": {},
   "outputs": [],
   "source": [
    "arr = [10, 5, 20, 8, 15]\n",
    "def MaxElement(arr):\n",
    "    max1=0\n",
    "    for i in arr:\n",
    "        if(i>max1):\n",
    "            max1=i\n",
    "    return max1\n",
    "    "
   ]
  },
  {
   "cell_type": "code",
   "execution_count": 10,
   "id": "5678eb3d",
   "metadata": {},
   "outputs": [
    {
     "data": {
      "text/plain": [
       "20"
      ]
     },
     "execution_count": 10,
     "metadata": {},
     "output_type": "execute_result"
    }
   ],
   "source": [
    "MaxElement(arr)"
   ]
  },
  {
   "cell_type": "raw",
   "id": "82ed51b0",
   "metadata": {},
   "source": [
    "5. Given a sorted array, remove the duplicate element without using any extra data structure.\n",
    "arr1 = [1, 1, 2, 2, 2, 3, 3, 4, 4, 4, 5, 5]\n",
    "Output = [1, 2, 3, 4, 5]"
   ]
  },
  {
   "cell_type": "code",
   "execution_count": 7,
   "id": "a1b7ca56",
   "metadata": {},
   "outputs": [],
   "source": [
    "#time complexity :O(n)\n",
    "#space complexity:O(1)\n",
    "arr1 = [1, 1, 2, 2, 2, 3, 3, 4, 4, 4, 5, 5]\n",
    "def RemoveDuplicates(arr1):\n",
    "    i=0\n",
    "    for j in range(1,len(arr1)-1):\n",
    "        if(arr1[j]!=arr1[i]):\n",
    "            i+=1\n",
    "            arr1[i]=arr1[j]\n",
    "    print(arr1[0:i+1])"
   ]
  },
  {
   "cell_type": "code",
   "execution_count": 8,
   "id": "47c381b8",
   "metadata": {},
   "outputs": [
    {
     "name": "stdout",
     "output_type": "stream",
     "text": [
      "[1, 2, 3, 4, 5]\n"
     ]
    }
   ],
   "source": [
    "RemoveDuplicates(arr1)"
   ]
  },
  {
   "cell_type": "code",
   "execution_count": null,
   "id": "f739eb4e",
   "metadata": {},
   "outputs": [],
   "source": []
  },
  {
   "cell_type": "code",
   "execution_count": null,
   "id": "e3452632",
   "metadata": {},
   "outputs": [],
   "source": []
  },
  {
   "cell_type": "code",
   "execution_count": null,
   "id": "bf4bd78a",
   "metadata": {},
   "outputs": [],
   "source": []
  },
  {
   "cell_type": "code",
   "execution_count": null,
   "id": "e7d54e44",
   "metadata": {},
   "outputs": [],
   "source": []
  },
  {
   "cell_type": "code",
   "execution_count": null,
   "id": "9261fcf6",
   "metadata": {},
   "outputs": [],
   "source": []
  }
 ],
 "metadata": {
  "kernelspec": {
   "display_name": "Python 3 (ipykernel)",
   "language": "python",
   "name": "python3"
  },
  "language_info": {
   "codemirror_mode": {
    "name": "ipython",
    "version": 3
   },
   "file_extension": ".py",
   "mimetype": "text/x-python",
   "name": "python",
   "nbconvert_exporter": "python",
   "pygments_lexer": "ipython3",
   "version": "3.10.8"
  }
 },
 "nbformat": 4,
 "nbformat_minor": 5
}
